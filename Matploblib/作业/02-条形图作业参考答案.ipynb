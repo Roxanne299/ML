{
 "cells": [
  {
   "cell_type": "markdown",
   "metadata": {},
   "source": [
    "# 作业要求：\n",
    "1. 以下的data数据是三类学校在2014-2018（包含2018）的报名人数，用DataFrame构建。\n",
    "2. 把年份当做x轴，报名人数当做y轴的值。\n",
    "3. 绘制分组条形图，同一个年份的放在一个组。\n",
    "4. 图例横向排列（提示：用legend的ncol参数，ncol表示的是把图例分成多少列显示）\n",
    "5. 把报名人数在图上绘制出来。"
   ]
  },
  {
   "cell_type": "code",
   "execution_count": 51,
   "metadata": {},
   "outputs": [],
   "source": [
    "import matplotlib.pyplot as plt\n",
    "import pandas as pd\n",
    "import numpy as np\n",
    "from matplotlib import font_manager"
   ]
  },
  {
   "cell_type": "code",
   "execution_count": 28,
   "metadata": {},
   "outputs": [
    {
     "data": {
      "text/html": [
       "<div>\n",
       "<style scoped>\n",
       "    .dataframe tbody tr th:only-of-type {\n",
       "        vertical-align: middle;\n",
       "    }\n",
       "\n",
       "    .dataframe tbody tr th {\n",
       "        vertical-align: top;\n",
       "    }\n",
       "\n",
       "    .dataframe thead th {\n",
       "        text-align: right;\n",
       "    }\n",
       "</style>\n",
       "<table border=\"1\" class=\"dataframe\">\n",
       "  <thead>\n",
       "    <tr style=\"text-align: right;\">\n",
       "      <th></th>\n",
       "      <th>普通本科</th>\n",
       "      <th>中等职业教育</th>\n",
       "      <th>普通高中</th>\n",
       "    </tr>\n",
       "  </thead>\n",
       "  <tbody>\n",
       "    <tr>\n",
       "      <th>0</th>\n",
       "      <td>721</td>\n",
       "      <td>620</td>\n",
       "      <td>797</td>\n",
       "    </tr>\n",
       "    <tr>\n",
       "      <th>1</th>\n",
       "      <td>738</td>\n",
       "      <td>601</td>\n",
       "      <td>797</td>\n",
       "    </tr>\n",
       "    <tr>\n",
       "      <th>2</th>\n",
       "      <td>749</td>\n",
       "      <td>593</td>\n",
       "      <td>803</td>\n",
       "    </tr>\n",
       "    <tr>\n",
       "      <th>3</th>\n",
       "      <td>761</td>\n",
       "      <td>582</td>\n",
       "      <td>800</td>\n",
       "    </tr>\n",
       "    <tr>\n",
       "      <th>4</th>\n",
       "      <td>791</td>\n",
       "      <td>557</td>\n",
       "      <td>793</td>\n",
       "    </tr>\n",
       "  </tbody>\n",
       "</table>\n",
       "</div>"
      ],
      "text/plain": [
       "   普通本科  中等职业教育  普通高中\n",
       "0   721     620   797\n",
       "1   738     601   797\n",
       "2   749     593   803\n",
       "3   761     582   800\n",
       "4   791     557   793"
      ]
     },
     "execution_count": 28,
     "metadata": {},
     "output_type": "execute_result"
    }
   ],
   "source": [
    "data = {\n",
    "    \"普通本科\":[721,738,749,761,791],\n",
    "    \"中等职业教育\": [620,601,593,582,557],\n",
    "    \"普通高中\": [797,797,803,800,793]\n",
    "}\n",
    "df = pd.DataFrame(data=data)\n",
    "df"
   ]
  },
  {
   "cell_type": "code",
   "execution_count": 142,
   "metadata": {},
   "outputs": [
    {
     "data": {
      "image/png": "[encoded data removed]",
      "text/plain": [
       "<Figure size 1080x360 with 1 Axes>"
      ]
     },
     "metadata": {
      "needs_background": "light"
     },
     "output_type": "display_data"
    }
   ],
   "source": [
    "font = font_manager.FontProperties(fname=r\"C:\\\\Windows\\\\Fonts\\\\msyh.ttc\",size=12)\n",
    "# 设置图的大小\n",
    "plt.figure(figsize=(15,5))\n",
    "bar_width = 0.2\n",
    "# x轴的刻度\n",
    "xticks = np.arange(2014,2019)\n",
    "# 循环列，按照年份绘制条形图\n",
    "for index,column in enumerate(df.columns):\n",
    "    values = df[column]\n",
    "    c_xticks = xticks+bar_width*(index-1)\n",
    "    plt.bar(c_xticks,values,width=bar_width,label=column)\n",
    "    for x,y in zip(c_xticks,values):\n",
    "        plt.annotate(y,xy=(x,y),xytext=(x-0.05,y+10))\n",
    "# 设置Y轴顶部的最大值\n",
    "plt.ylim(top=1000)\n",
    "# 设置Y轴的标题显示，默认是垂直显示，使用rotation=horizontal变成横向显示，并且通过y修改在y轴的位置\n",
    "plt.ylabel(\"万人\",fontproperties=font,rotation=\"horizontal\")\n",
    "# 通过set_label_coords才能灵活设置ylabel的位置。以下代码可选实现（不懂删掉没有任何关系）\n",
    "plt.gca().yaxis.set_label_coords(-0.02,1.02)\n",
    "# 设置图例，ncol表示要把图例显示成几列，loc表示在Axes中的哪个位置\n",
    "plt.legend(prop=font,ncol=3,loc='upper right')\n",
    "# 设置标题\n",
    "plt.title(\"2014-2018普通本科、中等职业教育、普通高中招生人数\",fontproperties=font)\n",
    "plt.show()"
   ]
  },
  {
   "cell_type": "code",
   "execution_count": null,
   "metadata": {},
   "outputs": [],
   "source": [
    "b"
   ]
  },
  {
   "cell_type": "code",
   "execution_count": null,
   "metadata": {},
   "outputs": [],
   "source": []
  },
  {
   "cell_type": "code",
   "execution_count": null,
   "metadata": {},
   "outputs": [],
   "source": []
  },
  {
   "cell_type": "code",
   "execution_count": null,
   "metadata": {},
   "outputs": [],
   "source": []
  },
  {
   "cell_type": "code",
   "execution_count": null,
   "metadata": {},
   "outputs": [],
   "source": []
  },
  {
   "cell_type": "code",
   "execution_count": null,
   "metadata": {},
   "outputs": [],
   "source": []
  },
  {
   "cell_type": "code",
   "execution_count": null,
   "metadata": {},
   "outputs": [],
   "source": []
  },
  {
   "cell_type": "code",
   "execution_count": 33,
   "metadata": {
    "ExecuteTime": {
     "end_time": "2022-10-28T07:31:22.471463Z",
     "start_time": "2022-10-28T07:31:22.464363Z"
    }
   },
   "outputs": [],
   "source": [
    "import numpy as np\n",
    "import pandas as pd\n",
    "import matplotlib.pyplot as plt\n",
    "from  matplotlib import font_manager \n",
    "font = font_manager.FontProperties(fname=r\"C:\\\\Windows\\\\Fonts\\\\msyh.ttc\",size=20)"
   ]
  },
  {
   "cell_type": "code",
   "execution_count": 35,
   "metadata": {
    "ExecuteTime": {
     "end_time": "2022-10-28T07:31:36.855608Z",
     "start_time": "2022-10-28T07:31:36.710505Z"
    }
   },
   "outputs": [
    {
     "data": {
      "image/png": "[encoded data removed]",
      "text/plain": [
       "<Figure size 2000x1000 with 1 Axes>"
      ]
     },
     "metadata": {},
     "output_type": "display_data"
    }
   ],
   "source": [
    "data = {\n",
    "    \"普通本科\":[721,738,749,761,791],\n",
    "    \"中等职业教育\":[620,601,593,582,557],\n",
    "    \"普通高中\":[797,797,803,883,793]\n",
    "}\n",
    "data_df = pd.DataFrame(data)\n",
    "bar_width = 0.2\n",
    "xticks = np.arange(0,5*0.8,0.8)\n",
    "\n",
    "x = list(data.keys())\n",
    "y = list(data.values())\n",
    "plt.figure(figsize=(20,10))\n",
    "for index,columns in enumerate(data_df.columns):\n",
    "    plt.bar((-1 + index)*bar_width + xticks,data_df[columns],width=bar_width,label=columns)\n",
    "    for i,y in enumerate(data_df[columns]):\n",
    "        plt.annotate(y,xy=((-1 + index)*bar_width + xticks[i],y),xytext=())\n",
    "plt.xticks(xticks,[2014,2015,2016,2017,2018])\n",
    "plt.ylabel(\"万人\",font = font)\n",
    "plt.legend(prop=font,ncol=3)\n",
    "plt.show()"
   ]
  },
  {
   "cell_type": "code",
   "execution_count": null,
   "metadata": {},
   "outputs": [],
   "source": []
  },
  {
   "cell_type": "code",
   "execution_count": null,
   "metadata": {},
   "outputs": [],
   "source": []
  },
  {
   "cell_type": "code",
   "execution_count": null,
   "metadata": {},
   "outputs": [],
   "source": []
  },
  {
   "cell_type": "code",
   "execution_count": null,
   "metadata": {},
   "outputs": [],
   "source": []
  },
  {
   "cell_type": "code",
   "execution_count": null,
   "metadata": {},
   "outputs": [],
   "source": []
  },
  {
   "cell_type": "code",
   "execution_count": null,
   "metadata": {},
   "outputs": [],
   "source": []
  },
  {
   "cell_type": "code",
   "execution_count": null,
   "metadata": {},
   "outputs": [],
   "source": []
  }
 ],
 "metadata": {
  "kernelspec": {
   "display_name": "Python 3 (ipykernel)",
   "language": "python",
   "name": "python3"
  },
  "language_info": {
   "codemirror_mode": {
    "name": "ipython",
    "version": 3
   },
   "file_extension": ".py",
   "mimetype": "text/x-python",
   "name": "python",
   "nbconvert_exporter": "python",
   "pygments_lexer": "ipython3",
   "version": "3.9.13"
  },
  "toc": {
   "base_numbering": 1,
   "nav_menu": {},
   "number_sections": true,
   "sideBar": true,
   "skip_h1_title": false,
   "title_cell": "Table of Contents",
   "title_sidebar": "Contents",
   "toc_cell": false,
   "toc_position": {},
   "toc_section_display": true,
   "toc_window_display": false
  },
  "varInspector": {
   "cols": {
    "lenName": 16,
    "lenType": 16,
    "lenVar": 40
   },
   "kernels_config": {
    "python": {
     "delete_cmd_postfix": "",
     "delete_cmd_prefix": "del ",
     "library": "var_list.py",
     "varRefreshCmd": "print(var_dic_list())"
    },
    "r": {
     "delete_cmd_postfix": ") ",
     "delete_cmd_prefix": "rm(",
     "library": "var_list.r",
     "varRefreshCmd": "cat(var_dic_list()) "
    }
   },
   "types_to_exclude": [
    "module",
    "function",
    "builtin_function_or_method",
    "instance",
    "_Feature"
   ],
   "window_display": false
  }
 },
 "nbformat": 4,
 "nbformat_minor": 2
}
