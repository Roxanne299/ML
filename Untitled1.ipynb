{
 "cells": [
  {
   "cell_type": "code",
   "execution_count": 1,
   "id": "40b802a2",
   "metadata": {
    "ExecuteTime": {
     "end_time": "2022-10-19T13:44:42.088983Z",
     "start_time": "2022-10-19T13:44:40.846188Z"
    }
   },
   "outputs": [
    {
     "name": "stdout",
     "output_type": "stream",
     "text": [
      "Looking in indexes: https://pypi.douban.com/simple/\n",
      "Requirement already satisfied: hbase-thrift in d:\\bin\\python\\lib\\site-packages (0.20.4)\n",
      "Requirement already satisfied: Thrift in d:\\bin\\python\\lib\\site-packages (from hbase-thrift) (0.16.0)\n",
      "Requirement already satisfied: six>=1.7.2 in d:\\bin\\python\\lib\\site-packages (from Thrift->hbase-thrift) (1.16.0)\n",
      "Note: you may need to restart the kernel to use updated packages.\n"
     ]
    },
    {
     "name": "stderr",
     "output_type": "stream",
     "text": [
      "\n",
      "[notice] A new release of pip available: 22.2.2 -> 22.3\n",
      "[notice] To update, run: python.exe -m pip install --upgrade pip\n"
     ]
    }
   ],
   "source": [
    "pip install hbase-thrift"
   ]
  },
  {
   "cell_type": "code",
   "execution_count": 2,
   "id": "656be48f",
   "metadata": {
    "ExecuteTime": {
     "end_time": "2022-10-19T13:44:42.390341Z",
     "start_time": "2022-10-19T13:44:42.101340Z"
    }
   },
   "outputs": [],
   "source": [
    "from thrift.transport import TSocket\n",
    "from hbase import Hbase\n",
    "from hbase.ttypes import *"
   ]
  },
  {
   "cell_type": "code",
   "execution_count": 3,
   "id": "fa817d8f",
   "metadata": {
    "ExecuteTime": {
     "end_time": "2022-10-19T13:44:42.445217Z",
     "start_time": "2022-10-19T13:44:42.401358Z"
    },
    "scrolled": true
   },
   "outputs": [],
   "source": [
    "# 建立连接\n",
    "transport = TSocket.TSocket('39.101.133.42', 9090)\n",
    "protocol = TBinaryProtocol.TBinaryProtocol(transport)\n",
    "client = Hbase.Client(protocol)\n",
    "transport.open()"
   ]
  },
  {
   "cell_type": "code",
   "execution_count": 4,
   "id": "edc1053a",
   "metadata": {
    "ExecuteTime": {
     "end_time": "2022-10-19T13:44:48.790436Z",
     "start_time": "2022-10-19T13:44:46.112930Z"
    }
   },
   "outputs": [
    {
     "ename": "AlreadyExists",
     "evalue": "AlreadyExists(message='table name already in use')",
     "output_type": "error",
     "traceback": [
      "\u001b[1;31m---------------------------------------------------------------------------\u001b[0m",
      "\u001b[1;31mAlreadyExists\u001b[0m                             Traceback (most recent call last)",
      "Cell \u001b[1;32mIn [4], line 3\u001b[0m\n\u001b[0;32m      1\u001b[0m \u001b[38;5;66;03m#创建表 插入记录\u001b[39;00m\n\u001b[0;32m      2\u001b[0m contents \u001b[38;5;241m=\u001b[39m ColumnDescriptor(name\u001b[38;5;241m=\u001b[39m\u001b[38;5;124m'\u001b[39m\u001b[38;5;124minfo:\u001b[39m\u001b[38;5;124m'\u001b[39m, maxVersions\u001b[38;5;241m=\u001b[39m\u001b[38;5;241m1\u001b[39m)\n\u001b[1;32m----> 3\u001b[0m \u001b[43mclient\u001b[49m\u001b[38;5;241;43m.\u001b[39;49m\u001b[43mcreateTable\u001b[49m\u001b[43m(\u001b[49m\u001b[38;5;124;43m'\u001b[39;49m\u001b[38;5;124;43mstudent\u001b[39;49m\u001b[38;5;124;43m'\u001b[39;49m\u001b[43m,\u001b[49m\u001b[43m \u001b[49m\u001b[43m[\u001b[49m\u001b[43mcontents\u001b[49m\u001b[43m]\u001b[49m\u001b[43m)\u001b[49m\n\u001b[0;32m      4\u001b[0m row \u001b[38;5;241m=\u001b[39m \u001b[38;5;124m'\u001b[39m\u001b[38;5;124m1\u001b[39m\u001b[38;5;124m'\u001b[39m\n\u001b[0;32m      5\u001b[0m mutations \u001b[38;5;241m=\u001b[39m [Mutation(column\u001b[38;5;241m=\u001b[39m\u001b[38;5;124m\"\u001b[39m\u001b[38;5;124minfo:name\u001b[39m\u001b[38;5;124m\"\u001b[39m, value\u001b[38;5;241m=\u001b[39m\u001b[38;5;124m\"\u001b[39m\u001b[38;5;124mzgy\u001b[39m\u001b[38;5;124m\"\u001b[39m),Mutation(column\u001b[38;5;241m=\u001b[39m\u001b[38;5;124m\"\u001b[39m\u001b[38;5;124minfo:age\u001b[39m\u001b[38;5;124m\"\u001b[39m, value\u001b[38;5;241m=\u001b[39m\u001b[38;5;124m\"\u001b[39m\u001b[38;5;124m14\u001b[39m\u001b[38;5;124m\"\u001b[39m)]\n",
      "File \u001b[1;32mD:\\bin\\python\\lib\\site-packages\\hbase\\Hbase.py:853\u001b[0m, in \u001b[0;36mClient.createTable\u001b[1;34m(self, tableName, columnFamilies)\u001b[0m\n\u001b[0;32m    836\u001b[0m \u001b[38;5;124;03m\"\"\"\u001b[39;00m\n\u001b[0;32m    837\u001b[0m \u001b[38;5;124;03mCreate a table with the specified column families.  The name\u001b[39;00m\n\u001b[0;32m    838\u001b[0m \u001b[38;5;124;03mfield for each ColumnDescriptor must be set and must end in a\u001b[39;00m\n\u001b[1;32m   (...)\u001b[0m\n\u001b[0;32m    850\u001b[0m \u001b[38;5;124;03m - columnFamilies\u001b[39;00m\n\u001b[0;32m    851\u001b[0m \u001b[38;5;124;03m\"\"\"\u001b[39;00m\n\u001b[0;32m    852\u001b[0m \u001b[38;5;28mself\u001b[39m\u001b[38;5;241m.\u001b[39msend_createTable(tableName, columnFamilies)\n\u001b[1;32m--> 853\u001b[0m \u001b[38;5;28;43mself\u001b[39;49m\u001b[38;5;241;43m.\u001b[39;49m\u001b[43mrecv_createTable\u001b[49m\u001b[43m(\u001b[49m\u001b[43m)\u001b[49m\n",
      "File \u001b[1;32mD:\\bin\\python\\lib\\site-packages\\hbase\\Hbase.py:879\u001b[0m, in \u001b[0;36mClient.recv_createTable\u001b[1;34m(self)\u001b[0m\n\u001b[0;32m    877\u001b[0m   \u001b[38;5;28;01mraise\u001b[39;00m result\u001b[38;5;241m.\u001b[39mia\n\u001b[0;32m    878\u001b[0m \u001b[38;5;28;01mif\u001b[39;00m result\u001b[38;5;241m.\u001b[39mexist \u001b[38;5;241m!=\u001b[39m \u001b[38;5;28;01mNone\u001b[39;00m:\n\u001b[1;32m--> 879\u001b[0m   \u001b[38;5;28;01mraise\u001b[39;00m result\u001b[38;5;241m.\u001b[39mexist\n\u001b[0;32m    880\u001b[0m \u001b[38;5;28;01mreturn\u001b[39;00m\n",
      "\u001b[1;31mAlreadyExists\u001b[0m: AlreadyExists(message='table name already in use')"
     ]
    }
   ],
   "source": [
    "#创建表 插入记录\n",
    "contents = ColumnDescriptor(name='info:', maxVersions=1)\n",
    "client.createTable('student', [contents])\n",
    "row = '1'\n",
    "mutations = [Mutation(column=\"info:name\", value=\"zgy\"),Mutation(column=\"info:age\", value=\"14\")]\n",
    "client.mutateRow('student', row, mutations)"
   ]
  },
  {
   "cell_type": "code",
   "execution_count": 20,
   "id": "c60b4ddc",
   "metadata": {
    "ExecuteTime": {
     "end_time": "2022-10-18T11:15:42.360962Z",
     "start_time": "2022-10-18T11:15:42.285330Z"
    }
   },
   "outputs": [
    {
     "name": "stdout",
     "output_type": "stream",
     "text": [
      "['student', 'test', 'test1', 'test2', 'test4']\n"
     ]
    }
   ],
   "source": [
    "#获取表名\n",
    "print(client.getTableNames())"
   ]
  },
  {
   "cell_type": "code",
   "execution_count": 21,
   "id": "203bdaa5",
   "metadata": {
    "ExecuteTime": {
     "end_time": "2022-10-18T11:15:44.832208Z",
     "start_time": "2022-10-18T11:15:44.516448Z"
    }
   },
   "outputs": [
    {
     "name": "stdout",
     "output_type": "stream",
     "text": [
      "the row is  1\n",
      "the name is  zgy\n",
      "the age is  14\n"
     ]
    }
   ],
   "source": [
    "#列举记录\n",
    "tableName = 'student'\n",
    "rowKey = '1'\n",
    "result = client.getRow(tableName, rowKey)\n",
    "for r in result:\n",
    "    print ('the row is ', r.row)\n",
    "    print ('the name is ', r.columns.get('info:name').value)\n",
    "    print ('the age is ', r.columns.get('info:age').value)"
   ]
  },
  {
   "cell_type": "code",
   "execution_count": 22,
   "id": "4a95c2e1",
   "metadata": {
    "ExecuteTime": {
     "end_time": "2022-10-18T11:15:47.421106Z",
     "start_time": "2022-10-18T11:15:47.283008Z"
    }
   },
   "outputs": [],
   "source": [
    "#删除记录\n",
    "client.deleteAllRow('student','1')\n"
   ]
  },
  {
   "cell_type": "code",
   "execution_count": null,
   "id": "9020d576",
   "metadata": {},
   "outputs": [],
   "source": [
    "dd"
   ]
  }
 ],
 "metadata": {
  "kernelspec": {
   "display_name": "Python 3 (ipykernel)",
   "language": "python",
   "name": "python3"
  },
  "language_info": {
   "codemirror_mode": {
    "name": "ipython",
    "version": 3
   },
   "file_extension": ".py",
   "mimetype": "text/x-python",
   "name": "python",
   "nbconvert_exporter": "python",
   "pygments_lexer": "ipython3",
   "version": "3.9.13"
  },
  "toc": {
   "base_numbering": 1,
   "nav_menu": {},
   "number_sections": true,
   "sideBar": true,
   "skip_h1_title": false,
   "title_cell": "Table of Contents",
   "title_sidebar": "Contents",
   "toc_cell": false,
   "toc_position": {},
   "toc_section_display": true,
   "toc_window_display": false
  },
  "varInspector": {
   "cols": {
    "lenName": 16,
    "lenType": 16,
    "lenVar": 40
   },
   "kernels_config": {
    "python": {
     "delete_cmd_postfix": "",
     "delete_cmd_prefix": "del ",
     "library": "var_list.py",
     "varRefreshCmd": "print(var_dic_list())"
    },
    "r": {
     "delete_cmd_postfix": ") ",
     "delete_cmd_prefix": "rm(",
     "library": "var_list.r",
     "varRefreshCmd": "cat(var_dic_list()) "
    }
   },
   "types_to_exclude": [
    "module",
    "function",
    "builtin_function_or_method",
    "instance",
    "_Feature"
   ],
   "window_display": false
  }
 },
 "nbformat": 4,
 "nbformat_minor": 5
}
