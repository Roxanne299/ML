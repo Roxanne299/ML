{
 "cells": [
  {
   "cell_type": "code",
   "execution_count": 1,
   "id": "df7aa962",
   "metadata": {
    "ExecuteTime": {
     "end_time": "2022-11-08T00:55:56.777987Z",
     "start_time": "2022-11-08T00:55:55.240217Z"
    }
   },
   "outputs": [],
   "source": [
    "import torch\n",
    "import numpy as np"
   ]
  },
  {
   "cell_type": "code",
   "execution_count": 2,
   "id": "8aeab3f9",
   "metadata": {
    "ExecuteTime": {
     "end_time": "2022-11-08T00:55:56.823891Z",
     "start_time": "2022-11-08T00:55:56.811520Z"
    }
   },
   "outputs": [],
   "source": [
    "t = torch.tensor([1,2,3])"
   ]
  },
  {
   "cell_type": "code",
   "execution_count": 3,
   "id": "3768b149",
   "metadata": {
    "ExecuteTime": {
     "end_time": "2022-11-08T00:56:01.697296Z",
     "start_time": "2022-11-08T00:56:01.678686Z"
    }
   },
   "outputs": [
    {
     "data": {
      "text/plain": [
       "tensor(2)"
      ]
     },
     "execution_count": 3,
     "metadata": {},
     "output_type": "execute_result"
    }
   ],
   "source": [
    "t[1]"
   ]
  },
  {
   "cell_type": "code",
   "execution_count": 4,
   "id": "96fc3db5",
   "metadata": {
    "ExecuteTime": {
     "end_time": "2022-10-28T12:37:38.584690Z",
     "start_time": "2022-10-28T12:37:38.579138Z"
    }
   },
   "outputs": [
    {
     "data": {
      "text/plain": [
       "torch.int64"
      ]
     },
     "execution_count": 4,
     "metadata": {},
     "output_type": "execute_result"
    }
   ],
   "source": [
    "t.dtype"
   ]
  },
  {
   "cell_type": "code",
   "execution_count": 5,
   "id": "3f68d694",
   "metadata": {
    "ExecuteTime": {
     "end_time": "2022-10-28T12:38:46.782983Z",
     "start_time": "2022-10-28T12:38:46.776958Z"
    }
   },
   "outputs": [
    {
     "data": {
      "text/plain": [
       "torch.float32"
      ]
     },
     "execution_count": 5,
     "metadata": {},
     "output_type": "execute_result"
    }
   ],
   "source": [
    "t = torch.FloatTensor([1,2,3])\n",
    "t.dtype"
   ]
  },
  {
   "cell_type": "code",
   "execution_count": 6,
   "id": "2dbe0446",
   "metadata": {
    "ExecuteTime": {
     "end_time": "2022-10-28T12:39:11.243333Z",
     "start_time": "2022-10-28T12:39:11.232136Z"
    }
   },
   "outputs": [
    {
     "data": {
      "text/plain": [
       "torch.int64"
      ]
     },
     "execution_count": 6,
     "metadata": {},
     "output_type": "execute_result"
    }
   ],
   "source": [
    "t = torch.LongTensor([1,2,3])\n",
    "t.dtype"
   ]
  },
  {
   "cell_type": "code",
   "execution_count": 8,
   "id": "7a613c5b",
   "metadata": {
    "ExecuteTime": {
     "end_time": "2022-10-28T12:40:29.343196Z",
     "start_time": "2022-10-28T12:40:29.335091Z"
    }
   },
   "outputs": [
    {
     "data": {
      "text/plain": [
       "array([[ 0,  1,  2,  3],\n",
       "       [ 4,  5,  6,  7],\n",
       "       [ 8,  9, 10, 11]])"
      ]
     },
     "execution_count": 8,
     "metadata": {},
     "output_type": "execute_result"
    }
   ],
   "source": [
    "np_array = np.arange(12).reshape(3,4)\n",
    "np_array"
   ]
  },
  {
   "cell_type": "code",
   "execution_count": 9,
   "id": "749a5543",
   "metadata": {
    "ExecuteTime": {
     "end_time": "2022-10-28T12:40:44.857309Z",
     "start_time": "2022-10-28T12:40:44.848690Z"
    }
   },
   "outputs": [
    {
     "data": {
      "text/plain": [
       "tensor([[ 0,  1,  2,  3],\n",
       "        [ 4,  5,  6,  7],\n",
       "        [ 8,  9, 10, 11]], dtype=torch.int32)"
      ]
     },
     "execution_count": 9,
     "metadata": {},
     "output_type": "execute_result"
    }
   ],
   "source": [
    "torch.from_numpy(np_array)"
   ]
  },
  {
   "cell_type": "code",
   "execution_count": 10,
   "id": "5a65147c",
   "metadata": {
    "ExecuteTime": {
     "end_time": "2022-10-28T12:41:18.307573Z",
     "start_time": "2022-10-28T12:41:18.301231Z"
    }
   },
   "outputs": [
    {
     "data": {
      "text/plain": [
       "dtype('int32')"
      ]
     },
     "execution_count": 10,
     "metadata": {},
     "output_type": "execute_result"
    }
   ],
   "source": [
    "np_array.dtype"
   ]
  },
  {
   "cell_type": "code",
   "execution_count": 12,
   "id": "e2d46f3e",
   "metadata": {
    "ExecuteTime": {
     "end_time": "2022-10-28T12:43:47.646573Z",
     "start_time": "2022-10-28T12:43:47.642009Z"
    }
   },
   "outputs": [
    {
     "data": {
      "text/plain": [
       "torch.float32"
      ]
     },
     "execution_count": 12,
     "metadata": {},
     "output_type": "execute_result"
    }
   ],
   "source": [
    "t = torch.tensor([12,2,3],dtype = torch.float32)\n",
    "t.dtype"
   ]
  },
  {
   "cell_type": "code",
   "execution_count": 13,
   "id": "8ae5ab14",
   "metadata": {
    "ExecuteTime": {
     "end_time": "2022-10-28T12:44:05.719974Z",
     "start_time": "2022-10-28T12:44:05.703458Z"
    }
   },
   "outputs": [
    {
     "data": {
      "text/plain": [
       "torch.int32"
      ]
     },
     "execution_count": 13,
     "metadata": {},
     "output_type": "execute_result"
    }
   ],
   "source": [
    "t = torch.tensor([12,2,3],dtype = torch.int)\n",
    "t.dtype"
   ]
  },
  {
   "cell_type": "code",
   "execution_count": 14,
   "id": "f24fbafb",
   "metadata": {
    "ExecuteTime": {
     "end_time": "2022-10-28T12:44:11.201305Z",
     "start_time": "2022-10-28T12:44:11.193238Z"
    }
   },
   "outputs": [
    {
     "data": {
      "text/plain": [
       "torch.int64"
      ]
     },
     "execution_count": 14,
     "metadata": {},
     "output_type": "execute_result"
    }
   ],
   "source": [
    "t = torch.tensor([12,2,3],dtype = torch.long)\n",
    "t.dtype"
   ]
  },
  {
   "cell_type": "code",
   "execution_count": null,
   "id": "5af6a5b3",
   "metadata": {},
   "outputs": [],
   "source": []
  },
  {
   "cell_type": "code",
   "execution_count": 2,
   "id": "ea317635",
   "metadata": {
    "ExecuteTime": {
     "end_time": "2022-10-28T12:47:03.392535Z",
     "start_time": "2022-10-28T12:47:03.369525Z"
    }
   },
   "outputs": [
    {
     "data": {
      "text/plain": [
       "tensor([[0.6269, 0.1236, 0.6392],\n",
       "        [0.8320, 0.3594, 0.9357]])"
      ]
     },
     "execution_count": 2,
     "metadata": {},
     "output_type": "execute_result"
    }
   ],
   "source": [
    "torch.rand(2,3)"
   ]
  },
  {
   "cell_type": "code",
   "execution_count": 6,
   "id": "cd23e77b",
   "metadata": {
    "ExecuteTime": {
     "end_time": "2022-10-28T12:48:00.290819Z",
     "start_time": "2022-10-28T12:48:00.273051Z"
    }
   },
   "outputs": [],
   "source": [
    "t = torch.randn(2,3)"
   ]
  },
  {
   "cell_type": "code",
   "execution_count": null,
   "id": "9d2f77b5",
   "metadata": {},
   "outputs": [],
   "source": []
  },
  {
   "cell_type": "code",
   "execution_count": 7,
   "id": "7d012a6a",
   "metadata": {
    "ExecuteTime": {
     "end_time": "2022-10-28T12:48:02.251336Z",
     "start_time": "2022-10-28T12:48:02.240777Z"
    }
   },
   "outputs": [
    {
     "data": {
      "text/plain": [
       "torch.Size([2, 3])"
      ]
     },
     "execution_count": 7,
     "metadata": {},
     "output_type": "execute_result"
    }
   ],
   "source": [
    "t.shape"
   ]
  },
  {
   "cell_type": "code",
   "execution_count": 8,
   "id": "d8018148",
   "metadata": {
    "ExecuteTime": {
     "end_time": "2022-10-28T12:48:14.473836Z",
     "start_time": "2022-10-28T12:48:14.468641Z"
    }
   },
   "outputs": [
    {
     "data": {
      "text/plain": [
       "tensor([[0., 0., 0.],\n",
       "        [0., 0., 0.]])"
      ]
     },
     "execution_count": 8,
     "metadata": {},
     "output_type": "execute_result"
    }
   ],
   "source": [
    "torch.zeros(2,3)"
   ]
  },
  {
   "cell_type": "code",
   "execution_count": 9,
   "id": "f49f67fd",
   "metadata": {
    "ExecuteTime": {
     "end_time": "2022-10-28T12:48:36.510976Z",
     "start_time": "2022-10-28T12:48:36.500187Z"
    }
   },
   "outputs": [
    {
     "data": {
      "text/plain": [
       "tensor([[1., 1.],\n",
       "        [1., 1.]])"
      ]
     },
     "execution_count": 9,
     "metadata": {},
     "output_type": "execute_result"
    }
   ],
   "source": [
    "torch.ones(2,2)"
   ]
  },
  {
   "cell_type": "code",
   "execution_count": 11,
   "id": "4bec6e2c",
   "metadata": {
    "ExecuteTime": {
     "end_time": "2022-10-28T12:50:31.481092Z",
     "start_time": "2022-10-28T12:50:31.465921Z"
    }
   },
   "outputs": [
    {
     "data": {
      "text/plain": [
       "tensor([[0., 0., 0.],\n",
       "        [0., 0., 0.]])"
      ]
     },
     "execution_count": 11,
     "metadata": {},
     "output_type": "execute_result"
    }
   ],
   "source": [
    "x = torch.zeros_like(t)\n",
    "x"
   ]
  },
  {
   "cell_type": "code",
   "execution_count": 12,
   "id": "f8b6572d",
   "metadata": {
    "ExecuteTime": {
     "end_time": "2022-10-28T12:51:12.034709Z",
     "start_time": "2022-10-28T12:51:12.030698Z"
    }
   },
   "outputs": [
    {
     "data": {
      "text/plain": [
       "tensor([[-0.8730, -2.5106,  1.1509],\n",
       "        [ 1.0038,  1.3538, -0.2965]])"
      ]
     },
     "execution_count": 12,
     "metadata": {},
     "output_type": "execute_result"
    }
   ],
   "source": [
    "x = torch.randn_like(t)\n",
    "x"
   ]
  },
  {
   "cell_type": "code",
   "execution_count": 13,
   "id": "11cb46ab",
   "metadata": {
    "ExecuteTime": {
     "end_time": "2022-10-28T12:51:55.595083Z",
     "start_time": "2022-10-28T12:51:55.578040Z"
    }
   },
   "outputs": [
    {
     "data": {
      "text/plain": [
       "2"
      ]
     },
     "execution_count": 13,
     "metadata": {},
     "output_type": "execute_result"
    }
   ],
   "source": [
    "t.size(0)"
   ]
  },
  {
   "cell_type": "code",
   "execution_count": 14,
   "id": "eca3602c",
   "metadata": {
    "ExecuteTime": {
     "end_time": "2022-10-28T12:52:16.650025Z",
     "start_time": "2022-10-28T12:52:16.642487Z"
    }
   },
   "outputs": [
    {
     "data": {
      "text/plain": [
       "3"
      ]
     },
     "execution_count": 14,
     "metadata": {},
     "output_type": "execute_result"
    }
   ],
   "source": [
    "t.shape[1]"
   ]
  },
  {
   "cell_type": "code",
   "execution_count": 15,
   "id": "d6033a4e",
   "metadata": {
    "ExecuteTime": {
     "end_time": "2022-10-28T12:52:26.347680Z",
     "start_time": "2022-10-28T12:52:26.329911Z"
    }
   },
   "outputs": [
    {
     "data": {
      "text/plain": [
       "device(type='cpu')"
      ]
     },
     "execution_count": 15,
     "metadata": {},
     "output_type": "execute_result"
    }
   ],
   "source": [
    "t.device"
   ]
  },
  {
   "cell_type": "code",
   "execution_count": 17,
   "id": "0be8c933",
   "metadata": {
    "ExecuteTime": {
     "end_time": "2022-10-28T12:53:03.080038Z",
     "start_time": "2022-10-28T12:53:03.056914Z"
    }
   },
   "outputs": [
    {
     "data": {
      "text/plain": [
       "True"
      ]
     },
     "execution_count": 17,
     "metadata": {},
     "output_type": "execute_result"
    }
   ],
   "source": [
    "torch.cuda.is_available()"
   ]
  },
  {
   "cell_type": "code",
   "execution_count": 18,
   "id": "e0fad5d0",
   "metadata": {
    "ExecuteTime": {
     "end_time": "2022-10-28T12:53:21.278241Z",
     "start_time": "2022-10-28T12:53:21.167770Z"
    }
   },
   "outputs": [],
   "source": [
    "t = t.to(\"cuda\")"
   ]
  },
  {
   "cell_type": "code",
   "execution_count": 19,
   "id": "f8710a7a",
   "metadata": {
    "ExecuteTime": {
     "end_time": "2022-10-28T12:53:25.837850Z",
     "start_time": "2022-10-28T12:53:25.829385Z"
    }
   },
   "outputs": [
    {
     "data": {
      "text/plain": [
       "device(type='cuda', index=0)"
      ]
     },
     "execution_count": 19,
     "metadata": {},
     "output_type": "execute_result"
    }
   ],
   "source": [
    "t.device"
   ]
  },
  {
   "cell_type": "code",
   "execution_count": 23,
   "id": "3baaf968",
   "metadata": {
    "ExecuteTime": {
     "end_time": "2022-10-28T12:56:16.954474Z",
     "start_time": "2022-10-28T12:56:16.951164Z"
    }
   },
   "outputs": [],
   "source": [
    "t = t.to(\"cpu\")"
   ]
  },
  {
   "cell_type": "code",
   "execution_count": null,
   "id": "f781c717",
   "metadata": {},
   "outputs": [],
   "source": []
  },
  {
   "cell_type": "code",
   "execution_count": 24,
   "id": "2c5c062a",
   "metadata": {
    "ExecuteTime": {
     "end_time": "2022-10-28T12:56:19.150021Z",
     "start_time": "2022-10-28T12:56:19.133154Z"
    }
   },
   "outputs": [
    {
     "data": {
      "text/plain": [
       "tensor([[ 0.4014, -1.3736,  1.2733],\n",
       "        [-0.9840,  0.9009, -0.0555]])"
      ]
     },
     "execution_count": 24,
     "metadata": {},
     "output_type": "execute_result"
    }
   ],
   "source": [
    "t.type(torch.float32)"
   ]
  },
  {
   "cell_type": "code",
   "execution_count": 25,
   "id": "a6b94dfa",
   "metadata": {
    "ExecuteTime": {
     "end_time": "2022-10-28T12:56:30.805899Z",
     "start_time": "2022-10-28T12:56:30.797641Z"
    }
   },
   "outputs": [
    {
     "data": {
      "text/plain": [
       "torch.float32"
      ]
     },
     "execution_count": 25,
     "metadata": {},
     "output_type": "execute_result"
    }
   ],
   "source": [
    "t.dtype"
   ]
  },
  {
   "cell_type": "code",
   "execution_count": 26,
   "id": "20934e18",
   "metadata": {
    "ExecuteTime": {
     "end_time": "2022-10-28T12:57:27.552736Z",
     "start_time": "2022-10-28T12:57:27.539372Z"
    }
   },
   "outputs": [
    {
     "data": {
      "text/plain": [
       "tensor([[ 0, -1,  1],\n",
       "        [ 0,  0,  0]])"
      ]
     },
     "execution_count": 26,
     "metadata": {},
     "output_type": "execute_result"
    }
   ],
   "source": [
    "t.long()"
   ]
  },
  {
   "cell_type": "code",
   "execution_count": 27,
   "id": "d21f00ea",
   "metadata": {
    "ExecuteTime": {
     "end_time": "2022-10-28T12:57:33.684024Z",
     "start_time": "2022-10-28T12:57:33.664576Z"
    }
   },
   "outputs": [
    {
     "data": {
      "text/plain": [
       "tensor([[ 0.4014, -1.3736,  1.2733],\n",
       "        [-0.9840,  0.9009, -0.0555]])"
      ]
     },
     "execution_count": 27,
     "metadata": {},
     "output_type": "execute_result"
    }
   ],
   "source": [
    "t.float()"
   ]
  },
  {
   "cell_type": "code",
   "execution_count": null,
   "id": "0cda717d",
   "metadata": {},
   "outputs": [],
   "source": []
  },
  {
   "cell_type": "code",
   "execution_count": null,
   "id": "9535c233",
   "metadata": {},
   "outputs": [],
   "source": []
  },
  {
   "cell_type": "code",
   "execution_count": 21,
   "id": "f3a140d5",
   "metadata": {
    "ExecuteTime": {
     "end_time": "2022-10-28T12:55:37.519046Z",
     "start_time": "2022-10-28T12:55:37.510258Z"
    }
   },
   "outputs": [
    {
     "data": {
      "text/plain": [
       "torch.float32"
      ]
     },
     "execution_count": 21,
     "metadata": {},
     "output_type": "execute_result"
    }
   ],
   "source": []
  },
  {
   "cell_type": "code",
   "execution_count": 28,
   "id": "efcc0c41",
   "metadata": {
    "ExecuteTime": {
     "end_time": "2022-10-28T12:59:27.475740Z",
     "start_time": "2022-10-28T12:59:27.471185Z"
    }
   },
   "outputs": [
    {
     "data": {
      "text/plain": [
       "tensor([[ 0.4014, -1.3736,  1.2733],\n",
       "        [-0.9840,  0.9009, -0.0555]])"
      ]
     },
     "execution_count": 28,
     "metadata": {},
     "output_type": "execute_result"
    }
   ],
   "source": [
    "t"
   ]
  },
  {
   "cell_type": "code",
   "execution_count": 29,
   "id": "12295970",
   "metadata": {
    "ExecuteTime": {
     "end_time": "2022-10-28T12:59:31.239110Z",
     "start_time": "2022-10-28T12:59:31.222722Z"
    }
   },
   "outputs": [
    {
     "data": {
      "text/plain": [
       "tensor([[3.4014, 1.6264, 4.2733],\n",
       "        [2.0160, 3.9009, 2.9445]])"
      ]
     },
     "execution_count": 29,
     "metadata": {},
     "output_type": "execute_result"
    }
   ],
   "source": [
    "t + 3"
   ]
  },
  {
   "cell_type": "code",
   "execution_count": 30,
   "id": "8cfa7c9e",
   "metadata": {
    "ExecuteTime": {
     "end_time": "2022-10-28T12:59:52.401552Z",
     "start_time": "2022-10-28T12:59:52.382713Z"
    }
   },
   "outputs": [],
   "source": [
    "t1 = torch.ones(2,3)"
   ]
  },
  {
   "cell_type": "code",
   "execution_count": 31,
   "id": "defc4da2",
   "metadata": {
    "ExecuteTime": {
     "end_time": "2022-10-28T12:59:55.996177Z",
     "start_time": "2022-10-28T12:59:55.988140Z"
    }
   },
   "outputs": [
    {
     "data": {
      "text/plain": [
       "tensor([[1., 1., 1.],\n",
       "        [1., 1., 1.]])"
      ]
     },
     "execution_count": 31,
     "metadata": {},
     "output_type": "execute_result"
    }
   ],
   "source": [
    "t1"
   ]
  },
  {
   "cell_type": "code",
   "execution_count": 32,
   "id": "9bbf5b3c",
   "metadata": {
    "ExecuteTime": {
     "end_time": "2022-10-28T13:00:03.264108Z",
     "start_time": "2022-10-28T13:00:03.258560Z"
    }
   },
   "outputs": [
    {
     "data": {
      "text/plain": [
       "tensor([[ 1.4014, -0.3736,  2.2733],\n",
       "        [ 0.0160,  1.9009,  0.9445]])"
      ]
     },
     "execution_count": 32,
     "metadata": {},
     "output_type": "execute_result"
    }
   ],
   "source": [
    "t + t1"
   ]
  },
  {
   "cell_type": "code",
   "execution_count": 33,
   "id": "05563924",
   "metadata": {
    "ExecuteTime": {
     "end_time": "2022-10-28T13:00:40.780162Z",
     "start_time": "2022-10-28T13:00:40.768926Z"
    }
   },
   "outputs": [
    {
     "data": {
      "text/plain": [
       "tensor([[ 1.4014, -0.3736,  2.2733],\n",
       "        [ 0.0160,  1.9009,  0.9445]])"
      ]
     },
     "execution_count": 33,
     "metadata": {},
     "output_type": "execute_result"
    }
   ],
   "source": [
    "t.add(t1)"
   ]
  },
  {
   "cell_type": "code",
   "execution_count": 34,
   "id": "8565b0a9",
   "metadata": {
    "ExecuteTime": {
     "end_time": "2022-10-28T13:00:45.957829Z",
     "start_time": "2022-10-28T13:00:45.950488Z"
    }
   },
   "outputs": [
    {
     "data": {
      "text/plain": [
       "tensor([[ 0.4014, -1.3736,  1.2733],\n",
       "        [-0.9840,  0.9009, -0.0555]])"
      ]
     },
     "execution_count": 34,
     "metadata": {},
     "output_type": "execute_result"
    }
   ],
   "source": [
    "t"
   ]
  },
  {
   "cell_type": "code",
   "execution_count": 35,
   "id": "312c453f",
   "metadata": {
    "ExecuteTime": {
     "end_time": "2022-10-28T13:01:16.566847Z",
     "start_time": "2022-10-28T13:01:16.554287Z"
    }
   },
   "outputs": [
    {
     "data": {
      "text/plain": [
       "tensor([[ 1.4014, -0.3736,  2.2733],\n",
       "        [ 0.0160,  1.9009,  0.9445]])"
      ]
     },
     "execution_count": 35,
     "metadata": {},
     "output_type": "execute_result"
    }
   ],
   "source": [
    "t.add_(t1)"
   ]
  },
  {
   "cell_type": "code",
   "execution_count": 36,
   "id": "24e19405",
   "metadata": {
    "ExecuteTime": {
     "end_time": "2022-10-28T13:01:21.354638Z",
     "start_time": "2022-10-28T13:01:21.340658Z"
    }
   },
   "outputs": [
    {
     "data": {
      "text/plain": [
       "tensor([[ 1.4014, -0.3736,  2.2733],\n",
       "        [ 0.0160,  1.9009,  0.9445]])"
      ]
     },
     "execution_count": 36,
     "metadata": {},
     "output_type": "execute_result"
    }
   ],
   "source": [
    "t"
   ]
  },
  {
   "cell_type": "code",
   "execution_count": 37,
   "id": "014e043b",
   "metadata": {
    "ExecuteTime": {
     "end_time": "2022-10-28T13:04:16.993802Z",
     "start_time": "2022-10-28T13:04:16.966258Z"
    }
   },
   "outputs": [
    {
     "data": {
      "text/plain": [
       "tensor([[7.2712, 1.4594],\n",
       "        [1.4594, 4.5057]])"
      ]
     },
     "execution_count": 37,
     "metadata": {},
     "output_type": "execute_result"
    }
   ],
   "source": [
    "t.matmul(t.T)"
   ]
  },
  {
   "cell_type": "code",
   "execution_count": 38,
   "id": "a39546f1",
   "metadata": {
    "ExecuteTime": {
     "end_time": "2022-10-28T13:04:21.624049Z",
     "start_time": "2022-10-28T13:04:21.613886Z"
    }
   },
   "outputs": [
    {
     "data": {
      "text/plain": [
       "tensor([[ 1.4014, -0.3736,  2.2733],\n",
       "        [ 0.0160,  1.9009,  0.9445]])"
      ]
     },
     "execution_count": 38,
     "metadata": {},
     "output_type": "execute_result"
    }
   ],
   "source": [
    "t"
   ]
  },
  {
   "cell_type": "code",
   "execution_count": 39,
   "id": "b48e9752",
   "metadata": {
    "ExecuteTime": {
     "end_time": "2022-10-28T13:04:32.560866Z",
     "start_time": "2022-10-28T13:04:32.543787Z"
    }
   },
   "outputs": [
    {
     "data": {
      "text/plain": [
       "tensor([[7.2712, 1.4594],\n",
       "        [1.4594, 4.5057]])"
      ]
     },
     "execution_count": 39,
     "metadata": {},
     "output_type": "execute_result"
    }
   ],
   "source": [
    "t@t.T"
   ]
  },
  {
   "cell_type": "code",
   "execution_count": 40,
   "id": "c7d8dff5",
   "metadata": {
    "ExecuteTime": {
     "end_time": "2022-10-28T13:05:20.547174Z",
     "start_time": "2022-10-28T13:05:20.537718Z"
    }
   },
   "outputs": [
    {
     "data": {
      "text/plain": [
       "tensor(6.1625)"
      ]
     },
     "execution_count": 40,
     "metadata": {},
     "output_type": "execute_result"
    }
   ],
   "source": [
    "t.sum()."
   ]
  },
  {
   "cell_type": "code",
   "execution_count": 41,
   "id": "df722659",
   "metadata": {
    "ExecuteTime": {
     "end_time": "2022-10-28T13:05:39.710173Z",
     "start_time": "2022-10-28T13:05:39.697096Z"
    }
   },
   "outputs": [
    {
     "data": {
      "text/plain": [
       "6.162511825561523"
      ]
     },
     "execution_count": 41,
     "metadata": {},
     "output_type": "execute_result"
    }
   ],
   "source": [
    "t.sum().item()"
   ]
  },
  {
   "cell_type": "code",
   "execution_count": 43,
   "id": "930d8fff",
   "metadata": {
    "ExecuteTime": {
     "end_time": "2022-10-28T13:06:56.501065Z",
     "start_time": "2022-10-28T13:06:56.490478Z"
    }
   },
   "outputs": [
    {
     "data": {
      "text/plain": [
       "array([[ 1.4014049 , -0.3735509 ,  2.273261  ],\n",
       "       [ 0.01603001,  1.900896  ,  0.94447094]], dtype=float32)"
      ]
     },
     "execution_count": 43,
     "metadata": {},
     "output_type": "execute_result"
    }
   ],
   "source": [
    "t.numpy()"
   ]
  },
  {
   "cell_type": "code",
   "execution_count": null,
   "id": "170c6419",
   "metadata": {},
   "outputs": [],
   "source": []
  },
  {
   "cell_type": "code",
   "execution_count": null,
   "id": "f637e119",
   "metadata": {},
   "outputs": [],
   "source": []
  },
  {
   "cell_type": "code",
   "execution_count": 44,
   "id": "1f35b46c",
   "metadata": {
    "ExecuteTime": {
     "end_time": "2022-10-28T13:12:19.081995Z",
     "start_time": "2022-10-28T13:12:19.075572Z"
    }
   },
   "outputs": [],
   "source": [
    "t = torch.randn(4,6)"
   ]
  },
  {
   "cell_type": "code",
   "execution_count": 45,
   "id": "b97af3d9",
   "metadata": {
    "ExecuteTime": {
     "end_time": "2022-10-28T13:12:24.123795Z",
     "start_time": "2022-10-28T13:12:24.105684Z"
    }
   },
   "outputs": [
    {
     "data": {
      "text/plain": [
       "torch.Size([4, 6])"
      ]
     },
     "execution_count": 45,
     "metadata": {},
     "output_type": "execute_result"
    }
   ],
   "source": [
    "t.shape"
   ]
  },
  {
   "cell_type": "code",
   "execution_count": 46,
   "id": "0b400350",
   "metadata": {
    "ExecuteTime": {
     "end_time": "2022-10-28T13:13:18.320741Z",
     "start_time": "2022-10-28T13:13:18.308262Z"
    }
   },
   "outputs": [
    {
     "data": {
      "text/plain": [
       "tensor([[ 1.4430, -0.4749, -1.7306,  1.8659,  0.0972,  0.2431],\n",
       "        [-1.3665, -0.4376, -0.6252,  0.6800, -0.5202, -0.2374],\n",
       "        [-0.1241,  1.0643, -0.1692,  2.0879, -2.9595,  2.0007],\n",
       "        [ 0.5307,  1.3573,  1.8104, -0.1413,  0.1886,  0.0471]])"
      ]
     },
     "execution_count": 46,
     "metadata": {},
     "output_type": "execute_result"
    }
   ],
   "source": [
    "t"
   ]
  },
  {
   "cell_type": "code",
   "execution_count": 47,
   "id": "b6720362",
   "metadata": {
    "ExecuteTime": {
     "end_time": "2022-10-28T13:13:40.495669Z",
     "start_time": "2022-10-28T13:13:40.482370Z"
    }
   },
   "outputs": [
    {
     "data": {
      "text/plain": [
       "tensor([[ 1.4430, -0.4749, -1.7306,  1.8659,  0.0972,  0.2431, -1.3665, -0.4376],\n",
       "        [-0.6252,  0.6800, -0.5202, -0.2374, -0.1241,  1.0643, -0.1692,  2.0879],\n",
       "        [-2.9595,  2.0007,  0.5307,  1.3573,  1.8104, -0.1413,  0.1886,  0.0471]])"
      ]
     },
     "execution_count": 47,
     "metadata": {},
     "output_type": "execute_result"
    }
   ],
   "source": [
    "t.view(3,8)"
   ]
  },
  {
   "cell_type": "code",
   "execution_count": 48,
   "id": "59b53865",
   "metadata": {
    "ExecuteTime": {
     "end_time": "2022-10-28T13:14:40.844782Z",
     "start_time": "2022-10-28T13:14:40.838205Z"
    }
   },
   "outputs": [
    {
     "data": {
      "text/plain": [
       "tensor([[ 1.4430, -0.4749, -1.7306,  1.8659,  0.0972,  0.2431, -1.3665, -0.4376,\n",
       "         -0.6252,  0.6800, -0.5202, -0.2374],\n",
       "        [-0.1241,  1.0643, -0.1692,  2.0879, -2.9595,  2.0007,  0.5307,  1.3573,\n",
       "          1.8104, -0.1413,  0.1886,  0.0471]])"
      ]
     },
     "execution_count": 48,
     "metadata": {},
     "output_type": "execute_result"
    }
   ],
   "source": [
    "t.reshape(2,12)"
   ]
  },
  {
   "cell_type": "code",
   "execution_count": 49,
   "id": "c1ea0c77",
   "metadata": {
    "ExecuteTime": {
     "end_time": "2022-10-28T13:15:22.029097Z",
     "start_time": "2022-10-28T13:15:22.021991Z"
    }
   },
   "outputs": [
    {
     "data": {
      "text/plain": [
       "tensor([[ 1.4430, -0.4749, -1.7306,  1.8659,  0.0972,  0.2431],\n",
       "        [-1.3665, -0.4376, -0.6252,  0.6800, -0.5202, -0.2374],\n",
       "        [-0.1241,  1.0643, -0.1692,  2.0879, -2.9595,  2.0007],\n",
       "        [ 0.5307,  1.3573,  1.8104, -0.1413,  0.1886,  0.0471]])"
      ]
     },
     "execution_count": 49,
     "metadata": {},
     "output_type": "execute_result"
    }
   ],
   "source": [
    "t"
   ]
  },
  {
   "cell_type": "code",
   "execution_count": 50,
   "id": "ece9e9b9",
   "metadata": {
    "ExecuteTime": {
     "end_time": "2022-10-28T13:18:12.778580Z",
     "start_time": "2022-10-28T13:18:12.764710Z"
    }
   },
   "outputs": [
    {
     "data": {
      "text/plain": [
       "tensor([[ 1.4430, -0.4749, -1.7306,  1.8659,  0.0972,  0.2431],\n",
       "        [-1.3665, -0.4376, -0.6252,  0.6800, -0.5202, -0.2374],\n",
       "        [-0.1241,  1.0643, -0.1692,  2.0879, -2.9595,  2.0007],\n",
       "        [ 0.5307,  1.3573,  1.8104, -0.1413,  0.1886,  0.0471]])"
      ]
     },
     "execution_count": 50,
     "metadata": {},
     "output_type": "execute_result"
    }
   ],
   "source": [
    "t.squeeze()"
   ]
  },
  {
   "cell_type": "code",
   "execution_count": null,
   "id": "38b30231",
   "metadata": {},
   "outputs": [],
   "source": []
  },
  {
   "cell_type": "code",
   "execution_count": 52,
   "id": "ecd0be25",
   "metadata": {
    "ExecuteTime": {
     "end_time": "2022-10-28T13:22:01.522252Z",
     "start_time": "2022-10-28T13:22:01.513881Z"
    }
   },
   "outputs": [
    {
     "data": {
      "text/plain": [
       "False"
      ]
     },
     "execution_count": 52,
     "metadata": {},
     "output_type": "execute_result"
    }
   ],
   "source": [
    "t.requires_grad"
   ]
  },
  {
   "cell_type": "code",
   "execution_count": 54,
   "id": "097606ee",
   "metadata": {
    "ExecuteTime": {
     "end_time": "2022-10-28T13:22:51.141624Z",
     "start_time": "2022-10-28T13:22:51.134754Z"
    }
   },
   "outputs": [],
   "source": [
    "t = torch.ones(2,2,requires_grad=True)"
   ]
  },
  {
   "cell_type": "code",
   "execution_count": 55,
   "id": "54def652",
   "metadata": {
    "ExecuteTime": {
     "end_time": "2022-10-28T13:23:07.719641Z",
     "start_time": "2022-10-28T13:23:07.711645Z"
    }
   },
   "outputs": [
    {
     "data": {
      "text/plain": [
       "True"
      ]
     },
     "execution_count": 55,
     "metadata": {},
     "output_type": "execute_result"
    }
   ],
   "source": [
    "t.requires_grad"
   ]
  },
  {
   "cell_type": "code",
   "execution_count": 56,
   "id": "481793c4",
   "metadata": {
    "ExecuteTime": {
     "end_time": "2022-10-28T13:23:35.856140Z",
     "start_time": "2022-10-28T13:23:35.839767Z"
    }
   },
   "outputs": [],
   "source": [
    "y = t + 5"
   ]
  },
  {
   "cell_type": "code",
   "execution_count": 57,
   "id": "aaf882c3",
   "metadata": {
    "ExecuteTime": {
     "end_time": "2022-10-28T13:23:43.689232Z",
     "start_time": "2022-10-28T13:23:43.674190Z"
    }
   },
   "outputs": [
    {
     "data": {
      "text/plain": [
       "tensor([[6., 6.],\n",
       "        [6., 6.]], grad_fn=<AddBackward0>)"
      ]
     },
     "execution_count": 57,
     "metadata": {},
     "output_type": "execute_result"
    }
   ],
   "source": [
    "y"
   ]
  },
  {
   "cell_type": "code",
   "execution_count": 69,
   "id": "b208656a",
   "metadata": {
    "ExecuteTime": {
     "end_time": "2022-10-28T13:29:58.364719Z",
     "start_time": "2022-10-28T13:29:58.360118Z"
    }
   },
   "outputs": [],
   "source": [
    "z = y*2"
   ]
  },
  {
   "cell_type": "code",
   "execution_count": 70,
   "id": "c998740f",
   "metadata": {
    "ExecuteTime": {
     "end_time": "2022-10-28T13:29:58.832213Z",
     "start_time": "2022-10-28T13:29:58.818272Z"
    }
   },
   "outputs": [
    {
     "data": {
      "text/plain": [
       "tensor([[12., 12.],\n",
       "        [12., 12.]], grad_fn=<MulBackward0>)"
      ]
     },
     "execution_count": 70,
     "metadata": {},
     "output_type": "execute_result"
    }
   ],
   "source": [
    "z"
   ]
  },
  {
   "cell_type": "code",
   "execution_count": 71,
   "id": "973dd1f4",
   "metadata": {
    "ExecuteTime": {
     "end_time": "2022-10-28T13:29:59.421854Z",
     "start_time": "2022-10-28T13:29:59.410594Z"
    }
   },
   "outputs": [],
   "source": [
    "out = z.mean()"
   ]
  },
  {
   "cell_type": "code",
   "execution_count": 72,
   "id": "06e33345",
   "metadata": {
    "ExecuteTime": {
     "end_time": "2022-10-28T13:29:59.949896Z",
     "start_time": "2022-10-28T13:29:59.934755Z"
    }
   },
   "outputs": [
    {
     "data": {
      "text/plain": [
       "tensor(12., grad_fn=<MeanBackward0>)"
      ]
     },
     "execution_count": 72,
     "metadata": {},
     "output_type": "execute_result"
    }
   ],
   "source": [
    "out"
   ]
  },
  {
   "cell_type": "code",
   "execution_count": 73,
   "id": "591bbd22",
   "metadata": {
    "ExecuteTime": {
     "end_time": "2022-10-28T13:30:00.465135Z",
     "start_time": "2022-10-28T13:30:00.452061Z"
    }
   },
   "outputs": [],
   "source": [
    "out.backward()"
   ]
  },
  {
   "cell_type": "code",
   "execution_count": 78,
   "id": "5d9f93fb",
   "metadata": {
    "ExecuteTime": {
     "end_time": "2022-10-28T13:30:48.611808Z",
     "start_time": "2022-10-28T13:30:48.595404Z"
    }
   },
   "outputs": [
    {
     "data": {
      "text/plain": [
       "tensor([[1., 1.],\n",
       "        [1., 1.]])"
      ]
     },
     "execution_count": 78,
     "metadata": {},
     "output_type": "execute_result"
    }
   ],
   "source": [
    "t.grad"
   ]
  },
  {
   "cell_type": "code",
   "execution_count": 80,
   "id": "0d734fb7",
   "metadata": {
    "ExecuteTime": {
     "end_time": "2022-10-28T13:33:30.168433Z",
     "start_time": "2022-10-28T13:33:30.154019Z"
    }
   },
   "outputs": [
    {
     "name": "stderr",
     "output_type": "stream",
     "text": [
      "D:\\software\\miniconda\\lib\\site-packages\\torch\\_tensor.py:1083: UserWarning: The .grad attribute of a Tensor that is not a leaf Tensor is being accessed. Its .grad attribute won't be populated during autograd.backward(). If you indeed want the .grad field to be populated for a non-leaf Tensor, use .retain_grad() on the non-leaf Tensor. If you access the non-leaf Tensor by mistake, make sure you access the leaf Tensor instead. See github.com/pytorch/pytorch/pull/30531 for more informations. (Triggered internally at  C:\\cb\\pytorch_1000000000000\\work\\build\\aten\\src\\ATen/core/TensorBody.h:482.)\n",
      "  return self._grad\n"
     ]
    }
   ],
   "source": [
    "out.grad"
   ]
  },
  {
   "cell_type": "code",
   "execution_count": null,
   "id": "0fefa125",
   "metadata": {},
   "outputs": [],
   "source": []
  },
  {
   "cell_type": "code",
   "execution_count": null,
   "id": "4f6fb81c",
   "metadata": {},
   "outputs": [],
   "source": []
  },
  {
   "cell_type": "code",
   "execution_count": null,
   "id": "fbf92498",
   "metadata": {},
   "outputs": [],
   "source": []
  },
  {
   "cell_type": "code",
   "execution_count": null,
   "id": "72fe4756",
   "metadata": {},
   "outputs": [],
   "source": []
  },
  {
   "cell_type": "code",
   "execution_count": null,
   "id": "1685fffc",
   "metadata": {},
   "outputs": [],
   "source": []
  },
  {
   "cell_type": "code",
   "execution_count": null,
   "id": "075fa8c0",
   "metadata": {},
   "outputs": [],
   "source": []
  },
  {
   "cell_type": "code",
   "execution_count": null,
   "id": "4fca62bd",
   "metadata": {},
   "outputs": [],
   "source": []
  },
  {
   "cell_type": "code",
   "execution_count": null,
   "id": "ddc0820f",
   "metadata": {},
   "outputs": [],
   "source": []
  },
  {
   "cell_type": "code",
   "execution_count": null,
   "id": "6e227bce",
   "metadata": {},
   "outputs": [],
   "source": []
  },
  {
   "cell_type": "code",
   "execution_count": null,
   "id": "c1f045fe",
   "metadata": {},
   "outputs": [],
   "source": []
  },
  {
   "cell_type": "code",
   "execution_count": null,
   "id": "f3799fcb",
   "metadata": {},
   "outputs": [],
   "source": []
  },
  {
   "cell_type": "code",
   "execution_count": null,
   "id": "e4a6aaf0",
   "metadata": {},
   "outputs": [],
   "source": []
  },
  {
   "cell_type": "code",
   "execution_count": null,
   "id": "a64c2689",
   "metadata": {},
   "outputs": [],
   "source": []
  }
 ],
 "metadata": {
  "kernelspec": {
   "display_name": "Python 3 (ipykernel)",
   "language": "python",
   "name": "python3"
  },
  "language_info": {
   "codemirror_mode": {
    "name": "ipython",
    "version": 3
   },
   "file_extension": ".py",
   "mimetype": "text/x-python",
   "name": "python",
   "nbconvert_exporter": "python",
   "pygments_lexer": "ipython3",
   "version": "3.8.12"
  },
  "toc": {
   "base_numbering": 1,
   "nav_menu": {},
   "number_sections": true,
   "sideBar": true,
   "skip_h1_title": false,
   "title_cell": "Table of Contents",
   "title_sidebar": "Contents",
   "toc_cell": false,
   "toc_position": {},
   "toc_section_display": true,
   "toc_window_display": false
  },
  "varInspector": {
   "cols": {
    "lenName": 16,
    "lenType": 16,
    "lenVar": 40
   },
   "kernels_config": {
    "python": {
     "delete_cmd_postfix": "",
     "delete_cmd_prefix": "del ",
     "library": "var_list.py",
     "varRefreshCmd": "print(var_dic_list())"
    },
    "r": {
     "delete_cmd_postfix": ") ",
     "delete_cmd_prefix": "rm(",
     "library": "var_list.r",
     "varRefreshCmd": "cat(var_dic_list()) "
    }
   },
   "types_to_exclude": [
    "module",
    "function",
    "builtin_function_or_method",
    "instance",
    "_Feature"
   ],
   "window_display": false
  }
 },
 "nbformat": 4,
 "nbformat_minor": 5
}
