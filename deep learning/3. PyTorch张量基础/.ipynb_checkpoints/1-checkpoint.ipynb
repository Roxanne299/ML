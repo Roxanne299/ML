{
 "cells": [
  {
   "cell_type": "code",
   "execution_count": 1,
   "id": "df7aa962",
   "metadata": {
    "ExecuteTime": {
     "end_time": "2022-10-28T12:36:28.970075Z",
     "start_time": "2022-10-28T12:36:28.384687Z"
    }
   },
   "outputs": [],
   "source": [
    "import torch\n",
    "import numpy as np"
   ]
  },
  {
   "cell_type": "code",
   "execution_count": 2,
   "id": "8aeab3f9",
   "metadata": {
    "ExecuteTime": {
     "end_time": "2022-10-28T12:37:13.102064Z",
     "start_time": "2022-10-28T12:37:13.084241Z"
    }
   },
   "outputs": [],
   "source": [
    "t = torch.tensor([1,2,3])"
   ]
  },
  {
   "cell_type": "code",
   "execution_count": 3,
   "id": "3768b149",
   "metadata": {
    "ExecuteTime": {
     "end_time": "2022-10-28T12:37:16.337554Z",
     "start_time": "2022-10-28T12:37:16.315017Z"
    }
   },
   "outputs": [
    {
     "data": {
      "text/plain": [
       "tensor([1, 2, 3])"
      ]
     },
     "execution_count": 3,
     "metadata": {},
     "output_type": "execute_result"
    }
   ],
   "source": [
    "t"
   ]
  },
  {
   "cell_type": "code",
   "execution_count": 4,
   "id": "96fc3db5",
   "metadata": {
    "ExecuteTime": {
     "end_time": "2022-10-28T12:37:38.584690Z",
     "start_time": "2022-10-28T12:37:38.579138Z"
    }
   },
   "outputs": [
    {
     "data": {
      "text/plain": [
       "torch.int64"
      ]
     },
     "execution_count": 4,
     "metadata": {},
     "output_type": "execute_result"
    }
   ],
   "source": [
    "t.dtype"
   ]
  },
  {
   "cell_type": "code",
   "execution_count": 5,
   "id": "3f68d694",
   "metadata": {
    "ExecuteTime": {
     "end_time": "2022-10-28T12:38:46.782983Z",
     "start_time": "2022-10-28T12:38:46.776958Z"
    }
   },
   "outputs": [
    {
     "data": {
      "text/plain": [
       "torch.float32"
      ]
     },
     "execution_count": 5,
     "metadata": {},
     "output_type": "execute_result"
    }
   ],
   "source": [
    "t = torch.FloatTensor([1,2,3])\n",
    "t.dtype"
   ]
  },
  {
   "cell_type": "code",
   "execution_count": 6,
   "id": "2dbe0446",
   "metadata": {
    "ExecuteTime": {
     "end_time": "2022-10-28T12:39:11.243333Z",
     "start_time": "2022-10-28T12:39:11.232136Z"
    }
   },
   "outputs": [
    {
     "data": {
      "text/plain": [
       "torch.int64"
      ]
     },
     "execution_count": 6,
     "metadata": {},
     "output_type": "execute_result"
    }
   ],
   "source": [
    "t = torch.LongTensor([1,2,3])\n",
    "t.dtype"
   ]
  },
  {
   "cell_type": "code",
   "execution_count": 8,
   "id": "7a613c5b",
   "metadata": {
    "ExecuteTime": {
     "end_time": "2022-10-28T12:40:29.343196Z",
     "start_time": "2022-10-28T12:40:29.335091Z"
    }
   },
   "outputs": [
    {
     "data": {
      "text/plain": [
       "array([[ 0,  1,  2,  3],\n",
       "       [ 4,  5,  6,  7],\n",
       "       [ 8,  9, 10, 11]])"
      ]
     },
     "execution_count": 8,
     "metadata": {},
     "output_type": "execute_result"
    }
   ],
   "source": [
    "np_array = np.arange(12).reshape(3,4)\n",
    "np_array"
   ]
  },
  {
   "cell_type": "code",
   "execution_count": 9,
   "id": "749a5543",
   "metadata": {
    "ExecuteTime": {
     "end_time": "2022-10-28T12:40:44.857309Z",
     "start_time": "2022-10-28T12:40:44.848690Z"
    }
   },
   "outputs": [
    {
     "data": {
      "text/plain": [
       "tensor([[ 0,  1,  2,  3],\n",
       "        [ 4,  5,  6,  7],\n",
       "        [ 8,  9, 10, 11]], dtype=torch.int32)"
      ]
     },
     "execution_count": 9,
     "metadata": {},
     "output_type": "execute_result"
    }
   ],
   "source": [
    "torch.from_numpy(np_array)"
   ]
  },
  {
   "cell_type": "code",
   "execution_count": 10,
   "id": "5a65147c",
   "metadata": {
    "ExecuteTime": {
     "end_time": "2022-10-28T12:41:18.307573Z",
     "start_time": "2022-10-28T12:41:18.301231Z"
    }
   },
   "outputs": [
    {
     "data": {
      "text/plain": [
       "dtype('int32')"
      ]
     },
     "execution_count": 10,
     "metadata": {},
     "output_type": "execute_result"
    }
   ],
   "source": [
    "np_array.dtype"
   ]
  },
  {
   "cell_type": "code",
   "execution_count": 12,
   "id": "e2d46f3e",
   "metadata": {
    "ExecuteTime": {
     "end_time": "2022-10-28T12:43:47.646573Z",
     "start_time": "2022-10-28T12:43:47.642009Z"
    }
   },
   "outputs": [
    {
     "data": {
      "text/plain": [
       "torch.float32"
      ]
     },
     "execution_count": 12,
     "metadata": {},
     "output_type": "execute_result"
    }
   ],
   "source": [
    "t = torch.tensor([12,2,3],dtype = torch.float32)\n",
    "t.dtype"
   ]
  },
  {
   "cell_type": "code",
   "execution_count": 13,
   "id": "8ae5ab14",
   "metadata": {
    "ExecuteTime": {
     "end_time": "2022-10-28T12:44:05.719974Z",
     "start_time": "2022-10-28T12:44:05.703458Z"
    }
   },
   "outputs": [
    {
     "data": {
      "text/plain": [
       "torch.int32"
      ]
     },
     "execution_count": 13,
     "metadata": {},
     "output_type": "execute_result"
    }
   ],
   "source": [
    "t = torch.tensor([12,2,3],dtype = torch.int)\n",
    "t.dtype"
   ]
  },
  {
   "cell_type": "code",
   "execution_count": 14,
   "id": "f24fbafb",
   "metadata": {
    "ExecuteTime": {
     "end_time": "2022-10-28T12:44:11.201305Z",
     "start_time": "2022-10-28T12:44:11.193238Z"
    }
   },
   "outputs": [
    {
     "data": {
      "text/plain": [
       "torch.int64"
      ]
     },
     "execution_count": 14,
     "metadata": {},
     "output_type": "execute_result"
    }
   ],
   "source": [
    "t = torch.tensor([12,2,3],dtype = torch.long)\n",
    "t.dtype"
   ]
  },
  {
   "cell_type": "code",
   "execution_count": null,
   "id": "5af6a5b3",
   "metadata": {},
   "outputs": [],
   "source": []
  },
  {
   "cell_type": "code",
   "execution_count": null,
   "id": "ea317635",
   "metadata": {},
   "outputs": [],
   "source": []
  },
  {
   "cell_type": "code",
   "execution_count": null,
   "id": "a64c2689",
   "metadata": {},
   "outputs": [],
   "source": []
  }
 ],
 "metadata": {
  "kernelspec": {
   "display_name": "Python 3 (ipykernel)",
   "language": "python",
   "name": "python3"
  },
  "language_info": {
   "codemirror_mode": {
    "name": "ipython",
    "version": 3
   },
   "file_extension": ".py",
   "mimetype": "text/x-python",
   "name": "python",
   "nbconvert_exporter": "python",
   "pygments_lexer": "ipython3",
   "version": "3.8.12"
  },
  "toc": {
   "base_numbering": 1,
   "nav_menu": {},
   "number_sections": true,
   "sideBar": true,
   "skip_h1_title": false,
   "title_cell": "Table of Contents",
   "title_sidebar": "Contents",
   "toc_cell": false,
   "toc_position": {},
   "toc_section_display": true,
   "toc_window_display": false
  },
  "varInspector": {
   "cols": {
    "lenName": 16,
    "lenType": 16,
    "lenVar": 40
   },
   "kernels_config": {
    "python": {
     "delete_cmd_postfix": "",
     "delete_cmd_prefix": "del ",
     "library": "var_list.py",
     "varRefreshCmd": "print(var_dic_list())"
    },
    "r": {
     "delete_cmd_postfix": ") ",
     "delete_cmd_prefix": "rm(",
     "library": "var_list.r",
     "varRefreshCmd": "cat(var_dic_list()) "
    }
   },
   "types_to_exclude": [
    "module",
    "function",
    "builtin_function_or_method",
    "instance",
    "_Feature"
   ],
   "window_display": false
  }
 },
 "nbformat": 4,
 "nbformat_minor": 5
}
