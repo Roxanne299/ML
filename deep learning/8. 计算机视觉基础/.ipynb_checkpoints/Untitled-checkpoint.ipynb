{
 "cells": [
  {
   "cell_type": "markdown",
   "id": "a5cb5337",
   "metadata": {
    "ExecuteTime": {
     "end_time": "2022-11-05T06:48:55.667217Z",
     "start_time": "2022-11-05T06:48:55.662690Z"
    }
   },
   "source": [
    "# 卷积神经网络（CNN）基础知识"
   ]
  },
  {
   "cell_type": "markdown",
   "id": "3f497804",
   "metadata": {},
   "source": [
    "## 卷积层\n",
    "卷积层通过卷积核在输入图片的张量上滑动，，然后缩小到另一个张量，进行提取特征，一般是用一个比较小的卷积核，多层进行提取特征。\n",
    "因为卷积核化冻之后得到的张量小很多，所以需要进行边缘填充，都填充0，保证和原来的输入一样大（可以不填充）\n",
    "## 非线性变化层，\n",
    "其实就是激活函数，保证神经网络非线性\n",
    "## 池化层\n",
    "池化层也对应一个池化核，主要就是进行降维，以免神经网络的计算量太大，比如说选取的是最大池化核，假如这个池化核是2*2的那么就是在这个2*2的四个像素中选取一个数值最大的像素留下来。4*4 变成 2*2\n",
    "## 全连接层\n",
    "因为不同的卷积核提取的特征不一样，有的对边缘特征敏感，有的对眼睛，耳朵敏感，全连接层就是将这些特征全部连接在一块，通过全部的特征来进行分类\n",
    "\n"
   ]
  },
  {
   "cell_type": "markdown",
   "id": "0142aafe",
   "metadata": {},
   "source": [
    "![CNN_framework](./dataset2/CNN_01.png)\n",
    "1. 首先是卷积层，一个卷积核对应一个张量，三个卷积核对应三个张量\n",
    "2. 再使用池化层进行降维\n",
    "3. 再使用卷积核进行特征提取\n",
    "4. 再池化\n",
    "5. 再提取特征进行全连接层\n",
    "\n",
    "越来越厚 越来越小 最后使用全连接层进行连接所有特征"
   ]
  },
  {
   "cell_type": "markdown",
   "id": "2a261ada",
   "metadata": {},
   "source": [
    "# 手写数字分类（卷积模型）"
   ]
  },
  {
   "cell_type": "code",
   "execution_count": 2,
   "id": "5aaa54ab",
   "metadata": {
    "ExecuteTime": {
     "end_time": "2022-11-05T06:51:18.459348Z",
     "start_time": "2022-11-05T06:51:18.090106Z"
    }
   },
   "outputs": [],
   "source": [
    "import torchvision\n",
    "from torchvision.transforms import ToTensor\n",
    "import torch.utils.data.dataloader"
   ]
  },
  {
   "cell_type": "code",
   "execution_count": 3,
   "id": "45c2ba33",
   "metadata": {
    "ExecuteTime": {
     "end_time": "2022-11-05T06:52:05.008584Z",
     "start_time": "2022-11-05T06:51:20.211862Z"
    }
   },
   "outputs": [
    {
     "name": "stdout",
     "output_type": "stream",
     "text": [
      "Downloading http://yann.lecun.com/exdb/mnist/train-images-idx3-ubyte.gz\n",
      "Downloading http://yann.lecun.com/exdb/mnist/train-images-idx3-ubyte.gz to ./data\\MNIST\\raw\\train-images-idx3-ubyte.gz\n"
     ]
    },
    {
     "data": {
      "application/vnd.jupyter.widget-view+json": {
       "model_id": "872d1643653c45eda08d6ae9c903f7d6",
       "version_major": 2,
       "version_minor": 0
      },
      "text/plain": [
       "  0%|          | 0/9912422 [00:00<?, ?it/s]"
      ]
     },
     "metadata": {},
     "output_type": "display_data"
    },
    {
     "name": "stdout",
     "output_type": "stream",
     "text": [
      "Extracting ./data\\MNIST\\raw\\train-images-idx3-ubyte.gz to ./data\\MNIST\\raw\n",
      "\n",
      "Downloading http://yann.lecun.com/exdb/mnist/train-labels-idx1-ubyte.gz\n",
      "Downloading http://yann.lecun.com/exdb/mnist/train-labels-idx1-ubyte.gz to ./data\\MNIST\\raw\\train-labels-idx1-ubyte.gz\n"
     ]
    },
    {
     "data": {
      "application/vnd.jupyter.widget-view+json": {
       "model_id": "83bbd420c60f4ec89972882c942d2b30",
       "version_major": 2,
       "version_minor": 0
      },
      "text/plain": [
       "  0%|          | 0/28881 [00:00<?, ?it/s]"
      ]
     },
     "metadata": {},
     "output_type": "display_data"
    },
    {
     "name": "stdout",
     "output_type": "stream",
     "text": [
      "Extracting ./data\\MNIST\\raw\\train-labels-idx1-ubyte.gz to ./data\\MNIST\\raw\n",
      "\n",
      "Downloading http://yann.lecun.com/exdb/mnist/t10k-images-idx3-ubyte.gz\n",
      "Downloading http://yann.lecun.com/exdb/mnist/t10k-images-idx3-ubyte.gz to ./data\\MNIST\\raw\\t10k-images-idx3-ubyte.gz\n"
     ]
    },
    {
     "data": {
      "application/vnd.jupyter.widget-view+json": {
       "model_id": "57bdf7fd079240519f7b908a0c220af6",
       "version_major": 2,
       "version_minor": 0
      },
      "text/plain": [
       "  0%|          | 0/1648877 [00:00<?, ?it/s]"
      ]
     },
     "metadata": {},
     "output_type": "display_data"
    },
    {
     "name": "stdout",
     "output_type": "stream",
     "text": [
      "Extracting ./data\\MNIST\\raw\\t10k-images-idx3-ubyte.gz to ./data\\MNIST\\raw\n",
      "\n",
      "Downloading http://yann.lecun.com/exdb/mnist/t10k-labels-idx1-ubyte.gz\n",
      "Downloading http://yann.lecun.com/exdb/mnist/t10k-labels-idx1-ubyte.gz to ./data\\MNIST\\raw\\t10k-labels-idx1-ubyte.gz\n"
     ]
    },
    {
     "data": {
      "application/vnd.jupyter.widget-view+json": {
       "model_id": "e4c01e0323014d21bacca4537f59bd90",
       "version_major": 2,
       "version_minor": 0
      },
      "text/plain": [
       "  0%|          | 0/4542 [00:00<?, ?it/s]"
      ]
     },
     "metadata": {},
     "output_type": "display_data"
    },
    {
     "name": "stdout",
     "output_type": "stream",
     "text": [
      "Extracting ./data\\MNIST\\raw\\t10k-labels-idx1-ubyte.gz to ./data\\MNIST\\raw\n",
      "\n"
     ]
    }
   ],
   "source": [
    "train_ds = torchvision.datasets.MNIST('./data',train=True,transform=ToTensor(),download=True)\n",
    "test_ds = torchvision.datasets.MNIST('./data',train=False,transform=ToTensor(),download=True)"
   ]
  },
  {
   "cell_type": "code",
   "execution_count": 4,
   "id": "04e1bd3d",
   "metadata": {
    "ExecuteTime": {
     "end_time": "2022-11-05T06:52:16.525676Z",
     "start_time": "2022-11-05T06:52:16.509665Z"
    }
   },
   "outputs": [],
   "source": [
    "train_dl = torch.utils.data.DataLoader(train_ds,batch_size=64,shuffle=True)\n",
    "test_dl = torch.utils.data.DataLoader(test_ds,batch_size=64,shuffle=True)"
   ]
  },
  {
   "cell_type": "code",
   "execution_count": 60,
   "id": "2c807b84",
   "metadata": {
    "ExecuteTime": {
     "end_time": "2022-11-06T05:48:29.218030Z",
     "start_time": "2022-11-06T05:48:29.209112Z"
    }
   },
   "outputs": [],
   "source": [
    "from torch import nn"
   ]
  },
  {
   "cell_type": "code",
   "execution_count": 10,
   "id": "2d3e3fb6",
   "metadata": {
    "ExecuteTime": {
     "end_time": "2022-11-05T07:31:16.630577Z",
     "start_time": "2022-11-05T07:31:16.617504Z"
    }
   },
   "outputs": [],
   "source": [
    "class Model(nn.Module):\n",
    "    def __init__(self):\n",
    "        super().__init__()\n",
    "         # 2d的卷积层 \n",
    "        # in_channels(输入的channel也就是（channel，width，height）中的channel) out_channels(也就是使用多少个卷积核 1-n)\n",
    "        # kernel_size卷积核的大小 stride:跨度默认为1 padding：填充默认0\n",
    "        self.conv1 = nn.Conv2d(1,6,5) \n",
    "        # kernel_size 池化核大小\n",
    "        self.pool = nn.MaxPool2d((2,2))\n",
    "        self.conv2 = nn.Conv2d(6,16,5)\n",
    "        self.linear1 = nn.Linear(16*4*4,256)\n",
    "        self.linear2 = nn.Linear(256,10)\n",
    "    def forward(self,input):\n",
    "        # 使用卷积模型的时候不会讲图像展平 会保留图像的空间结构所以展评是放在所有的特征提取之后\n",
    "        # x = input.view(-1,1*28*28)\n",
    "        x = torch.relu(self.conv1(input))\n",
    "        x = self.pool(x)\n",
    "        x = torch.relu(self.conv2(x))\n",
    "        x = self.pool(x)\n",
    "        # print(x.size())\n",
    "        x = x.view(x.size(0),-1)\n",
    "        x = torch.relu(self.linear1(x))\n",
    "        x = self.linear2(x)\n",
    "        return x"
   ]
  },
  {
   "cell_type": "code",
   "execution_count": 11,
   "id": "27050d8e",
   "metadata": {
    "ExecuteTime": {
     "end_time": "2022-11-05T07:31:20.183877Z",
     "start_time": "2022-11-05T07:31:20.174764Z"
    }
   },
   "outputs": [],
   "source": [
    "loss_fn = torch.nn.CrossEntropyLoss()\n",
    "device = \"cuda\" if torch.cuda.is_available() else \"cpu\"\n",
    "model = Model().to(device)\n",
    "opt = torch.optim.SGD(model.parameters(),lr=0.001)"
   ]
  },
  {
   "cell_type": "code",
   "execution_count": 12,
   "id": "a4915a08",
   "metadata": {
    "ExecuteTime": {
     "end_time": "2022-11-05T07:31:21.058431Z",
     "start_time": "2022-11-05T07:31:21.042105Z"
    }
   },
   "outputs": [],
   "source": [
    "def train(dl,model,loss_fn,optimizer):\n",
    "    size = len(dl.dataset)\n",
    "    num_batches = len(dl)\n",
    "    \n",
    "    train_loss,correct = 0,0\n",
    "    for x,y in dl:\n",
    "        x,y = x.to(device),y.to(device)\n",
    "        pred = model(x)\n",
    "        # loss_fn返回的是这个批次的平均损失\n",
    "        loss = loss_fn(pred,y)\n",
    "        optimizer.zero_grad()\n",
    "        loss.backward()\n",
    "        optimizer.step()\n",
    "        with torch.no_grad():\n",
    "            correct += (pred.argmax(1) == y).type(torch.float).sum().item()\n",
    "            train_loss += loss.item()\n",
    "    correct /= size\n",
    "    train_loss /= num_batches\n",
    "    return correct,train_loss"
   ]
  },
  {
   "cell_type": "code",
   "execution_count": 13,
   "id": "b1d0559d",
   "metadata": {
    "ExecuteTime": {
     "end_time": "2022-11-05T07:31:22.110698Z",
     "start_time": "2022-11-05T07:31:22.092630Z"
    }
   },
   "outputs": [],
   "source": [
    "def test(test_dl,model,loss_fn):\n",
    "    size = len(test_dl.dataset)\n",
    "    num_batches = len(test_dl)\n",
    "    \n",
    "    test_loss,correct = 0,0\n",
    "    with torch.no_grad():\n",
    "        for x,y in test_dl:\n",
    "            x,y = x.to(device),y.to(device)\n",
    "            pred = model(x)\n",
    "            # loss_fn返回的是这个批次的平均损失\n",
    "            loss = loss_fn(pred,y)\n",
    "            test_loss = loss_fn(pred,y)\n",
    "            test_loss += loss.item()\n",
    "            correct += (pred.argmax(1) == y).type(torch.float).sum().item()\n",
    "    correct /= size\n",
    "    test_loss /= num_batches\n",
    "    return correct,test_loss"
   ]
  },
  {
   "cell_type": "code",
   "execution_count": 14,
   "id": "714bf85e",
   "metadata": {
    "ExecuteTime": {
     "end_time": "2022-11-05T07:32:04.827144Z",
     "start_time": "2022-11-05T07:31:23.867846Z"
    }
   },
   "outputs": [
    {
     "name": "stdout",
     "output_type": "stream",
     "text": [
      "epoch: 0,train_loss:2.29742,train_acc:0.1,test_loss:0.02875,test_acc:0.2\n",
      "epoch: 1,train_loss:2.26473,train_acc:0.3,test_loss:0.02886,test_acc:0.5\n",
      "epoch: 2,train_loss:2.15543,train_acc:0.5,test_loss:0.02559,test_acc:0.6\n"
     ]
    },
    {
     "ename": "KeyboardInterrupt",
     "evalue": "",
     "output_type": "error",
     "traceback": [
      "\u001b[1;31m---------------------------------------------------------------------------\u001b[0m",
      "\u001b[1;31mKeyboardInterrupt\u001b[0m                         Traceback (most recent call last)",
      "Input \u001b[1;32mIn [14]\u001b[0m, in \u001b[0;36m<cell line: 7>\u001b[1;34m()\u001b[0m\n\u001b[0;32m      5\u001b[0m test_acc \u001b[38;5;241m=\u001b[39m []\n\u001b[0;32m      7\u001b[0m \u001b[38;5;28;01mfor\u001b[39;00m epoch \u001b[38;5;129;01min\u001b[39;00m \u001b[38;5;28mrange\u001b[39m(epoches):\n\u001b[1;32m----> 8\u001b[0m     epoch_acc,epoch_loss \u001b[38;5;241m=\u001b[39m \u001b[43mtrain\u001b[49m\u001b[43m(\u001b[49m\u001b[43mtrain_dl\u001b[49m\u001b[43m,\u001b[49m\u001b[43mmodel\u001b[49m\u001b[43m,\u001b[49m\u001b[43mloss_fn\u001b[49m\u001b[43m,\u001b[49m\u001b[43mopt\u001b[49m\u001b[43m)\u001b[49m\n\u001b[0;32m      9\u001b[0m     epoch_test_acc,epoch_test_loss \u001b[38;5;241m=\u001b[39m test(test_dl,model,loss_fn)\n\u001b[0;32m     10\u001b[0m     train_acc\u001b[38;5;241m.\u001b[39mappend(epoch_acc)\n",
      "Input \u001b[1;32mIn [12]\u001b[0m, in \u001b[0;36mtrain\u001b[1;34m(dl, model, loss_fn, optimizer)\u001b[0m\n\u001b[0;32m     13\u001b[0m     optimizer\u001b[38;5;241m.\u001b[39mstep()\n\u001b[0;32m     14\u001b[0m     \u001b[38;5;28;01mwith\u001b[39;00m torch\u001b[38;5;241m.\u001b[39mno_grad():\n\u001b[1;32m---> 15\u001b[0m         correct \u001b[38;5;241m+\u001b[39m\u001b[38;5;241m=\u001b[39m \u001b[43m(\u001b[49m\u001b[43mpred\u001b[49m\u001b[38;5;241;43m.\u001b[39;49m\u001b[43margmax\u001b[49m\u001b[43m(\u001b[49m\u001b[38;5;241;43m1\u001b[39;49m\u001b[43m)\u001b[49m\u001b[43m \u001b[49m\u001b[38;5;241;43m==\u001b[39;49m\u001b[43m \u001b[49m\u001b[43my\u001b[49m\u001b[43m)\u001b[49m\u001b[38;5;241;43m.\u001b[39;49m\u001b[43mtype\u001b[49m\u001b[43m(\u001b[49m\u001b[43mtorch\u001b[49m\u001b[38;5;241;43m.\u001b[39;49m\u001b[43mfloat\u001b[49m\u001b[43m)\u001b[49m\u001b[38;5;241;43m.\u001b[39;49m\u001b[43msum\u001b[49m\u001b[43m(\u001b[49m\u001b[43m)\u001b[49m\u001b[38;5;241;43m.\u001b[39;49m\u001b[43mitem\u001b[49m\u001b[43m(\u001b[49m\u001b[43m)\u001b[49m\n\u001b[0;32m     16\u001b[0m         train_loss \u001b[38;5;241m+\u001b[39m\u001b[38;5;241m=\u001b[39m loss\u001b[38;5;241m.\u001b[39mitem()\n\u001b[0;32m     17\u001b[0m correct \u001b[38;5;241m/\u001b[39m\u001b[38;5;241m=\u001b[39m size\n",
      "\u001b[1;31mKeyboardInterrupt\u001b[0m: "
     ]
    }
   ],
   "source": [
    "epoches = 50\n",
    "train_loss = []\n",
    "train_acc = []\n",
    "test_loss = []\n",
    "test_acc = []\n",
    "\n",
    "for epoch in range(epoches):\n",
    "    epoch_acc,epoch_loss = train(train_dl,model,loss_fn,opt)\n",
    "    epoch_test_acc,epoch_test_loss = test(test_dl,model,loss_fn)\n",
    "    train_acc.append(epoch_acc)\n",
    "    train_loss.append(epoch_loss)\n",
    "    test_acc.append(epoch_test_acc)\n",
    "    test_loss.append(epoch_test_loss)\n",
    "    \n",
    "    template = (\"epoch:{:2d},train_loss:{:.5f},train_acc:{:.1f},test_loss:{:.5f},test_acc:{:.1f}\")\n",
    "    print(template.format(epoch,epoch_loss,epoch_acc*100,epoch_test_loss,epoch_test_acc*100))\n",
    "print(\"done\")"
   ]
  },
  {
   "cell_type": "markdown",
   "id": "65d2e18b",
   "metadata": {},
   "source": [
    "## 四种天气图片数据分类"
   ]
  },
  {
   "cell_type": "markdown",
   "id": "d5a4cf33",
   "metadata": {},
   "source": [
    "### 使用`torchvision`读取图片"
   ]
  },
  {
   "cell_type": "code",
   "execution_count": 46,
   "id": "d9b01e23",
   "metadata": {
    "ExecuteTime": {
     "end_time": "2022-11-06T05:46:22.226942Z",
     "start_time": "2022-11-06T05:46:22.208214Z"
    }
   },
   "outputs": [],
   "source": [
    "import torch\n",
    "import torch.nn\n",
    "import torch.nn.functional as F\n",
    "import torch.optim\n",
    "import numpy as np\n",
    "import pandas as pd\n",
    "import matplotlib.pyplot as plt\n",
    "import torchvision\n",
    "import os\n",
    "import sys\n",
    "import shutil"
   ]
  },
  {
   "cell_type": "code",
   "execution_count": 47,
   "id": "215b4ec0",
   "metadata": {
    "ExecuteTime": {
     "end_time": "2022-11-06T05:46:22.568448Z",
     "start_time": "2022-11-06T05:46:22.558944Z"
    }
   },
   "outputs": [],
   "source": [
    "# 从分类文件夹中创建dataset数据 要求每一个类别就是一个文件夹\n",
    "base_dir = './dataset/weather'\n",
    "if not os.path.isdir(base_dir):\n",
    "    os.makedirs(base_dir)\n",
    "    train_dir = os.path.join(base_dir,'train')\n",
    "    test_dir = os.path.join(base_dir,'test')\n",
    "    os.makedirs(train_dir)\n",
    "    os.makedirs(test_dir)"
   ]
  },
  {
   "cell_type": "code",
   "execution_count": 48,
   "id": "64261b60",
   "metadata": {
    "ExecuteTime": {
     "end_time": "2022-11-06T05:46:22.910325Z",
     "start_time": "2022-11-06T05:46:22.881516Z"
    }
   },
   "outputs": [
    {
     "ename": "FileExistsError",
     "evalue": "[WinError 183] 当文件已存在时，无法创建该文件。: './dataset/weather\\\\test\\\\cloudy'",
     "output_type": "error",
     "traceback": [
      "\u001b[1;31m---------------------------------------------------------------------------\u001b[0m",
      "\u001b[1;31mFileExistsError\u001b[0m                           Traceback (most recent call last)",
      "Input \u001b[1;32mIn [48]\u001b[0m, in \u001b[0;36m<cell line: 2>\u001b[1;34m()\u001b[0m\n\u001b[0;32m      1\u001b[0m space \u001b[38;5;241m=\u001b[39m [\u001b[38;5;124m'\u001b[39m\u001b[38;5;124mcloudy\u001b[39m\u001b[38;5;124m'\u001b[39m,\u001b[38;5;124m'\u001b[39m\u001b[38;5;124mrain\u001b[39m\u001b[38;5;124m'\u001b[39m,\u001b[38;5;124m'\u001b[39m\u001b[38;5;124mshine\u001b[39m\u001b[38;5;124m'\u001b[39m,\u001b[38;5;124m'\u001b[39m\u001b[38;5;124msunrise\u001b[39m\u001b[38;5;124m'\u001b[39m]\n\u001b[0;32m      2\u001b[0m \u001b[38;5;28;01mfor\u001b[39;00m state \u001b[38;5;129;01min\u001b[39;00m space:\n\u001b[1;32m----> 3\u001b[0m     \u001b[43mos\u001b[49m\u001b[38;5;241;43m.\u001b[39;49m\u001b[43mmakedirs\u001b[49m\u001b[43m(\u001b[49m\u001b[43mos\u001b[49m\u001b[38;5;241;43m.\u001b[39;49m\u001b[43mpath\u001b[49m\u001b[38;5;241;43m.\u001b[39;49m\u001b[43mjoin\u001b[49m\u001b[43m(\u001b[49m\u001b[43mtest_dir\u001b[49m\u001b[43m,\u001b[49m\u001b[43mstate\u001b[49m\u001b[43m)\u001b[49m\u001b[43m)\u001b[49m\n\u001b[0;32m      4\u001b[0m     os\u001b[38;5;241m.\u001b[39mmakedirs(os\u001b[38;5;241m.\u001b[39mpath\u001b[38;5;241m.\u001b[39mjoin(train_dir,state))\n",
      "File \u001b[1;32mD:\\software\\miniconda\\lib\\os.py:223\u001b[0m, in \u001b[0;36mmakedirs\u001b[1;34m(name, mode, exist_ok)\u001b[0m\n\u001b[0;32m    221\u001b[0m         \u001b[38;5;28;01mreturn\u001b[39;00m\n\u001b[0;32m    222\u001b[0m \u001b[38;5;28;01mtry\u001b[39;00m:\n\u001b[1;32m--> 223\u001b[0m     \u001b[43mmkdir\u001b[49m\u001b[43m(\u001b[49m\u001b[43mname\u001b[49m\u001b[43m,\u001b[49m\u001b[43m \u001b[49m\u001b[43mmode\u001b[49m\u001b[43m)\u001b[49m\n\u001b[0;32m    224\u001b[0m \u001b[38;5;28;01mexcept\u001b[39;00m \u001b[38;5;167;01mOSError\u001b[39;00m:\n\u001b[0;32m    225\u001b[0m     \u001b[38;5;66;03m# Cannot rely on checking for EEXIST, since the operating system\u001b[39;00m\n\u001b[0;32m    226\u001b[0m     \u001b[38;5;66;03m# could give priority to other errors like EACCES or EROFS\u001b[39;00m\n\u001b[0;32m    227\u001b[0m     \u001b[38;5;28;01mif\u001b[39;00m \u001b[38;5;129;01mnot\u001b[39;00m exist_ok \u001b[38;5;129;01mor\u001b[39;00m \u001b[38;5;129;01mnot\u001b[39;00m path\u001b[38;5;241m.\u001b[39misdir(name):\n",
      "\u001b[1;31mFileExistsError\u001b[0m: [WinError 183] 当文件已存在时，无法创建该文件。: './dataset/weather\\\\test\\\\cloudy'"
     ]
    }
   ],
   "source": [
    "space = ['cloudy','rain','shine','sunrise']\n",
    "for state in space:\n",
    "    os.makedirs(os.path.join(test_dir,state))\n",
    "    os.makedirs(os.path.join(train_dir,state))"
   ]
  },
  {
   "cell_type": "code",
   "execution_count": 49,
   "id": "2f19f555",
   "metadata": {
    "ExecuteTime": {
     "end_time": "2022-11-06T05:46:23.822303Z",
     "start_time": "2022-11-06T05:46:23.261599Z"
    }
   },
   "outputs": [],
   "source": [
    "image_dir = r'./dataset2/'\n",
    "for i,img  in enumerate(os.listdir(image_dir)):\n",
    "    for spec in space:\n",
    "        if spec in img:\n",
    "            s = os.path.join(image_dir,img)\n",
    "            if i%5 == 0:\n",
    "                d = os.path.join(base_dir,'test',spec,img)\n",
    "            else:\n",
    "                d = os.path.join(base_dir,'train',spec,img)\n",
    "            shutil.copy(s,d) "
   ]
  },
  {
   "cell_type": "code",
   "execution_count": 50,
   "id": "1a77f332",
   "metadata": {
    "ExecuteTime": {
     "end_time": "2022-11-06T05:46:23.869717Z",
     "start_time": "2022-11-06T05:46:23.856386Z"
    }
   },
   "outputs": [],
   "source": [
    "from torchvision import transforms"
   ]
  },
  {
   "cell_type": "code",
   "execution_count": 51,
   "id": "43150311",
   "metadata": {
    "ExecuteTime": {
     "end_time": "2022-11-06T05:46:24.230409Z",
     "start_time": "2022-11-06T05:46:24.212268Z"
    }
   },
   "outputs": [],
   "source": [
    "transform = transforms.Compose([\n",
    "    transforms.Resize((96,96)),\n",
    "    # 将channel 放在第一 将数据规划到0-1 准换tensor类型\n",
    "    transforms.ToTensor(),\n",
    "    # 归一化 为什么均值和方差是三维的 代表什么意思\n",
    "    transforms.Normalize(mean=[0.5,0.5,0.5],std=[0.5,0.5,0.5])\n",
    "])\n",
    "train_ds = torchvision.datasets.ImageFolder('./dataset/weather/train/',transform = transform)\n",
    "test_ds = torchvision.datasets.ImageFolder('./dataset/weather/test/',transform = transform)"
   ]
  },
  {
   "cell_type": "code",
   "execution_count": 52,
   "id": "766f2402",
   "metadata": {
    "ExecuteTime": {
     "end_time": "2022-11-06T05:46:24.618892Z",
     "start_time": "2022-11-06T05:46:24.599847Z"
    }
   },
   "outputs": [
    {
     "data": {
      "text/plain": [
       "900"
      ]
     },
     "execution_count": 52,
     "metadata": {},
     "output_type": "execute_result"
    }
   ],
   "source": [
    "# 查看dataset的类型\n",
    "train_ds.classes\n",
    "# 查看dataset的类型对应编号\n",
    "train_ds.class_to_idx\n",
    "\n",
    "len(train_ds)"
   ]
  },
  {
   "cell_type": "code",
   "execution_count": 53,
   "id": "c08f6dc9",
   "metadata": {
    "ExecuteTime": {
     "end_time": "2022-11-06T05:46:25.004740Z",
     "start_time": "2022-11-06T05:46:25.000216Z"
    }
   },
   "outputs": [],
   "source": [
    "train_dl = torch.utils.data.DataLoader(\n",
    "    train_ds,\n",
    "    batch_size = 16,\n",
    "    shuffle=True\n",
    ")\n",
    "test_dl = torch.utils.data.DataLoader(\n",
    "    test_ds,\n",
    "    batch_size = 16,\n",
    "    shuffle=True\n",
    ")"
   ]
  },
  {
   "cell_type": "code",
   "execution_count": 54,
   "id": "513ed1a6",
   "metadata": {
    "ExecuteTime": {
     "end_time": "2022-11-06T05:46:25.510330Z",
     "start_time": "2022-11-06T05:46:25.442673Z"
    }
   },
   "outputs": [],
   "source": [
    "imgs,labels = next(iter(test_dl))"
   ]
  },
  {
   "cell_type": "code",
   "execution_count": 55,
   "id": "a04a2b97",
   "metadata": {
    "ExecuteTime": {
     "end_time": "2022-11-06T05:46:25.866230Z",
     "start_time": "2022-11-06T05:46:25.847220Z"
    }
   },
   "outputs": [
    {
     "data": {
      "text/plain": [
       "torch.Size([96, 96, 3])"
      ]
     },
     "execution_count": 55,
     "metadata": {},
     "output_type": "execute_result"
    }
   ],
   "source": [
    "im = imgs[0].permute(1,2,0)\n",
    "im.shape"
   ]
  },
  {
   "cell_type": "code",
   "execution_count": 56,
   "id": "68a0f97b",
   "metadata": {
    "ExecuteTime": {
     "end_time": "2022-11-06T05:46:26.177149Z",
     "start_time": "2022-11-06T05:46:26.169744Z"
    }
   },
   "outputs": [],
   "source": [
    "im = im.numpy()\n"
   ]
  },
  {
   "cell_type": "code",
   "execution_count": 57,
   "id": "3e6ab94f",
   "metadata": {
    "ExecuteTime": {
     "end_time": "2022-11-06T05:46:26.505939Z",
     "start_time": "2022-11-06T05:46:26.487121Z"
    }
   },
   "outputs": [],
   "source": [
    "im = (im + 1 )/2"
   ]
  },
  {
   "cell_type": "code",
   "execution_count": 58,
   "id": "6742aaaf",
   "metadata": {
    "ExecuteTime": {
     "end_time": "2022-11-06T05:46:27.018417Z",
     "start_time": "2022-11-06T05:46:26.939699Z"
    }
   },
   "outputs": [
    {
     "data": {
      "text/plain": [
       "tensor(0)"
      ]
     },
     "execution_count": 58,
     "metadata": {},
     "output_type": "execute_result"
    },
    {
     "data": {
      "image/png": "[encoded data removed]",
      "text/plain": [
       "<Figure size 640x480 with 1 Axes>"
      ]
     },
     "metadata": {},
     "output_type": "display_data"
    }
   ],
   "source": [
    "plt.imshow(im)\n",
    "labels[0]"
   ]
  },
  {
   "cell_type": "code",
   "execution_count": null,
   "id": "b0d7f617",
   "metadata": {
    "ExecuteTime": {
     "end_time": "2022-11-06T05:36:56.565062Z",
     "start_time": "2022-11-06T05:36:56.554843Z"
    }
   },
   "outputs": [],
   "source": []
  },
  {
   "cell_type": "code",
   "execution_count": 59,
   "id": "7e5e2f9c",
   "metadata": {
    "ExecuteTime": {
     "end_time": "2022-11-06T05:46:35.483039Z",
     "start_time": "2022-11-06T05:46:35.478034Z"
    }
   },
   "outputs": [
    {
     "ename": "SyntaxError",
     "evalue": "invalid syntax (4047348579.py, line 2)",
     "output_type": "error",
     "traceback": [
      "\u001b[1;36m  Input \u001b[1;32mIn [59]\u001b[1;36m\u001b[0m\n\u001b[1;33m    def __ini\u001b[0m\n\u001b[1;37m             ^\u001b[0m\n\u001b[1;31mSyntaxError\u001b[0m\u001b[1;31m:\u001b[0m invalid syntax\n"
     ]
    }
   ],
   "source": [
    "class Net(nn.Module):\n",
    "    def __init__(self):\n",
    "        super().__init__()\n",
    "        self.conv1 = nn.Conv2d(3,16,3)\n",
    "        self.conv2 = nn.Conv2d(16,32,3)\n",
    "        self.conv3 = nn.Conv2d(32,64,3)\n",
    "        self.pool = nn.MaxPool2d(2,2)\n",
    "        self.fcl1 = nn.Linear(64*12*12,1024)\n",
    "        self.fcl2 = nn.Linear(1024,4)\n",
    "        \n",
    "        "
   ]
  },
  {
   "cell_type": "code",
   "execution_count": null,
   "id": "dc2d5c8c",
   "metadata": {},
   "outputs": [],
   "source": []
  },
  {
   "cell_type": "code",
   "execution_count": null,
   "id": "e32a866d",
   "metadata": {},
   "outputs": [],
   "source": []
  }
 ],
 "metadata": {
  "kernelspec": {
   "display_name": "Python 3 (ipykernel)",
   "language": "python",
   "name": "python3"
  },
  "language_info": {
   "codemirror_mode": {
    "name": "ipython",
    "version": 3
   },
   "file_extension": ".py",
   "mimetype": "text/x-python",
   "name": "python",
   "nbconvert_exporter": "python",
   "pygments_lexer": "ipython3",
   "version": "3.8.12"
  },
  "toc": {
   "base_numbering": 1,
   "nav_menu": {},
   "number_sections": true,
   "sideBar": true,
   "skip_h1_title": false,
   "title_cell": "Table of Contents",
   "title_sidebar": "Contents",
   "toc_cell": false,
   "toc_position": {},
   "toc_section_display": true,
   "toc_window_display": false
  },
  "varInspector": {
   "cols": {
    "lenName": 16,
    "lenType": 16,
    "lenVar": 40
   },
   "kernels_config": {
    "python": {
     "delete_cmd_postfix": "",
     "delete_cmd_prefix": "del ",
     "library": "var_list.py",
     "varRefreshCmd": "print(var_dic_list())"
    },
    "r": {
     "delete_cmd_postfix": ") ",
     "delete_cmd_prefix": "rm(",
     "library": "var_list.r",
     "varRefreshCmd": "cat(var_dic_list()) "
    }
   },
   "types_to_exclude": [
    "module",
    "function",
    "builtin_function_or_method",
    "instance",
    "_Feature"
   ],
   "window_display": false
  }
 },
 "nbformat": 4,
 "nbformat_minor": 5
}
