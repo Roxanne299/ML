{
 "cells": [
  {
   "cell_type": "code",
   "execution_count": 175,
   "id": "d196e21a",
   "metadata": {
    "ExecuteTime": {
     "end_time": "2022-10-29T12:30:25.221868Z",
     "start_time": "2022-10-29T12:30:25.219859Z"
    }
   },
   "outputs": [],
   "source": [
    "# 激活函数relu = max(x,0)\n",
    "import torch"
   ]
  },
  {
   "cell_type": "code",
   "execution_count": 176,
   "id": "9dc7e15b",
   "metadata": {
    "ExecuteTime": {
     "end_time": "2022-10-29T12:30:25.439770Z",
     "start_time": "2022-10-29T12:30:25.422426Z"
    }
   },
   "outputs": [
    {
     "data": {
      "text/plain": [
       "tensor([-0.7726,  3.0174, -0.2824,  0.2303,  0.4845, -0.0854, -2.4958,  0.8518])"
      ]
     },
     "execution_count": 176,
     "metadata": {},
     "output_type": "execute_result"
    }
   ],
   "source": [
    "input = torch.randn(8)\n",
    "input"
   ]
  },
  {
   "cell_type": "code",
   "execution_count": 177,
   "id": "9686f1aa",
   "metadata": {
    "ExecuteTime": {
     "end_time": "2022-10-29T12:30:25.580204Z",
     "start_time": "2022-10-29T12:30:25.568885Z"
    }
   },
   "outputs": [
    {
     "data": {
      "text/plain": [
       "tensor([0.0000, 3.0174, 0.0000, 0.2303, 0.4845, 0.0000, 0.0000, 0.8518])"
      ]
     },
     "execution_count": 177,
     "metadata": {},
     "output_type": "execute_result"
    }
   ],
   "source": [
    "torch.relu(input)"
   ]
  },
  {
   "cell_type": "code",
   "execution_count": 178,
   "id": "de8feb1f",
   "metadata": {
    "ExecuteTime": {
     "end_time": "2022-10-29T12:30:25.736983Z",
     "start_time": "2022-10-29T12:30:25.726043Z"
    }
   },
   "outputs": [
    {
     "data": {
      "text/plain": [
       "tensor([0.3159, 0.9534, 0.4299, 0.5573, 0.6188, 0.4787, 0.0762, 0.7009])"
      ]
     },
     "execution_count": 178,
     "metadata": {},
     "output_type": "execute_result"
    }
   ],
   "source": [
    "# 激活函数 sigmoid  = 1/(1+e^(-x))  范围在0-1 常常解决二分类问题\n",
    "\n",
    "torch.sigmoid(input)"
   ]
  },
  {
   "cell_type": "code",
   "execution_count": 179,
   "id": "96042b88",
   "metadata": {
    "ExecuteTime": {
     "end_time": "2022-10-29T12:30:25.908505Z",
     "start_time": "2022-10-29T12:30:25.901487Z"
    }
   },
   "outputs": [
    {
     "data": {
      "text/plain": [
       "tensor([-0.6484,  0.9952, -0.2751,  0.2263,  0.4498, -0.0852, -0.9865,  0.6920])"
      ]
     },
     "execution_count": 179,
     "metadata": {},
     "output_type": "execute_result"
    }
   ],
   "source": [
    "# 激活函数 tanh 双曲正切函数 -1 - 1\n",
    "torch.tanh(input)"
   ]
  },
  {
   "cell_type": "code",
   "execution_count": 180,
   "id": "48346a5e",
   "metadata": {
    "ExecuteTime": {
     "end_time": "2022-10-29T12:30:26.077432Z",
     "start_time": "2022-10-29T12:30:26.058367Z"
    }
   },
   "outputs": [
    {
     "data": {
      "text/plain": [
       "LeakyReLU(negative_slope=tensor([-0.7726,  3.0174, -0.2824,  0.2303,  0.4845, -0.0854, -2.4958,  0.8518]))"
      ]
     },
     "execution_count": 180,
     "metadata": {},
     "output_type": "execute_result"
    }
   ],
   "source": [
    "# 激活函数 Leak relu 给负数一个很小的斜率\n",
    "from torch import nn\n",
    "nn.LeakyReLU(input)"
   ]
  },
  {
   "cell_type": "code",
   "execution_count": 181,
   "id": "53b9ec7d",
   "metadata": {
    "ExecuteTime": {
     "end_time": "2022-10-29T12:30:26.218342Z",
     "start_time": "2022-10-29T12:30:26.208828Z"
    }
   },
   "outputs": [],
   "source": [
    "#激活函数必须是线性可导的"
   ]
  },
  {
   "cell_type": "code",
   "execution_count": null,
   "id": "3dbf1112",
   "metadata": {},
   "outputs": [],
   "source": []
  },
  {
   "cell_type": "code",
   "execution_count": 182,
   "id": "255585a5",
   "metadata": {
    "ExecuteTime": {
     "end_time": "2022-10-29T12:30:26.624567Z",
     "start_time": "2022-10-29T12:30:26.620671Z"
    }
   },
   "outputs": [],
   "source": [
    "import numpy as np\n",
    "import pandas as pd\n",
    "import matplotlib.pyplot as plt"
   ]
  },
  {
   "cell_type": "code",
   "execution_count": 183,
   "id": "75bf36df",
   "metadata": {
    "ExecuteTime": {
     "end_time": "2022-10-29T12:30:26.810163Z",
     "start_time": "2022-10-29T12:30:26.779004Z"
    }
   },
   "outputs": [
    {
     "data": {
      "text/html": [
       "<div>\n",
       "<style scoped>\n",
       "    .dataframe tbody tr th:only-of-type {\n",
       "        vertical-align: middle;\n",
       "    }\n",
       "\n",
       "    .dataframe tbody tr th {\n",
       "        vertical-align: top;\n",
       "    }\n",
       "\n",
       "    .dataframe thead th {\n",
       "        text-align: right;\n",
       "    }\n",
       "</style>\n",
       "<table border=\"1\" class=\"dataframe\">\n",
       "  <thead>\n",
       "    <tr style=\"text-align: right;\">\n",
       "      <th></th>\n",
       "      <th>satisfaction_level</th>\n",
       "      <th>last_evaluation</th>\n",
       "      <th>number_project</th>\n",
       "      <th>average_montly_hours</th>\n",
       "      <th>time_spend_company</th>\n",
       "      <th>Work_accident</th>\n",
       "      <th>left</th>\n",
       "      <th>promotion_last_5years</th>\n",
       "      <th>part</th>\n",
       "      <th>salary</th>\n",
       "    </tr>\n",
       "  </thead>\n",
       "  <tbody>\n",
       "    <tr>\n",
       "      <th>0</th>\n",
       "      <td>0.38</td>\n",
       "      <td>0.53</td>\n",
       "      <td>2</td>\n",
       "      <td>157</td>\n",
       "      <td>3</td>\n",
       "      <td>0</td>\n",
       "      <td>1</td>\n",
       "      <td>0</td>\n",
       "      <td>sales</td>\n",
       "      <td>low</td>\n",
       "    </tr>\n",
       "    <tr>\n",
       "      <th>1</th>\n",
       "      <td>0.80</td>\n",
       "      <td>0.86</td>\n",
       "      <td>5</td>\n",
       "      <td>262</td>\n",
       "      <td>6</td>\n",
       "      <td>0</td>\n",
       "      <td>1</td>\n",
       "      <td>0</td>\n",
       "      <td>sales</td>\n",
       "      <td>medium</td>\n",
       "    </tr>\n",
       "    <tr>\n",
       "      <th>2</th>\n",
       "      <td>0.11</td>\n",
       "      <td>0.88</td>\n",
       "      <td>7</td>\n",
       "      <td>272</td>\n",
       "      <td>4</td>\n",
       "      <td>0</td>\n",
       "      <td>1</td>\n",
       "      <td>0</td>\n",
       "      <td>sales</td>\n",
       "      <td>medium</td>\n",
       "    </tr>\n",
       "    <tr>\n",
       "      <th>3</th>\n",
       "      <td>0.72</td>\n",
       "      <td>0.87</td>\n",
       "      <td>5</td>\n",
       "      <td>223</td>\n",
       "      <td>5</td>\n",
       "      <td>0</td>\n",
       "      <td>1</td>\n",
       "      <td>0</td>\n",
       "      <td>sales</td>\n",
       "      <td>low</td>\n",
       "    </tr>\n",
       "    <tr>\n",
       "      <th>4</th>\n",
       "      <td>0.37</td>\n",
       "      <td>0.52</td>\n",
       "      <td>2</td>\n",
       "      <td>159</td>\n",
       "      <td>3</td>\n",
       "      <td>0</td>\n",
       "      <td>1</td>\n",
       "      <td>0</td>\n",
       "      <td>sales</td>\n",
       "      <td>low</td>\n",
       "    </tr>\n",
       "  </tbody>\n",
       "</table>\n",
       "</div>"
      ],
      "text/plain": [
       "   satisfaction_level  last_evaluation  number_project  average_montly_hours  \\\n",
       "0                0.38             0.53               2                   157   \n",
       "1                0.80             0.86               5                   262   \n",
       "2                0.11             0.88               7                   272   \n",
       "3                0.72             0.87               5                   223   \n",
       "4                0.37             0.52               2                   159   \n",
       "\n",
       "   time_spend_company  Work_accident  left  promotion_last_5years   part  \\\n",
       "0                   3              0     1                      0  sales   \n",
       "1                   6              0     1                      0  sales   \n",
       "2                   4              0     1                      0  sales   \n",
       "3                   5              0     1                      0  sales   \n",
       "4                   3              0     1                      0  sales   \n",
       "\n",
       "   salary  \n",
       "0     low  \n",
       "1  medium  \n",
       "2  medium  \n",
       "3     low  \n",
       "4     low  "
      ]
     },
     "execution_count": 183,
     "metadata": {},
     "output_type": "execute_result"
    }
   ],
   "source": [
    "data = pd.read_csv(\"./HR.csv\")\n",
    "data.head()"
   ]
  },
  {
   "cell_type": "code",
   "execution_count": 184,
   "id": "12f79c0b",
   "metadata": {
    "ExecuteTime": {
     "end_time": "2022-10-29T12:30:26.981186Z",
     "start_time": "2022-10-29T12:30:26.967682Z"
    }
   },
   "outputs": [
    {
     "data": {
      "text/plain": [
       "array(['sales', 'accounting', 'hr', 'technical', 'support', 'management',\n",
       "       'IT', 'product_mng', 'marketing', 'RandD'], dtype=object)"
      ]
     },
     "execution_count": 184,
     "metadata": {},
     "output_type": "execute_result"
    }
   ],
   "source": [
    "data.part.unique()"
   ]
  },
  {
   "cell_type": "code",
   "execution_count": 185,
   "id": "a3b03b42",
   "metadata": {
    "ExecuteTime": {
     "end_time": "2022-10-29T12:30:27.587169Z",
     "start_time": "2022-10-29T12:30:27.581758Z"
    }
   },
   "outputs": [
    {
     "data": {
      "text/plain": [
       "array(['low', 'medium', 'high'], dtype=object)"
      ]
     },
     "execution_count": 185,
     "metadata": {},
     "output_type": "execute_result"
    }
   ],
   "source": [
    "data.salary.unique()"
   ]
  },
  {
   "cell_type": "code",
   "execution_count": 186,
   "id": "01f9c2c0",
   "metadata": {
    "ExecuteTime": {
     "end_time": "2022-10-29T12:30:27.771685Z",
     "start_time": "2022-10-29T12:30:27.749938Z"
    }
   },
   "outputs": [
    {
     "data": {
      "text/plain": [
       "salary  part       \n",
       "high    IT               83\n",
       "        RandD            51\n",
       "        accounting       74\n",
       "        hr               45\n",
       "        management      225\n",
       "        marketing        80\n",
       "        product_mng      68\n",
       "        sales           269\n",
       "        support         141\n",
       "        technical       201\n",
       "low     IT              609\n",
       "        RandD           364\n",
       "        accounting      358\n",
       "        hr              335\n",
       "        management      180\n",
       "        marketing       402\n",
       "        product_mng     451\n",
       "        sales          2099\n",
       "        support        1146\n",
       "        technical      1372\n",
       "medium  IT              535\n",
       "        RandD           372\n",
       "        accounting      335\n",
       "        hr              359\n",
       "        management      225\n",
       "        marketing       376\n",
       "        product_mng     383\n",
       "        sales          1772\n",
       "        support         942\n",
       "        technical      1147\n",
       "dtype: int64"
      ]
     },
     "execution_count": 186,
     "metadata": {},
     "output_type": "execute_result"
    }
   ],
   "source": [
    "data.groupby(['salary','part']).size()"
   ]
  },
  {
   "cell_type": "code",
   "execution_count": 187,
   "id": "1fdecb77",
   "metadata": {
    "ExecuteTime": {
     "end_time": "2022-10-29T12:30:27.926663Z",
     "start_time": "2022-10-29T12:30:27.906611Z"
    }
   },
   "outputs": [],
   "source": [
    "#这个方法会转化为one-hot编码\n",
    "\n",
    "data = pd.concat([data,pd.get_dummies(data.salary)],axis=1)\n",
    "del data['salary']\n"
   ]
  },
  {
   "cell_type": "code",
   "execution_count": 188,
   "id": "e0deafa0",
   "metadata": {
    "ExecuteTime": {
     "end_time": "2022-10-29T12:30:28.082661Z",
     "start_time": "2022-10-29T12:30:28.070427Z"
    }
   },
   "outputs": [
    {
     "data": {
      "text/html": [
       "<div>\n",
       "<style scoped>\n",
       "    .dataframe tbody tr th:only-of-type {\n",
       "        vertical-align: middle;\n",
       "    }\n",
       "\n",
       "    .dataframe tbody tr th {\n",
       "        vertical-align: top;\n",
       "    }\n",
       "\n",
       "    .dataframe thead th {\n",
       "        text-align: right;\n",
       "    }\n",
       "</style>\n",
       "<table border=\"1\" class=\"dataframe\">\n",
       "  <thead>\n",
       "    <tr style=\"text-align: right;\">\n",
       "      <th></th>\n",
       "      <th>satisfaction_level</th>\n",
       "      <th>last_evaluation</th>\n",
       "      <th>number_project</th>\n",
       "      <th>average_montly_hours</th>\n",
       "      <th>time_spend_company</th>\n",
       "      <th>Work_accident</th>\n",
       "      <th>left</th>\n",
       "      <th>promotion_last_5years</th>\n",
       "      <th>part</th>\n",
       "      <th>high</th>\n",
       "      <th>low</th>\n",
       "      <th>medium</th>\n",
       "    </tr>\n",
       "  </thead>\n",
       "  <tbody>\n",
       "    <tr>\n",
       "      <th>0</th>\n",
       "      <td>0.38</td>\n",
       "      <td>0.53</td>\n",
       "      <td>2</td>\n",
       "      <td>157</td>\n",
       "      <td>3</td>\n",
       "      <td>0</td>\n",
       "      <td>1</td>\n",
       "      <td>0</td>\n",
       "      <td>sales</td>\n",
       "      <td>0</td>\n",
       "      <td>1</td>\n",
       "      <td>0</td>\n",
       "    </tr>\n",
       "    <tr>\n",
       "      <th>1</th>\n",
       "      <td>0.80</td>\n",
       "      <td>0.86</td>\n",
       "      <td>5</td>\n",
       "      <td>262</td>\n",
       "      <td>6</td>\n",
       "      <td>0</td>\n",
       "      <td>1</td>\n",
       "      <td>0</td>\n",
       "      <td>sales</td>\n",
       "      <td>0</td>\n",
       "      <td>0</td>\n",
       "      <td>1</td>\n",
       "    </tr>\n",
       "    <tr>\n",
       "      <th>2</th>\n",
       "      <td>0.11</td>\n",
       "      <td>0.88</td>\n",
       "      <td>7</td>\n",
       "      <td>272</td>\n",
       "      <td>4</td>\n",
       "      <td>0</td>\n",
       "      <td>1</td>\n",
       "      <td>0</td>\n",
       "      <td>sales</td>\n",
       "      <td>0</td>\n",
       "      <td>0</td>\n",
       "      <td>1</td>\n",
       "    </tr>\n",
       "    <tr>\n",
       "      <th>3</th>\n",
       "      <td>0.72</td>\n",
       "      <td>0.87</td>\n",
       "      <td>5</td>\n",
       "      <td>223</td>\n",
       "      <td>5</td>\n",
       "      <td>0</td>\n",
       "      <td>1</td>\n",
       "      <td>0</td>\n",
       "      <td>sales</td>\n",
       "      <td>0</td>\n",
       "      <td>1</td>\n",
       "      <td>0</td>\n",
       "    </tr>\n",
       "    <tr>\n",
       "      <th>4</th>\n",
       "      <td>0.37</td>\n",
       "      <td>0.52</td>\n",
       "      <td>2</td>\n",
       "      <td>159</td>\n",
       "      <td>3</td>\n",
       "      <td>0</td>\n",
       "      <td>1</td>\n",
       "      <td>0</td>\n",
       "      <td>sales</td>\n",
       "      <td>0</td>\n",
       "      <td>1</td>\n",
       "      <td>0</td>\n",
       "    </tr>\n",
       "    <tr>\n",
       "      <th>...</th>\n",
       "      <td>...</td>\n",
       "      <td>...</td>\n",
       "      <td>...</td>\n",
       "      <td>...</td>\n",
       "      <td>...</td>\n",
       "      <td>...</td>\n",
       "      <td>...</td>\n",
       "      <td>...</td>\n",
       "      <td>...</td>\n",
       "      <td>...</td>\n",
       "      <td>...</td>\n",
       "      <td>...</td>\n",
       "    </tr>\n",
       "    <tr>\n",
       "      <th>14994</th>\n",
       "      <td>0.40</td>\n",
       "      <td>0.57</td>\n",
       "      <td>2</td>\n",
       "      <td>151</td>\n",
       "      <td>3</td>\n",
       "      <td>0</td>\n",
       "      <td>1</td>\n",
       "      <td>0</td>\n",
       "      <td>support</td>\n",
       "      <td>0</td>\n",
       "      <td>1</td>\n",
       "      <td>0</td>\n",
       "    </tr>\n",
       "    <tr>\n",
       "      <th>14995</th>\n",
       "      <td>0.37</td>\n",
       "      <td>0.48</td>\n",
       "      <td>2</td>\n",
       "      <td>160</td>\n",
       "      <td>3</td>\n",
       "      <td>0</td>\n",
       "      <td>1</td>\n",
       "      <td>0</td>\n",
       "      <td>support</td>\n",
       "      <td>0</td>\n",
       "      <td>1</td>\n",
       "      <td>0</td>\n",
       "    </tr>\n",
       "    <tr>\n",
       "      <th>14996</th>\n",
       "      <td>0.37</td>\n",
       "      <td>0.53</td>\n",
       "      <td>2</td>\n",
       "      <td>143</td>\n",
       "      <td>3</td>\n",
       "      <td>0</td>\n",
       "      <td>1</td>\n",
       "      <td>0</td>\n",
       "      <td>support</td>\n",
       "      <td>0</td>\n",
       "      <td>1</td>\n",
       "      <td>0</td>\n",
       "    </tr>\n",
       "    <tr>\n",
       "      <th>14997</th>\n",
       "      <td>0.11</td>\n",
       "      <td>0.96</td>\n",
       "      <td>6</td>\n",
       "      <td>280</td>\n",
       "      <td>4</td>\n",
       "      <td>0</td>\n",
       "      <td>1</td>\n",
       "      <td>0</td>\n",
       "      <td>support</td>\n",
       "      <td>0</td>\n",
       "      <td>1</td>\n",
       "      <td>0</td>\n",
       "    </tr>\n",
       "    <tr>\n",
       "      <th>14998</th>\n",
       "      <td>0.37</td>\n",
       "      <td>0.52</td>\n",
       "      <td>2</td>\n",
       "      <td>158</td>\n",
       "      <td>3</td>\n",
       "      <td>0</td>\n",
       "      <td>1</td>\n",
       "      <td>0</td>\n",
       "      <td>support</td>\n",
       "      <td>0</td>\n",
       "      <td>1</td>\n",
       "      <td>0</td>\n",
       "    </tr>\n",
       "  </tbody>\n",
       "</table>\n",
       "<p>14999 rows × 12 columns</p>\n",
       "</div>"
      ],
      "text/plain": [
       "       satisfaction_level  last_evaluation  number_project  \\\n",
       "0                    0.38             0.53               2   \n",
       "1                    0.80             0.86               5   \n",
       "2                    0.11             0.88               7   \n",
       "3                    0.72             0.87               5   \n",
       "4                    0.37             0.52               2   \n",
       "...                   ...              ...             ...   \n",
       "14994                0.40             0.57               2   \n",
       "14995                0.37             0.48               2   \n",
       "14996                0.37             0.53               2   \n",
       "14997                0.11             0.96               6   \n",
       "14998                0.37             0.52               2   \n",
       "\n",
       "       average_montly_hours  time_spend_company  Work_accident  left  \\\n",
       "0                       157                   3              0     1   \n",
       "1                       262                   6              0     1   \n",
       "2                       272                   4              0     1   \n",
       "3                       223                   5              0     1   \n",
       "4                       159                   3              0     1   \n",
       "...                     ...                 ...            ...   ...   \n",
       "14994                   151                   3              0     1   \n",
       "14995                   160                   3              0     1   \n",
       "14996                   143                   3              0     1   \n",
       "14997                   280                   4              0     1   \n",
       "14998                   158                   3              0     1   \n",
       "\n",
       "       promotion_last_5years     part  high  low  medium  \n",
       "0                          0    sales     0    1       0  \n",
       "1                          0    sales     0    0       1  \n",
       "2                          0    sales     0    0       1  \n",
       "3                          0    sales     0    1       0  \n",
       "4                          0    sales     0    1       0  \n",
       "...                      ...      ...   ...  ...     ...  \n",
       "14994                      0  support     0    1       0  \n",
       "14995                      0  support     0    1       0  \n",
       "14996                      0  support     0    1       0  \n",
       "14997                      0  support     0    1       0  \n",
       "14998                      0  support     0    1       0  \n",
       "\n",
       "[14999 rows x 12 columns]"
      ]
     },
     "execution_count": 188,
     "metadata": {},
     "output_type": "execute_result"
    }
   ],
   "source": [
    "data"
   ]
  },
  {
   "cell_type": "code",
   "execution_count": 189,
   "id": "fc23940f",
   "metadata": {
    "ExecuteTime": {
     "end_time": "2022-10-29T12:30:28.238624Z",
     "start_time": "2022-10-29T12:30:28.228267Z"
    }
   },
   "outputs": [],
   "source": [
    "data = pd.concat([data,pd.get_dummies(data.part)],axis=1)\n",
    "del data['part']"
   ]
  },
  {
   "cell_type": "code",
   "execution_count": 190,
   "id": "f7cc4cf7",
   "metadata": {
    "ExecuteTime": {
     "end_time": "2022-10-29T12:30:29.064312Z",
     "start_time": "2022-10-29T12:30:29.042123Z"
    }
   },
   "outputs": [
    {
     "data": {
      "text/html": [
       "<div>\n",
       "<style scoped>\n",
       "    .dataframe tbody tr th:only-of-type {\n",
       "        vertical-align: middle;\n",
       "    }\n",
       "\n",
       "    .dataframe tbody tr th {\n",
       "        vertical-align: top;\n",
       "    }\n",
       "\n",
       "    .dataframe thead th {\n",
       "        text-align: right;\n",
       "    }\n",
       "</style>\n",
       "<table border=\"1\" class=\"dataframe\">\n",
       "  <thead>\n",
       "    <tr style=\"text-align: right;\">\n",
       "      <th></th>\n",
       "      <th>satisfaction_level</th>\n",
       "      <th>last_evaluation</th>\n",
       "      <th>number_project</th>\n",
       "      <th>average_montly_hours</th>\n",
       "      <th>time_spend_company</th>\n",
       "      <th>Work_accident</th>\n",
       "      <th>left</th>\n",
       "      <th>promotion_last_5years</th>\n",
       "      <th>high</th>\n",
       "      <th>low</th>\n",
       "      <th>...</th>\n",
       "      <th>IT</th>\n",
       "      <th>RandD</th>\n",
       "      <th>accounting</th>\n",
       "      <th>hr</th>\n",
       "      <th>management</th>\n",
       "      <th>marketing</th>\n",
       "      <th>product_mng</th>\n",
       "      <th>sales</th>\n",
       "      <th>support</th>\n",
       "      <th>technical</th>\n",
       "    </tr>\n",
       "  </thead>\n",
       "  <tbody>\n",
       "    <tr>\n",
       "      <th>0</th>\n",
       "      <td>0.38</td>\n",
       "      <td>0.53</td>\n",
       "      <td>2</td>\n",
       "      <td>157</td>\n",
       "      <td>3</td>\n",
       "      <td>0</td>\n",
       "      <td>1</td>\n",
       "      <td>0</td>\n",
       "      <td>0</td>\n",
       "      <td>1</td>\n",
       "      <td>...</td>\n",
       "      <td>0</td>\n",
       "      <td>0</td>\n",
       "      <td>0</td>\n",
       "      <td>0</td>\n",
       "      <td>0</td>\n",
       "      <td>0</td>\n",
       "      <td>0</td>\n",
       "      <td>1</td>\n",
       "      <td>0</td>\n",
       "      <td>0</td>\n",
       "    </tr>\n",
       "    <tr>\n",
       "      <th>1</th>\n",
       "      <td>0.80</td>\n",
       "      <td>0.86</td>\n",
       "      <td>5</td>\n",
       "      <td>262</td>\n",
       "      <td>6</td>\n",
       "      <td>0</td>\n",
       "      <td>1</td>\n",
       "      <td>0</td>\n",
       "      <td>0</td>\n",
       "      <td>0</td>\n",
       "      <td>...</td>\n",
       "      <td>0</td>\n",
       "      <td>0</td>\n",
       "      <td>0</td>\n",
       "      <td>0</td>\n",
       "      <td>0</td>\n",
       "      <td>0</td>\n",
       "      <td>0</td>\n",
       "      <td>1</td>\n",
       "      <td>0</td>\n",
       "      <td>0</td>\n",
       "    </tr>\n",
       "    <tr>\n",
       "      <th>2</th>\n",
       "      <td>0.11</td>\n",
       "      <td>0.88</td>\n",
       "      <td>7</td>\n",
       "      <td>272</td>\n",
       "      <td>4</td>\n",
       "      <td>0</td>\n",
       "      <td>1</td>\n",
       "      <td>0</td>\n",
       "      <td>0</td>\n",
       "      <td>0</td>\n",
       "      <td>...</td>\n",
       "      <td>0</td>\n",
       "      <td>0</td>\n",
       "      <td>0</td>\n",
       "      <td>0</td>\n",
       "      <td>0</td>\n",
       "      <td>0</td>\n",
       "      <td>0</td>\n",
       "      <td>1</td>\n",
       "      <td>0</td>\n",
       "      <td>0</td>\n",
       "    </tr>\n",
       "    <tr>\n",
       "      <th>3</th>\n",
       "      <td>0.72</td>\n",
       "      <td>0.87</td>\n",
       "      <td>5</td>\n",
       "      <td>223</td>\n",
       "      <td>5</td>\n",
       "      <td>0</td>\n",
       "      <td>1</td>\n",
       "      <td>0</td>\n",
       "      <td>0</td>\n",
       "      <td>1</td>\n",
       "      <td>...</td>\n",
       "      <td>0</td>\n",
       "      <td>0</td>\n",
       "      <td>0</td>\n",
       "      <td>0</td>\n",
       "      <td>0</td>\n",
       "      <td>0</td>\n",
       "      <td>0</td>\n",
       "      <td>1</td>\n",
       "      <td>0</td>\n",
       "      <td>0</td>\n",
       "    </tr>\n",
       "    <tr>\n",
       "      <th>4</th>\n",
       "      <td>0.37</td>\n",
       "      <td>0.52</td>\n",
       "      <td>2</td>\n",
       "      <td>159</td>\n",
       "      <td>3</td>\n",
       "      <td>0</td>\n",
       "      <td>1</td>\n",
       "      <td>0</td>\n",
       "      <td>0</td>\n",
       "      <td>1</td>\n",
       "      <td>...</td>\n",
       "      <td>0</td>\n",
       "      <td>0</td>\n",
       "      <td>0</td>\n",
       "      <td>0</td>\n",
       "      <td>0</td>\n",
       "      <td>0</td>\n",
       "      <td>0</td>\n",
       "      <td>1</td>\n",
       "      <td>0</td>\n",
       "      <td>0</td>\n",
       "    </tr>\n",
       "  </tbody>\n",
       "</table>\n",
       "<p>5 rows × 21 columns</p>\n",
       "</div>"
      ],
      "text/plain": [
       "   satisfaction_level  last_evaluation  number_project  average_montly_hours  \\\n",
       "0                0.38             0.53               2                   157   \n",
       "1                0.80             0.86               5                   262   \n",
       "2                0.11             0.88               7                   272   \n",
       "3                0.72             0.87               5                   223   \n",
       "4                0.37             0.52               2                   159   \n",
       "\n",
       "   time_spend_company  Work_accident  left  promotion_last_5years  high  low  \\\n",
       "0                   3              0     1                      0     0    1   \n",
       "1                   6              0     1                      0     0    0   \n",
       "2                   4              0     1                      0     0    0   \n",
       "3                   5              0     1                      0     0    1   \n",
       "4                   3              0     1                      0     0    1   \n",
       "\n",
       "   ...  IT  RandD  accounting  hr  management  marketing  product_mng  sales  \\\n",
       "0  ...   0      0           0   0           0          0            0      1   \n",
       "1  ...   0      0           0   0           0          0            0      1   \n",
       "2  ...   0      0           0   0           0          0            0      1   \n",
       "3  ...   0      0           0   0           0          0            0      1   \n",
       "4  ...   0      0           0   0           0          0            0      1   \n",
       "\n",
       "   support  technical  \n",
       "0        0          0  \n",
       "1        0          0  \n",
       "2        0          0  \n",
       "3        0          0  \n",
       "4        0          0  \n",
       "\n",
       "[5 rows x 21 columns]"
      ]
     },
     "execution_count": 190,
     "metadata": {},
     "output_type": "execute_result"
    }
   ],
   "source": [
    "data.head()"
   ]
  },
  {
   "cell_type": "code",
   "execution_count": 191,
   "id": "4ccf232f",
   "metadata": {
    "ExecuteTime": {
     "end_time": "2022-10-29T12:30:29.454882Z",
     "start_time": "2022-10-29T12:30:29.447140Z"
    }
   },
   "outputs": [
    {
     "data": {
      "text/plain": [
       "0    11428\n",
       "1     3571\n",
       "Name: left, dtype: int64"
      ]
     },
     "execution_count": 191,
     "metadata": {},
     "output_type": "execute_result"
    }
   ],
   "source": [
    "data.left.value_counts()"
   ]
  },
  {
   "cell_type": "code",
   "execution_count": 192,
   "id": "cb1d6287",
   "metadata": {
    "ExecuteTime": {
     "end_time": "2022-10-29T12:30:30.259694Z",
     "start_time": "2022-10-29T12:30:30.242668Z"
    }
   },
   "outputs": [],
   "source": [
    "#这样是分布不均匀 模型全部预测不离职，正确率就是76% 没有意义"
   ]
  },
  {
   "cell_type": "code",
   "execution_count": 193,
   "id": "153b13c3",
   "metadata": {
    "ExecuteTime": {
     "end_time": "2022-10-29T12:30:30.416168Z",
     "start_time": "2022-10-29T12:30:30.398060Z"
    }
   },
   "outputs": [],
   "source": [
    "Y_data = data.left.values.reshape(-1,1)"
   ]
  },
  {
   "cell_type": "code",
   "execution_count": 194,
   "id": "0731f06c",
   "metadata": {
    "ExecuteTime": {
     "end_time": "2022-10-29T12:30:30.603007Z",
     "start_time": "2022-10-29T12:30:30.585757Z"
    }
   },
   "outputs": [],
   "source": [
    "Y_data = torch.from_numpy(Y_data).type(torch.float32)"
   ]
  },
  {
   "cell_type": "code",
   "execution_count": null,
   "id": "4844b06c",
   "metadata": {},
   "outputs": [],
   "source": []
  },
  {
   "cell_type": "code",
   "execution_count": null,
   "id": "47c31838",
   "metadata": {},
   "outputs": [],
   "source": []
  },
  {
   "cell_type": "code",
   "execution_count": null,
   "id": "4a6dae18",
   "metadata": {},
   "outputs": [],
   "source": []
  },
  {
   "cell_type": "code",
   "execution_count": 195,
   "id": "ad90d1d4",
   "metadata": {
    "ExecuteTime": {
     "end_time": "2022-10-29T12:30:33.675518Z",
     "start_time": "2022-10-29T12:30:33.662161Z"
    }
   },
   "outputs": [
    {
     "data": {
      "text/plain": [
       "['satisfaction_level',\n",
       " 'last_evaluation',\n",
       " 'number_project',\n",
       " 'average_montly_hours',\n",
       " 'time_spend_company',\n",
       " 'Work_accident',\n",
       " 'promotion_last_5years',\n",
       " 'high',\n",
       " 'low',\n",
       " 'medium',\n",
       " 'IT',\n",
       " 'RandD',\n",
       " 'accounting',\n",
       " 'hr',\n",
       " 'management',\n",
       " 'marketing',\n",
       " 'product_mng',\n",
       " 'sales',\n",
       " 'support',\n",
       " 'technical']"
      ]
     },
     "execution_count": 195,
     "metadata": {},
     "output_type": "execute_result"
    }
   ],
   "source": [
    "[c for c in data.columns if c != 'left']"
   ]
  },
  {
   "cell_type": "code",
   "execution_count": 196,
   "id": "be846c80",
   "metadata": {
    "ExecuteTime": {
     "end_time": "2022-10-29T12:30:34.161347Z",
     "start_time": "2022-10-29T12:30:34.144304Z"
    }
   },
   "outputs": [],
   "source": [
    "X_data = data[[c for c in data.columns if c != 'left']]"
   ]
  },
  {
   "cell_type": "code",
   "execution_count": 197,
   "id": "f8d35268",
   "metadata": {
    "ExecuteTime": {
     "end_time": "2022-10-29T12:30:34.412316Z",
     "start_time": "2022-10-29T12:30:34.390014Z"
    }
   },
   "outputs": [
    {
     "data": {
      "text/html": [
       "<div>\n",
       "<style scoped>\n",
       "    .dataframe tbody tr th:only-of-type {\n",
       "        vertical-align: middle;\n",
       "    }\n",
       "\n",
       "    .dataframe tbody tr th {\n",
       "        vertical-align: top;\n",
       "    }\n",
       "\n",
       "    .dataframe thead th {\n",
       "        text-align: right;\n",
       "    }\n",
       "</style>\n",
       "<table border=\"1\" class=\"dataframe\">\n",
       "  <thead>\n",
       "    <tr style=\"text-align: right;\">\n",
       "      <th></th>\n",
       "      <th>satisfaction_level</th>\n",
       "      <th>last_evaluation</th>\n",
       "      <th>number_project</th>\n",
       "      <th>average_montly_hours</th>\n",
       "      <th>time_spend_company</th>\n",
       "      <th>Work_accident</th>\n",
       "      <th>promotion_last_5years</th>\n",
       "      <th>high</th>\n",
       "      <th>low</th>\n",
       "      <th>medium</th>\n",
       "      <th>IT</th>\n",
       "      <th>RandD</th>\n",
       "      <th>accounting</th>\n",
       "      <th>hr</th>\n",
       "      <th>management</th>\n",
       "      <th>marketing</th>\n",
       "      <th>product_mng</th>\n",
       "      <th>sales</th>\n",
       "      <th>support</th>\n",
       "      <th>technical</th>\n",
       "    </tr>\n",
       "  </thead>\n",
       "  <tbody>\n",
       "    <tr>\n",
       "      <th>0</th>\n",
       "      <td>0.38</td>\n",
       "      <td>0.53</td>\n",
       "      <td>2</td>\n",
       "      <td>157</td>\n",
       "      <td>3</td>\n",
       "      <td>0</td>\n",
       "      <td>0</td>\n",
       "      <td>0</td>\n",
       "      <td>1</td>\n",
       "      <td>0</td>\n",
       "      <td>0</td>\n",
       "      <td>0</td>\n",
       "      <td>0</td>\n",
       "      <td>0</td>\n",
       "      <td>0</td>\n",
       "      <td>0</td>\n",
       "      <td>0</td>\n",
       "      <td>1</td>\n",
       "      <td>0</td>\n",
       "      <td>0</td>\n",
       "    </tr>\n",
       "    <tr>\n",
       "      <th>1</th>\n",
       "      <td>0.80</td>\n",
       "      <td>0.86</td>\n",
       "      <td>5</td>\n",
       "      <td>262</td>\n",
       "      <td>6</td>\n",
       "      <td>0</td>\n",
       "      <td>0</td>\n",
       "      <td>0</td>\n",
       "      <td>0</td>\n",
       "      <td>1</td>\n",
       "      <td>0</td>\n",
       "      <td>0</td>\n",
       "      <td>0</td>\n",
       "      <td>0</td>\n",
       "      <td>0</td>\n",
       "      <td>0</td>\n",
       "      <td>0</td>\n",
       "      <td>1</td>\n",
       "      <td>0</td>\n",
       "      <td>0</td>\n",
       "    </tr>\n",
       "    <tr>\n",
       "      <th>2</th>\n",
       "      <td>0.11</td>\n",
       "      <td>0.88</td>\n",
       "      <td>7</td>\n",
       "      <td>272</td>\n",
       "      <td>4</td>\n",
       "      <td>0</td>\n",
       "      <td>0</td>\n",
       "      <td>0</td>\n",
       "      <td>0</td>\n",
       "      <td>1</td>\n",
       "      <td>0</td>\n",
       "      <td>0</td>\n",
       "      <td>0</td>\n",
       "      <td>0</td>\n",
       "      <td>0</td>\n",
       "      <td>0</td>\n",
       "      <td>0</td>\n",
       "      <td>1</td>\n",
       "      <td>0</td>\n",
       "      <td>0</td>\n",
       "    </tr>\n",
       "    <tr>\n",
       "      <th>3</th>\n",
       "      <td>0.72</td>\n",
       "      <td>0.87</td>\n",
       "      <td>5</td>\n",
       "      <td>223</td>\n",
       "      <td>5</td>\n",
       "      <td>0</td>\n",
       "      <td>0</td>\n",
       "      <td>0</td>\n",
       "      <td>1</td>\n",
       "      <td>0</td>\n",
       "      <td>0</td>\n",
       "      <td>0</td>\n",
       "      <td>0</td>\n",
       "      <td>0</td>\n",
       "      <td>0</td>\n",
       "      <td>0</td>\n",
       "      <td>0</td>\n",
       "      <td>1</td>\n",
       "      <td>0</td>\n",
       "      <td>0</td>\n",
       "    </tr>\n",
       "    <tr>\n",
       "      <th>4</th>\n",
       "      <td>0.37</td>\n",
       "      <td>0.52</td>\n",
       "      <td>2</td>\n",
       "      <td>159</td>\n",
       "      <td>3</td>\n",
       "      <td>0</td>\n",
       "      <td>0</td>\n",
       "      <td>0</td>\n",
       "      <td>1</td>\n",
       "      <td>0</td>\n",
       "      <td>0</td>\n",
       "      <td>0</td>\n",
       "      <td>0</td>\n",
       "      <td>0</td>\n",
       "      <td>0</td>\n",
       "      <td>0</td>\n",
       "      <td>0</td>\n",
       "      <td>1</td>\n",
       "      <td>0</td>\n",
       "      <td>0</td>\n",
       "    </tr>\n",
       "    <tr>\n",
       "      <th>...</th>\n",
       "      <td>...</td>\n",
       "      <td>...</td>\n",
       "      <td>...</td>\n",
       "      <td>...</td>\n",
       "      <td>...</td>\n",
       "      <td>...</td>\n",
       "      <td>...</td>\n",
       "      <td>...</td>\n",
       "      <td>...</td>\n",
       "      <td>...</td>\n",
       "      <td>...</td>\n",
       "      <td>...</td>\n",
       "      <td>...</td>\n",
       "      <td>...</td>\n",
       "      <td>...</td>\n",
       "      <td>...</td>\n",
       "      <td>...</td>\n",
       "      <td>...</td>\n",
       "      <td>...</td>\n",
       "      <td>...</td>\n",
       "    </tr>\n",
       "    <tr>\n",
       "      <th>14994</th>\n",
       "      <td>0.40</td>\n",
       "      <td>0.57</td>\n",
       "      <td>2</td>\n",
       "      <td>151</td>\n",
       "      <td>3</td>\n",
       "      <td>0</td>\n",
       "      <td>0</td>\n",
       "      <td>0</td>\n",
       "      <td>1</td>\n",
       "      <td>0</td>\n",
       "      <td>0</td>\n",
       "      <td>0</td>\n",
       "      <td>0</td>\n",
       "      <td>0</td>\n",
       "      <td>0</td>\n",
       "      <td>0</td>\n",
       "      <td>0</td>\n",
       "      <td>0</td>\n",
       "      <td>1</td>\n",
       "      <td>0</td>\n",
       "    </tr>\n",
       "    <tr>\n",
       "      <th>14995</th>\n",
       "      <td>0.37</td>\n",
       "      <td>0.48</td>\n",
       "      <td>2</td>\n",
       "      <td>160</td>\n",
       "      <td>3</td>\n",
       "      <td>0</td>\n",
       "      <td>0</td>\n",
       "      <td>0</td>\n",
       "      <td>1</td>\n",
       "      <td>0</td>\n",
       "      <td>0</td>\n",
       "      <td>0</td>\n",
       "      <td>0</td>\n",
       "      <td>0</td>\n",
       "      <td>0</td>\n",
       "      <td>0</td>\n",
       "      <td>0</td>\n",
       "      <td>0</td>\n",
       "      <td>1</td>\n",
       "      <td>0</td>\n",
       "    </tr>\n",
       "    <tr>\n",
       "      <th>14996</th>\n",
       "      <td>0.37</td>\n",
       "      <td>0.53</td>\n",
       "      <td>2</td>\n",
       "      <td>143</td>\n",
       "      <td>3</td>\n",
       "      <td>0</td>\n",
       "      <td>0</td>\n",
       "      <td>0</td>\n",
       "      <td>1</td>\n",
       "      <td>0</td>\n",
       "      <td>0</td>\n",
       "      <td>0</td>\n",
       "      <td>0</td>\n",
       "      <td>0</td>\n",
       "      <td>0</td>\n",
       "      <td>0</td>\n",
       "      <td>0</td>\n",
       "      <td>0</td>\n",
       "      <td>1</td>\n",
       "      <td>0</td>\n",
       "    </tr>\n",
       "    <tr>\n",
       "      <th>14997</th>\n",
       "      <td>0.11</td>\n",
       "      <td>0.96</td>\n",
       "      <td>6</td>\n",
       "      <td>280</td>\n",
       "      <td>4</td>\n",
       "      <td>0</td>\n",
       "      <td>0</td>\n",
       "      <td>0</td>\n",
       "      <td>1</td>\n",
       "      <td>0</td>\n",
       "      <td>0</td>\n",
       "      <td>0</td>\n",
       "      <td>0</td>\n",
       "      <td>0</td>\n",
       "      <td>0</td>\n",
       "      <td>0</td>\n",
       "      <td>0</td>\n",
       "      <td>0</td>\n",
       "      <td>1</td>\n",
       "      <td>0</td>\n",
       "    </tr>\n",
       "    <tr>\n",
       "      <th>14998</th>\n",
       "      <td>0.37</td>\n",
       "      <td>0.52</td>\n",
       "      <td>2</td>\n",
       "      <td>158</td>\n",
       "      <td>3</td>\n",
       "      <td>0</td>\n",
       "      <td>0</td>\n",
       "      <td>0</td>\n",
       "      <td>1</td>\n",
       "      <td>0</td>\n",
       "      <td>0</td>\n",
       "      <td>0</td>\n",
       "      <td>0</td>\n",
       "      <td>0</td>\n",
       "      <td>0</td>\n",
       "      <td>0</td>\n",
       "      <td>0</td>\n",
       "      <td>0</td>\n",
       "      <td>1</td>\n",
       "      <td>0</td>\n",
       "    </tr>\n",
       "  </tbody>\n",
       "</table>\n",
       "<p>14999 rows × 20 columns</p>\n",
       "</div>"
      ],
      "text/plain": [
       "       satisfaction_level  last_evaluation  number_project  \\\n",
       "0                    0.38             0.53               2   \n",
       "1                    0.80             0.86               5   \n",
       "2                    0.11             0.88               7   \n",
       "3                    0.72             0.87               5   \n",
       "4                    0.37             0.52               2   \n",
       "...                   ...              ...             ...   \n",
       "14994                0.40             0.57               2   \n",
       "14995                0.37             0.48               2   \n",
       "14996                0.37             0.53               2   \n",
       "14997                0.11             0.96               6   \n",
       "14998                0.37             0.52               2   \n",
       "\n",
       "       average_montly_hours  time_spend_company  Work_accident  \\\n",
       "0                       157                   3              0   \n",
       "1                       262                   6              0   \n",
       "2                       272                   4              0   \n",
       "3                       223                   5              0   \n",
       "4                       159                   3              0   \n",
       "...                     ...                 ...            ...   \n",
       "14994                   151                   3              0   \n",
       "14995                   160                   3              0   \n",
       "14996                   143                   3              0   \n",
       "14997                   280                   4              0   \n",
       "14998                   158                   3              0   \n",
       "\n",
       "       promotion_last_5years  high  low  medium  IT  RandD  accounting  hr  \\\n",
       "0                          0     0    1       0   0      0           0   0   \n",
       "1                          0     0    0       1   0      0           0   0   \n",
       "2                          0     0    0       1   0      0           0   0   \n",
       "3                          0     0    1       0   0      0           0   0   \n",
       "4                          0     0    1       0   0      0           0   0   \n",
       "...                      ...   ...  ...     ...  ..    ...         ...  ..   \n",
       "14994                      0     0    1       0   0      0           0   0   \n",
       "14995                      0     0    1       0   0      0           0   0   \n",
       "14996                      0     0    1       0   0      0           0   0   \n",
       "14997                      0     0    1       0   0      0           0   0   \n",
       "14998                      0     0    1       0   0      0           0   0   \n",
       "\n",
       "       management  marketing  product_mng  sales  support  technical  \n",
       "0               0          0            0      1        0          0  \n",
       "1               0          0            0      1        0          0  \n",
       "2               0          0            0      1        0          0  \n",
       "3               0          0            0      1        0          0  \n",
       "4               0          0            0      1        0          0  \n",
       "...           ...        ...          ...    ...      ...        ...  \n",
       "14994           0          0            0      0        1          0  \n",
       "14995           0          0            0      0        1          0  \n",
       "14996           0          0            0      0        1          0  \n",
       "14997           0          0            0      0        1          0  \n",
       "14998           0          0            0      0        1          0  \n",
       "\n",
       "[14999 rows x 20 columns]"
      ]
     },
     "execution_count": 197,
     "metadata": {},
     "output_type": "execute_result"
    }
   ],
   "source": [
    "X_data"
   ]
  },
  {
   "cell_type": "code",
   "execution_count": 198,
   "id": "3b78b144",
   "metadata": {
    "ExecuteTime": {
     "end_time": "2022-10-29T12:30:35.215884Z",
     "start_time": "2022-10-29T12:30:35.203561Z"
    }
   },
   "outputs": [],
   "source": [
    "X = torch.from_numpy(X_data.values).type(torch.float32)"
   ]
  },
  {
   "cell_type": "code",
   "execution_count": 199,
   "id": "9c55f08e",
   "metadata": {
    "ExecuteTime": {
     "end_time": "2022-10-29T12:30:35.916988Z",
     "start_time": "2022-10-29T12:30:35.910576Z"
    }
   },
   "outputs": [
    {
     "data": {
      "text/plain": [
       "tensor([[0.3800, 0.5300, 2.0000,  ..., 1.0000, 0.0000, 0.0000],\n",
       "        [0.8000, 0.8600, 5.0000,  ..., 1.0000, 0.0000, 0.0000],\n",
       "        [0.1100, 0.8800, 7.0000,  ..., 1.0000, 0.0000, 0.0000],\n",
       "        ...,\n",
       "        [0.3700, 0.5300, 2.0000,  ..., 0.0000, 1.0000, 0.0000],\n",
       "        [0.1100, 0.9600, 6.0000,  ..., 0.0000, 1.0000, 0.0000],\n",
       "        [0.3700, 0.5200, 2.0000,  ..., 0.0000, 1.0000, 0.0000]])"
      ]
     },
     "execution_count": 199,
     "metadata": {},
     "output_type": "execute_result"
    }
   ],
   "source": [
    "X"
   ]
  },
  {
   "cell_type": "code",
   "execution_count": null,
   "id": "521bdffe",
   "metadata": {},
   "outputs": [],
   "source": []
  },
  {
   "cell_type": "code",
   "execution_count": null,
   "id": "794a6a63",
   "metadata": {},
   "outputs": [],
   "source": []
  },
  {
   "cell_type": "markdown",
   "id": "b458ffef",
   "metadata": {},
   "source": [
    "## 模型的多层感知器创建"
   ]
  },
  {
   "cell_type": "code",
   "execution_count": 200,
   "id": "b5bac79f",
   "metadata": {
    "ExecuteTime": {
     "end_time": "2022-10-29T12:30:37.989508Z",
     "start_time": "2022-10-29T12:30:37.975546Z"
    }
   },
   "outputs": [],
   "source": [
    "# __init__ :初始化所有的层   forward ：定义模型的结构 运算过程 前向传播过程   要继承nn.Module(自定义模型的要点)\n"
   ]
  },
  {
   "cell_type": "code",
   "execution_count": 201,
   "id": "9e557605",
   "metadata": {
    "ExecuteTime": {
     "end_time": "2022-10-29T12:30:38.240608Z",
     "start_time": "2022-10-29T12:30:38.221404Z"
    }
   },
   "outputs": [],
   "source": [
    "class Model(nn.Module):\n",
    "    def __init__(self):\n",
    "        # 继承父类的所有属性\n",
    "        super().__init__()\n",
    "        # 初始化所有层  参数就是每层输入和输出的大小\n",
    "        self.liner_1 = nn.Linear(20,64)\n",
    "        self.liner_2 = nn.Linear(64,64)\n",
    "        self.liner_3 = nn.Linear(64,1)\n",
    "        #定义激活层\n",
    "        self.relu  = nn.ReLU()\n",
    "        self.sigmoid = nn.Sigmoid()\n",
    "\n",
    "    def forward(self,input):\n",
    "        x = self.liner_1(input)\n",
    "        x  = self.relu(x)\n",
    "        \n",
    "        x = self.liner_2(x)\n",
    "        x  = self.relu(x)\n",
    "        \n",
    "        x = self.liner_3(x)\n",
    "        #因为是一个二分类问题 所以输出的时候要用sigmoid激活\n",
    "        x  = self.sigmoid(x)\n",
    "        return x\n",
    "\n",
    "\n",
    "        \n",
    "        \n",
    "        \n",
    "        "
   ]
  },
  {
   "cell_type": "code",
   "execution_count": 202,
   "id": "8f14a9cd",
   "metadata": {
    "ExecuteTime": {
     "end_time": "2022-10-29T12:30:38.829120Z",
     "start_time": "2022-10-29T12:30:38.816848Z"
    }
   },
   "outputs": [],
   "source": [
    "model = Model()\n"
   ]
  },
  {
   "cell_type": "markdown",
   "id": "6c3b61c8",
   "metadata": {},
   "source": [
    "## 改写模型"
   ]
  },
  {
   "cell_type": "code",
   "execution_count": 203,
   "id": "24a91a83",
   "metadata": {
    "ExecuteTime": {
     "end_time": "2022-10-29T12:30:40.432544Z",
     "start_time": "2022-10-29T12:30:40.425853Z"
    }
   },
   "outputs": [],
   "source": [
    "import  torch.nn.functional  as F"
   ]
  },
  {
   "cell_type": "code",
   "execution_count": 204,
   "id": "c06ca21c",
   "metadata": {
    "ExecuteTime": {
     "end_time": "2022-10-29T12:30:41.300938Z",
     "start_time": "2022-10-29T12:30:41.291984Z"
    }
   },
   "outputs": [],
   "source": [
    "# 这个F里面也有Sigmoid relu但是不用初始化 直接使用函数形式调用，上面的nn相当于高层api 下面的相当于底层的"
   ]
  },
  {
   "cell_type": "code",
   "execution_count": 205,
   "id": "de98afe6",
   "metadata": {
    "ExecuteTime": {
     "end_time": "2022-10-29T12:30:41.564795Z",
     "start_time": "2022-10-29T12:30:41.547364Z"
    }
   },
   "outputs": [],
   "source": [
    "class Model(nn.Module):\n",
    "    def __init__(self):\n",
    "        # 继承父类的所有属性\n",
    "        super().__init__()\n",
    "        # 初始化所有层  参数就是每层输入和输出的大小\n",
    "        self.liner_1 = nn.Linear(20,64)\n",
    "        self.liner_2 = nn.Linear(64,64)\n",
    "        self.liner_3 = nn.Linear(64,1)\n",
    "\n",
    "    def forward(self,input):\n",
    "        x = self.liner_1(input)\n",
    "        x  = F.relu(x)\n",
    "        x = self.liner_2(x)\n",
    "        x  = F.relu(x)        \n",
    "        x = self.liner_3(x)\n",
    "        #因为是一个二分类问题 所以输出的时候要用sigmoid激活\n",
    "        x  = F.sigmoid(x)\n",
    "        return x "
   ]
  },
  {
   "cell_type": "code",
   "execution_count": 206,
   "id": "cf9b927c",
   "metadata": {
    "ExecuteTime": {
     "end_time": "2022-10-29T12:30:42.574344Z",
     "start_time": "2022-10-29T12:30:42.569961Z"
    }
   },
   "outputs": [],
   "source": [
    "model = Model()"
   ]
  },
  {
   "cell_type": "code",
   "execution_count": 207,
   "id": "4e90e240",
   "metadata": {
    "ExecuteTime": {
     "end_time": "2022-10-29T12:30:43.259512Z",
     "start_time": "2022-10-29T12:30:43.252057Z"
    }
   },
   "outputs": [
    {
     "data": {
      "text/plain": [
       "Model(\n",
       "  (liner_1): Linear(in_features=20, out_features=64, bias=True)\n",
       "  (liner_2): Linear(in_features=64, out_features=64, bias=True)\n",
       "  (liner_3): Linear(in_features=64, out_features=1, bias=True)\n",
       ")"
      ]
     },
     "execution_count": 207,
     "metadata": {},
     "output_type": "execute_result"
    }
   ],
   "source": [
    "model"
   ]
  },
  {
   "cell_type": "code",
   "execution_count": 208,
   "id": "7a45e1a1",
   "metadata": {
    "ExecuteTime": {
     "end_time": "2022-10-29T12:30:45.181085Z",
     "start_time": "2022-10-29T12:30:45.168656Z"
    }
   },
   "outputs": [],
   "source": [
    "lr = 0.0001"
   ]
  },
  {
   "cell_type": "code",
   "execution_count": 209,
   "id": "c0f61792",
   "metadata": {
    "ExecuteTime": {
     "end_time": "2022-10-29T12:30:45.415812Z",
     "start_time": "2022-10-29T12:30:45.407813Z"
    }
   },
   "outputs": [],
   "source": [
    "def get_model():\n",
    "    model = Model()\n",
    "    opt = torch.optim.Adam(model.parameters(),lr=lr)\n",
    "    return model,opt"
   ]
  },
  {
   "cell_type": "code",
   "execution_count": 210,
   "id": "5fcdb4e9",
   "metadata": {
    "ExecuteTime": {
     "end_time": "2022-10-29T12:30:46.704594Z",
     "start_time": "2022-10-29T12:30:46.701045Z"
    }
   },
   "outputs": [],
   "source": [
    "model,optim = get_model()"
   ]
  },
  {
   "cell_type": "markdown",
   "id": "e0b0b15f",
   "metadata": {},
   "source": [
    "## 定义损失函数"
   ]
  },
  {
   "cell_type": "code",
   "execution_count": 211,
   "id": "1ff1f23b",
   "metadata": {
    "ExecuteTime": {
     "end_time": "2022-10-29T12:30:53.604414Z",
     "start_time": "2022-10-29T12:30:53.585840Z"
    }
   },
   "outputs": [],
   "source": [
    "loss_fn = nn.BCELoss()"
   ]
  },
  {
   "cell_type": "code",
   "execution_count": 212,
   "id": "966d1d67",
   "metadata": {
    "ExecuteTime": {
     "end_time": "2022-10-29T12:30:54.863312Z",
     "start_time": "2022-10-29T12:30:54.855982Z"
    }
   },
   "outputs": [],
   "source": [
    "batch = 64\n",
    "no_of_batches = len(data)//batch\n",
    "epochs = 100"
   ]
  },
  {
   "cell_type": "code",
   "execution_count": 141,
   "id": "aca93169",
   "metadata": {
    "ExecuteTime": {
     "end_time": "2022-10-29T11:52:30.735028Z",
     "start_time": "2022-10-29T11:52:11.939103Z"
    },
    "code_folding": []
   },
   "outputs": [
    {
     "name": "stderr",
     "output_type": "stream",
     "text": [
      "D:\\software\\miniconda\\lib\\site-packages\\torch\\nn\\functional.py:1960: UserWarning: nn.functional.sigmoid is deprecated. Use torch.sigmoid instead.\n",
      "  warnings.warn(\"nn.functional.sigmoid is deprecated. Use torch.sigmoid instead.\")\n"
     ]
    },
    {
     "name": "stdout",
     "output_type": "stream",
     "text": [
      "epoch: 0 loss: tensor(0.5181)\n",
      "epoch: 1 loss: tensor(0.5164)\n",
      "epoch: 2 loss: tensor(0.5157)\n",
      "epoch: 3 loss: tensor(0.5162)\n",
      "epoch: 4 loss: tensor(0.5144)\n",
      "epoch: 5 loss: tensor(0.5120)\n",
      "epoch: 6 loss: tensor(0.5107)\n",
      "epoch: 7 loss: tensor(0.5091)\n",
      "epoch: 8 loss: tensor(0.5081)\n",
      "epoch: 9 loss: tensor(0.5065)\n",
      "epoch: 10 loss: tensor(0.5104)\n",
      "epoch: 11 loss: tensor(0.5053)\n",
      "epoch: 12 loss: tensor(0.5072)\n",
      "epoch: 13 loss: tensor(0.5044)\n",
      "epoch: 14 loss: tensor(0.5023)\n",
      "epoch: 15 loss: tensor(0.4986)\n",
      "epoch: 16 loss: tensor(0.4989)\n",
      "epoch: 17 loss: tensor(0.5023)\n",
      "epoch: 18 loss: tensor(0.5025)\n",
      "epoch: 19 loss: tensor(0.4952)\n",
      "epoch: 20 loss: tensor(0.4918)\n",
      "epoch: 21 loss: tensor(0.4884)\n",
      "epoch: 22 loss: tensor(0.4883)\n",
      "epoch: 23 loss: tensor(0.4854)\n",
      "epoch: 24 loss: tensor(0.4856)\n",
      "epoch: 25 loss: tensor(0.4830)\n",
      "epoch: 26 loss: tensor(0.4832)\n",
      "epoch: 27 loss: tensor(0.4806)\n",
      "epoch: 28 loss: tensor(0.4808)\n",
      "epoch: 29 loss: tensor(0.4783)\n",
      "epoch: 30 loss: tensor(0.4784)\n",
      "epoch: 31 loss: tensor(0.4761)\n",
      "epoch: 32 loss: tensor(0.4758)\n",
      "epoch: 33 loss: tensor(0.4741)\n",
      "epoch: 34 loss: tensor(0.4736)\n",
      "epoch: 35 loss: tensor(0.4719)\n",
      "epoch: 36 loss: tensor(0.4715)\n",
      "epoch: 37 loss: tensor(0.4694)\n",
      "epoch: 38 loss: tensor(0.4697)\n",
      "epoch: 39 loss: tensor(0.4679)\n",
      "epoch: 40 loss: tensor(0.4673)\n",
      "epoch: 41 loss: tensor(0.4661)\n",
      "epoch: 42 loss: tensor(0.4653)\n",
      "epoch: 43 loss: tensor(0.4797)\n",
      "epoch: 44 loss: tensor(0.4693)\n",
      "epoch: 45 loss: tensor(0.4662)\n",
      "epoch: 46 loss: tensor(0.4647)\n",
      "epoch: 47 loss: tensor(0.4631)\n",
      "epoch: 48 loss: tensor(0.4624)\n",
      "epoch: 49 loss: tensor(0.4608)\n",
      "epoch: 50 loss: tensor(0.4601)\n",
      "epoch: 51 loss: tensor(0.4587)\n",
      "epoch: 52 loss: tensor(0.4583)\n",
      "epoch: 53 loss: tensor(0.4566)\n",
      "epoch: 54 loss: tensor(0.4568)\n",
      "epoch: 55 loss: tensor(0.4545)\n",
      "epoch: 56 loss: tensor(0.4548)\n",
      "epoch: 57 loss: tensor(0.4529)\n",
      "epoch: 58 loss: tensor(0.4528)\n",
      "epoch: 59 loss: tensor(0.4509)\n",
      "epoch: 60 loss: tensor(0.4509)\n",
      "epoch: 61 loss: tensor(0.4491)\n",
      "epoch: 62 loss: tensor(0.4491)\n",
      "epoch: 63 loss: tensor(0.4472)\n",
      "epoch: 64 loss: tensor(0.4473)\n",
      "epoch: 65 loss: tensor(0.4454)\n",
      "epoch: 66 loss: tensor(0.4452)\n",
      "epoch: 67 loss: tensor(0.4433)\n",
      "epoch: 68 loss: tensor(0.4431)\n",
      "epoch: 69 loss: tensor(0.4416)\n",
      "epoch: 70 loss: tensor(0.4413)\n",
      "epoch: 71 loss: tensor(0.4397)\n",
      "epoch: 72 loss: tensor(0.4385)\n",
      "epoch: 73 loss: tensor(0.4374)\n",
      "epoch: 74 loss: tensor(0.4364)\n",
      "epoch: 75 loss: tensor(0.4355)\n",
      "epoch: 76 loss: tensor(0.4352)\n",
      "epoch: 77 loss: tensor(0.4327)\n",
      "epoch: 78 loss: tensor(0.4306)\n",
      "epoch: 79 loss: tensor(0.4292)\n",
      "epoch: 80 loss: tensor(0.4277)\n",
      "epoch: 81 loss: tensor(0.4264)\n",
      "epoch: 82 loss: tensor(0.4252)\n",
      "epoch: 83 loss: tensor(0.4238)\n",
      "epoch: 84 loss: tensor(0.4229)\n",
      "epoch: 85 loss: tensor(0.4215)\n",
      "epoch: 86 loss: tensor(0.4205)\n",
      "epoch: 87 loss: tensor(0.4182)\n",
      "epoch: 88 loss: tensor(0.4167)\n",
      "epoch: 89 loss: tensor(0.4144)\n",
      "epoch: 90 loss: tensor(0.4128)\n",
      "epoch: 91 loss: tensor(0.4151)\n",
      "epoch: 92 loss: tensor(0.4152)\n",
      "epoch: 93 loss: tensor(0.4096)\n",
      "epoch: 94 loss: tensor(0.4068)\n",
      "epoch: 95 loss: tensor(0.4082)\n",
      "epoch: 96 loss: tensor(0.4043)\n",
      "epoch: 97 loss: tensor(0.4058)\n",
      "epoch: 98 loss: tensor(0.4010)\n"
     ]
    }
   ],
   "source": [
    "for epochs in range(epochs):\n",
    "    for i in range(no_of_batches):\n",
    "        start = i*batch\n",
    "        end = start+batch\n",
    "        x = X[start:end]\n",
    "        y = Y_data[start:end]\n",
    "        y_pre = model(x)\n",
    "        loss = loss_fn(y_pre,y)\n",
    "        optim.zero_grad()\n",
    "        loss.backward()\n",
    "        optim.step()\n",
    "    with torch.no_grad():\n",
    "        print('epoch:',epochs,'loss:',loss_fn(model(X),Y_data))\n"
   ]
  },
  {
   "cell_type": "code",
   "execution_count": 97,
   "id": "7d06b3b8",
   "metadata": {
    "ExecuteTime": {
     "end_time": "2022-10-29T11:50:58.971029Z",
     "start_time": "2022-10-29T11:50:58.958957Z"
    }
   },
   "outputs": [
    {
     "name": "stderr",
     "output_type": "stream",
     "text": [
      "D:\\software\\miniconda\\lib\\site-packages\\torch\\nn\\functional.py:1960: UserWarning: nn.functional.sigmoid is deprecated. Use torch.sigmoid instead.\n",
      "  warnings.warn(\"nn.functional.sigmoid is deprecated. Use torch.sigmoid instead.\")\n"
     ]
    },
    {
     "data": {
      "text/plain": [
       "tensor(0.5687, grad_fn=<BinaryCrossEntropyBackward0>)"
      ]
     },
     "execution_count": 97,
     "metadata": {},
     "output_type": "execute_result"
    }
   ],
   "source": [
    "loss_fn(model(X),Y_data)"
   ]
  },
  {
   "cell_type": "markdown",
   "id": "9b177209",
   "metadata": {},
   "source": [
    "## 使用dataset类进行重构"
   ]
  },
  {
   "cell_type": "code",
   "execution_count": null,
   "id": "eb07089e",
   "metadata": {},
   "outputs": [],
   "source": []
  },
  {
   "cell_type": "code",
   "execution_count": 142,
   "id": "4810824b",
   "metadata": {
    "ExecuteTime": {
     "end_time": "2022-10-29T12:00:17.338015Z",
     "start_time": "2022-10-29T12:00:17.323398Z"
    }
   },
   "outputs": [],
   "source": [
    "from torch.utils.data import TensorDataset"
   ]
  },
  {
   "cell_type": "code",
   "execution_count": 143,
   "id": "968d2e34",
   "metadata": {
    "ExecuteTime": {
     "end_time": "2022-10-29T12:00:53.794929Z",
     "start_time": "2022-10-29T12:00:53.783649Z"
    }
   },
   "outputs": [],
   "source": [
    "HRdataset = TensorDataset(X,Y_data)"
   ]
  },
  {
   "cell_type": "code",
   "execution_count": 144,
   "id": "91bd4c64",
   "metadata": {
    "ExecuteTime": {
     "end_time": "2022-10-29T12:01:06.171079Z",
     "start_time": "2022-10-29T12:01:06.162549Z"
    }
   },
   "outputs": [
    {
     "data": {
      "text/plain": [
       "<torch.utils.data.dataset.TensorDataset at 0x233544f6f40>"
      ]
     },
     "execution_count": 144,
     "metadata": {},
     "output_type": "execute_result"
    }
   ],
   "source": [
    "HRdataset"
   ]
  },
  {
   "cell_type": "code",
   "execution_count": 145,
   "id": "127003cb",
   "metadata": {
    "ExecuteTime": {
     "end_time": "2022-10-29T12:01:13.323344Z",
     "start_time": "2022-10-29T12:01:13.304046Z"
    }
   },
   "outputs": [
    {
     "data": {
      "text/plain": [
       "14999"
      ]
     },
     "execution_count": 145,
     "metadata": {},
     "output_type": "execute_result"
    }
   ],
   "source": [
    "len(HRdataset)"
   ]
  },
  {
   "cell_type": "code",
   "execution_count": 146,
   "id": "a6638039",
   "metadata": {
    "ExecuteTime": {
     "end_time": "2022-10-29T12:01:38.479751Z",
     "start_time": "2022-10-29T12:01:38.462702Z"
    }
   },
   "outputs": [
    {
     "data": {
      "text/plain": [
       "(tensor([  0.3800,   0.5300,   2.0000, 157.0000,   3.0000,   0.0000,   0.0000,\n",
       "           0.0000,   1.0000,   0.0000,   0.0000,   0.0000,   0.0000,   0.0000,\n",
       "           0.0000,   0.0000,   0.0000,   1.0000,   0.0000,   0.0000]),\n",
       " tensor([1.]))"
      ]
     },
     "execution_count": 146,
     "metadata": {},
     "output_type": "execute_result"
    }
   ],
   "source": [
    "HRdataset[0]"
   ]
  },
  {
   "cell_type": "code",
   "execution_count": 147,
   "id": "8c52ac30",
   "metadata": {
    "ExecuteTime": {
     "end_time": "2022-10-29T12:01:50.329945Z",
     "start_time": "2022-10-29T12:01:50.322553Z"
    }
   },
   "outputs": [
    {
     "data": {
      "text/plain": [
       "(tensor([[1.1000e-01, 8.8000e-01, 7.0000e+00, 2.7200e+02, 4.0000e+00, 0.0000e+00,\n",
       "          0.0000e+00, 0.0000e+00, 0.0000e+00, 1.0000e+00, 0.0000e+00, 0.0000e+00,\n",
       "          0.0000e+00, 0.0000e+00, 0.0000e+00, 0.0000e+00, 0.0000e+00, 1.0000e+00,\n",
       "          0.0000e+00, 0.0000e+00],\n",
       "         [7.2000e-01, 8.7000e-01, 5.0000e+00, 2.2300e+02, 5.0000e+00, 0.0000e+00,\n",
       "          0.0000e+00, 0.0000e+00, 1.0000e+00, 0.0000e+00, 0.0000e+00, 0.0000e+00,\n",
       "          0.0000e+00, 0.0000e+00, 0.0000e+00, 0.0000e+00, 0.0000e+00, 1.0000e+00,\n",
       "          0.0000e+00, 0.0000e+00],\n",
       "         [3.7000e-01, 5.2000e-01, 2.0000e+00, 1.5900e+02, 3.0000e+00, 0.0000e+00,\n",
       "          0.0000e+00, 0.0000e+00, 1.0000e+00, 0.0000e+00, 0.0000e+00, 0.0000e+00,\n",
       "          0.0000e+00, 0.0000e+00, 0.0000e+00, 0.0000e+00, 0.0000e+00, 1.0000e+00,\n",
       "          0.0000e+00, 0.0000e+00]]),\n",
       " tensor([[1.],\n",
       "         [1.],\n",
       "         [1.]]))"
      ]
     },
     "execution_count": 147,
     "metadata": {},
     "output_type": "execute_result"
    }
   ],
   "source": [
    "HRdataset[2:5]"
   ]
  },
  {
   "cell_type": "code",
   "execution_count": 148,
   "id": "c9a778f8",
   "metadata": {
    "ExecuteTime": {
     "end_time": "2022-10-29T12:03:40.495645Z",
     "start_time": "2022-10-29T12:03:21.723728Z"
    }
   },
   "outputs": [
    {
     "name": "stderr",
     "output_type": "stream",
     "text": [
      "D:\\software\\miniconda\\lib\\site-packages\\torch\\nn\\functional.py:1960: UserWarning: nn.functional.sigmoid is deprecated. Use torch.sigmoid instead.\n",
      "  warnings.warn(\"nn.functional.sigmoid is deprecated. Use torch.sigmoid instead.\")\n"
     ]
    },
    {
     "name": "stdout",
     "output_type": "stream",
     "text": [
      "epoch: 0 loss: tensor(0.4015)\n",
      "epoch: 1 loss: tensor(0.3977)\n",
      "epoch: 2 loss: tensor(0.3979)\n",
      "epoch: 3 loss: tensor(0.3943)\n",
      "epoch: 4 loss: tensor(0.3940)\n",
      "epoch: 5 loss: tensor(0.3909)\n",
      "epoch: 6 loss: tensor(0.3898)\n",
      "epoch: 7 loss: tensor(0.3876)\n",
      "epoch: 8 loss: tensor(0.3865)\n",
      "epoch: 9 loss: tensor(0.3846)\n",
      "epoch: 10 loss: tensor(0.3833)\n",
      "epoch: 11 loss: tensor(0.3819)\n",
      "epoch: 12 loss: tensor(0.3807)\n",
      "epoch: 13 loss: tensor(0.3792)\n",
      "epoch: 14 loss: tensor(0.3780)\n",
      "epoch: 15 loss: tensor(0.3768)\n",
      "epoch: 16 loss: tensor(0.3754)\n",
      "epoch: 17 loss: tensor(0.3743)\n",
      "epoch: 18 loss: tensor(0.3729)\n",
      "epoch: 19 loss: tensor(0.3718)\n",
      "epoch: 20 loss: tensor(0.3704)\n",
      "epoch: 21 loss: tensor(0.3693)\n",
      "epoch: 22 loss: tensor(0.3679)\n",
      "epoch: 23 loss: tensor(0.3670)\n",
      "epoch: 24 loss: tensor(0.3659)\n",
      "epoch: 25 loss: tensor(0.3649)\n",
      "epoch: 26 loss: tensor(0.3640)\n",
      "epoch: 27 loss: tensor(0.3628)\n",
      "epoch: 28 loss: tensor(0.3621)\n",
      "epoch: 29 loss: tensor(0.3610)\n",
      "epoch: 30 loss: tensor(0.3601)\n",
      "epoch: 31 loss: tensor(0.3592)\n",
      "epoch: 32 loss: tensor(0.3583)\n",
      "epoch: 33 loss: tensor(0.3573)\n",
      "epoch: 34 loss: tensor(0.3565)\n",
      "epoch: 35 loss: tensor(0.3553)\n",
      "epoch: 36 loss: tensor(0.3543)\n",
      "epoch: 37 loss: tensor(0.3539)\n",
      "epoch: 38 loss: tensor(0.3525)\n",
      "epoch: 39 loss: tensor(0.3521)\n",
      "epoch: 40 loss: tensor(0.3511)\n",
      "epoch: 41 loss: tensor(0.3505)\n",
      "epoch: 42 loss: tensor(0.3497)\n",
      "epoch: 43 loss: tensor(0.3491)\n",
      "epoch: 44 loss: tensor(0.3484)\n",
      "epoch: 45 loss: tensor(0.3476)\n",
      "epoch: 46 loss: tensor(0.3471)\n",
      "epoch: 47 loss: tensor(0.3461)\n",
      "epoch: 48 loss: tensor(0.3455)\n",
      "epoch: 49 loss: tensor(0.3447)\n",
      "epoch: 50 loss: tensor(0.3439)\n",
      "epoch: 51 loss: tensor(0.3432)\n",
      "epoch: 52 loss: tensor(0.3426)\n",
      "epoch: 53 loss: tensor(0.3418)\n",
      "epoch: 54 loss: tensor(0.3441)\n",
      "epoch: 55 loss: tensor(0.3416)\n",
      "epoch: 56 loss: tensor(0.3387)\n",
      "epoch: 57 loss: tensor(0.3389)\n",
      "epoch: 58 loss: tensor(0.3378)\n",
      "epoch: 59 loss: tensor(0.3375)\n",
      "epoch: 60 loss: tensor(0.3369)\n",
      "epoch: 61 loss: tensor(0.3372)\n",
      "epoch: 62 loss: tensor(0.3361)\n",
      "epoch: 63 loss: tensor(0.3362)\n",
      "epoch: 64 loss: tensor(0.3350)\n",
      "epoch: 65 loss: tensor(0.3350)\n",
      "epoch: 66 loss: tensor(0.3340)\n",
      "epoch: 67 loss: tensor(0.3339)\n",
      "epoch: 68 loss: tensor(0.3329)\n",
      "epoch: 69 loss: tensor(0.3325)\n",
      "epoch: 70 loss: tensor(0.3317)\n",
      "epoch: 71 loss: tensor(0.3312)\n",
      "epoch: 72 loss: tensor(0.3306)\n",
      "epoch: 73 loss: tensor(0.3301)\n",
      "epoch: 74 loss: tensor(0.3295)\n",
      "epoch: 75 loss: tensor(0.3289)\n",
      "epoch: 76 loss: tensor(0.3286)\n",
      "epoch: 77 loss: tensor(0.3281)\n",
      "epoch: 78 loss: tensor(0.3273)\n",
      "epoch: 79 loss: tensor(0.3270)\n",
      "epoch: 80 loss: tensor(0.3264)\n",
      "epoch: 81 loss: tensor(0.3259)\n",
      "epoch: 82 loss: tensor(0.3259)\n",
      "epoch: 83 loss: tensor(0.3332)\n",
      "epoch: 84 loss: tensor(0.3307)\n",
      "epoch: 85 loss: tensor(0.3291)\n",
      "epoch: 86 loss: tensor(0.3276)\n",
      "epoch: 87 loss: tensor(0.3276)\n",
      "epoch: 88 loss: tensor(0.3268)\n",
      "epoch: 89 loss: tensor(0.3244)\n",
      "epoch: 90 loss: tensor(0.3241)\n",
      "epoch: 91 loss: tensor(0.3229)\n",
      "epoch: 92 loss: tensor(0.3223)\n",
      "epoch: 93 loss: tensor(0.3221)\n",
      "epoch: 94 loss: tensor(0.3210)\n",
      "epoch: 95 loss: tensor(0.3219)\n",
      "epoch: 96 loss: tensor(0.3201)\n",
      "epoch: 97 loss: tensor(0.3196)\n"
     ]
    }
   ],
   "source": [
    "for epochs in range(epochs):\n",
    "    for i in range(no_of_batches):\n",
    "        x,y = HRdataset[i*batch:i*batch+batch]\n",
    "        y_pre = model(x)\n",
    "        loss = loss_fn(y_pre,y)\n",
    "        optim.zero_grad()\n",
    "        loss.backward()\n",
    "        optim.step()\n",
    "    with torch.no_grad():\n",
    "        print('epoch:',epochs,'loss:',loss_fn(model(X),Y_data))"
   ]
  },
  {
   "cell_type": "markdown",
   "id": "675d57a4",
   "metadata": {},
   "source": [
    "## dataload 类"
   ]
  },
  {
   "cell_type": "code",
   "execution_count": 149,
   "id": "5f8673b2",
   "metadata": {
    "ExecuteTime": {
     "end_time": "2022-10-29T12:06:34.160877Z",
     "start_time": "2022-10-29T12:06:34.147535Z"
    }
   },
   "outputs": [],
   "source": [
    "#负责管理批次 就不用切片了\n"
   ]
  },
  {
   "cell_type": "code",
   "execution_count": 151,
   "id": "e7d4963f",
   "metadata": {
    "ExecuteTime": {
     "end_time": "2022-10-29T12:07:11.956203Z",
     "start_time": "2022-10-29T12:07:11.944896Z"
    }
   },
   "outputs": [],
   "source": [
    "from torch.utils.data import  DataLoader"
   ]
  },
  {
   "cell_type": "code",
   "execution_count": 152,
   "id": "4f9ada83",
   "metadata": {
    "ExecuteTime": {
     "end_time": "2022-10-29T12:08:27.031769Z",
     "start_time": "2022-10-29T12:08:27.006216Z"
    }
   },
   "outputs": [],
   "source": [
    "HR_ds = TensorDataset(X,Y_data)\n",
    "HR_dl = DataLoader(HR_ds,batch_size=batch,shuffle=True)# Shuffle 让数据乱序 而不是只关注数据本身"
   ]
  },
  {
   "cell_type": "code",
   "execution_count": 153,
   "id": "215283aa",
   "metadata": {
    "ExecuteTime": {
     "end_time": "2022-10-29T12:10:08.268315Z",
     "start_time": "2022-10-29T12:09:38.885477Z"
    }
   },
   "outputs": [
    {
     "name": "stderr",
     "output_type": "stream",
     "text": [
      "D:\\software\\miniconda\\lib\\site-packages\\torch\\nn\\functional.py:1960: UserWarning: nn.functional.sigmoid is deprecated. Use torch.sigmoid instead.\n",
      "  warnings.warn(\"nn.functional.sigmoid is deprecated. Use torch.sigmoid instead.\")\n"
     ]
    },
    {
     "name": "stdout",
     "output_type": "stream",
     "text": [
      "epoch: 0 loss: tensor(0.2957)\n",
      "epoch: 1 loss: tensor(0.2905)\n",
      "epoch: 2 loss: tensor(0.2842)\n",
      "epoch: 3 loss: tensor(0.2802)\n",
      "epoch: 4 loss: tensor(0.2753)\n",
      "epoch: 5 loss: tensor(0.2710)\n",
      "epoch: 6 loss: tensor(0.2672)\n",
      "epoch: 7 loss: tensor(0.2639)\n",
      "epoch: 8 loss: tensor(0.2637)\n",
      "epoch: 9 loss: tensor(0.2556)\n",
      "epoch: 10 loss: tensor(0.2513)\n",
      "epoch: 11 loss: tensor(0.2478)\n",
      "epoch: 12 loss: tensor(0.2445)\n",
      "epoch: 13 loss: tensor(0.2429)\n",
      "epoch: 14 loss: tensor(0.2381)\n",
      "epoch: 15 loss: tensor(0.2390)\n",
      "epoch: 16 loss: tensor(0.2329)\n",
      "epoch: 17 loss: tensor(0.2305)\n",
      "epoch: 18 loss: tensor(0.2285)\n",
      "epoch: 19 loss: tensor(0.2269)\n",
      "epoch: 20 loss: tensor(0.2250)\n",
      "epoch: 21 loss: tensor(0.2277)\n",
      "epoch: 22 loss: tensor(0.2249)\n",
      "epoch: 23 loss: tensor(0.2201)\n",
      "epoch: 24 loss: tensor(0.2202)\n",
      "epoch: 25 loss: tensor(0.2186)\n",
      "epoch: 26 loss: tensor(0.2212)\n",
      "epoch: 27 loss: tensor(0.2176)\n",
      "epoch: 28 loss: tensor(0.2156)\n",
      "epoch: 29 loss: tensor(0.2142)\n",
      "epoch: 30 loss: tensor(0.2143)\n",
      "epoch: 31 loss: tensor(0.2122)\n",
      "epoch: 32 loss: tensor(0.2123)\n",
      "epoch: 33 loss: tensor(0.2163)\n",
      "epoch: 34 loss: tensor(0.2117)\n",
      "epoch: 35 loss: tensor(0.2095)\n",
      "epoch: 36 loss: tensor(0.2095)\n",
      "epoch: 37 loss: tensor(0.2114)\n",
      "epoch: 38 loss: tensor(0.2081)\n",
      "epoch: 39 loss: tensor(0.2083)\n",
      "epoch: 40 loss: tensor(0.2105)\n",
      "epoch: 41 loss: tensor(0.2097)\n",
      "epoch: 42 loss: tensor(0.2138)\n",
      "epoch: 43 loss: tensor(0.2081)\n",
      "epoch: 44 loss: tensor(0.2077)\n",
      "epoch: 45 loss: tensor(0.2106)\n",
      "epoch: 46 loss: tensor(0.2111)\n",
      "epoch: 47 loss: tensor(0.2055)\n",
      "epoch: 48 loss: tensor(0.2053)\n",
      "epoch: 49 loss: tensor(0.2083)\n",
      "epoch: 50 loss: tensor(0.2043)\n",
      "epoch: 51 loss: tensor(0.2042)\n",
      "epoch: 52 loss: tensor(0.2041)\n",
      "epoch: 53 loss: tensor(0.2050)\n",
      "epoch: 54 loss: tensor(0.2101)\n",
      "epoch: 55 loss: tensor(0.2081)\n",
      "epoch: 56 loss: tensor(0.2045)\n",
      "epoch: 57 loss: tensor(0.2047)\n",
      "epoch: 58 loss: tensor(0.2031)\n",
      "epoch: 59 loss: tensor(0.2028)\n",
      "epoch: 60 loss: tensor(0.2026)\n",
      "epoch: 61 loss: tensor(0.2028)\n",
      "epoch: 62 loss: tensor(0.2080)\n",
      "epoch: 63 loss: tensor(0.2017)\n",
      "epoch: 64 loss: tensor(0.2017)\n",
      "epoch: 65 loss: tensor(0.2021)\n",
      "epoch: 66 loss: tensor(0.2015)\n",
      "epoch: 67 loss: tensor(0.2013)\n",
      "epoch: 68 loss: tensor(0.2013)\n",
      "epoch: 69 loss: tensor(0.2008)\n",
      "epoch: 70 loss: tensor(0.2029)\n",
      "epoch: 71 loss: tensor(0.2054)\n",
      "epoch: 72 loss: tensor(0.2004)\n",
      "epoch: 73 loss: tensor(0.2016)\n",
      "epoch: 74 loss: tensor(0.2021)\n",
      "epoch: 75 loss: tensor(0.1997)\n",
      "epoch: 76 loss: tensor(0.2078)\n",
      "epoch: 77 loss: tensor(0.1993)\n",
      "epoch: 78 loss: tensor(0.1995)\n",
      "epoch: 79 loss: tensor(0.2005)\n",
      "epoch: 80 loss: tensor(0.1988)\n",
      "epoch: 81 loss: tensor(0.1988)\n",
      "epoch: 82 loss: tensor(0.1990)\n",
      "epoch: 83 loss: tensor(0.1988)\n",
      "epoch: 84 loss: tensor(0.2049)\n",
      "epoch: 85 loss: tensor(0.1994)\n",
      "epoch: 86 loss: tensor(0.2001)\n",
      "epoch: 87 loss: tensor(0.1972)\n",
      "epoch: 88 loss: tensor(0.1971)\n",
      "epoch: 89 loss: tensor(0.1971)\n",
      "epoch: 90 loss: tensor(0.1967)\n",
      "epoch: 91 loss: tensor(0.1983)\n",
      "epoch: 92 loss: tensor(0.1989)\n",
      "epoch: 93 loss: tensor(0.2023)\n",
      "epoch: 94 loss: tensor(0.1990)\n",
      "epoch: 95 loss: tensor(0.1969)\n",
      "epoch: 96 loss: tensor(0.1967)\n"
     ]
    }
   ],
   "source": [
    "for epochs in range(epochs):\n",
    "    for x,y in HR_dl:\n",
    "        y_pre = model(x)\n",
    "        loss = loss_fn(y_pre,y)\n",
    "        optim.zero_grad()\n",
    "        loss.backward()\n",
    "        optim.step()\n",
    "    with torch.no_grad():\n",
    "        print('epoch:',epochs,'loss:',loss_fn(model(X),Y_data))"
   ]
  },
  {
   "cell_type": "markdown",
   "id": "fbb85b38",
   "metadata": {},
   "source": [
    "## 添加验证\n",
    "### 了解过拟合和欠拟合"
   ]
  },
  {
   "cell_type": "code",
   "execution_count": 154,
   "id": "216fea8f",
   "metadata": {
    "ExecuteTime": {
     "end_time": "2022-10-29T12:15:56.620876Z",
     "start_time": "2022-10-29T12:15:56.611155Z"
    }
   },
   "outputs": [],
   "source": [
    "from sklearn.model_selection import train_test_split"
   ]
  },
  {
   "cell_type": "code",
   "execution_count": 160,
   "id": "c661c1b5",
   "metadata": {
    "ExecuteTime": {
     "end_time": "2022-10-29T12:20:27.560855Z",
     "start_time": "2022-10-29T12:20:27.549817Z"
    }
   },
   "outputs": [],
   "source": [
    "train_x,test_x,train_y,test_y = train_test_split(X,Y_data)"
   ]
  },
  {
   "cell_type": "code",
   "execution_count": 161,
   "id": "ef412835",
   "metadata": {
    "ExecuteTime": {
     "end_time": "2022-10-29T12:20:27.922050Z",
     "start_time": "2022-10-29T12:20:27.914047Z"
    }
   },
   "outputs": [
    {
     "data": {
      "text/plain": [
       "<function Tensor.type>"
      ]
     },
     "execution_count": 161,
     "metadata": {},
     "output_type": "execute_result"
    }
   ],
   "source": [
    "train_x.type"
   ]
  },
  {
   "cell_type": "code",
   "execution_count": 159,
   "id": "e7197eb5",
   "metadata": {
    "ExecuteTime": {
     "end_time": "2022-10-29T12:18:52.342929Z",
     "start_time": "2022-10-29T12:18:52.328680Z"
    }
   },
   "outputs": [
    {
     "data": {
      "text/plain": [
       "(torch.Size([11249, 20]), torch.Size([3750, 20]))"
      ]
     },
     "execution_count": 159,
     "metadata": {},
     "output_type": "execute_result"
    }
   ],
   "source": [
    "train_x.shape,test_x.shape"
   ]
  },
  {
   "cell_type": "code",
   "execution_count": 164,
   "id": "8c4d0c28",
   "metadata": {
    "ExecuteTime": {
     "end_time": "2022-10-29T12:21:04.438362Z",
     "start_time": "2022-10-29T12:21:04.428228Z"
    }
   },
   "outputs": [],
   "source": [
    "train_ds = TensorDataset(train_x,train_y)\n",
    "train_dl = DataLoader(train_ds,batch_size=batch,shuffle=True)# Shuffle 让数据乱序 而不是只关注数据本身"
   ]
  },
  {
   "cell_type": "code",
   "execution_count": 166,
   "id": "d806ff97",
   "metadata": {
    "ExecuteTime": {
     "end_time": "2022-10-29T12:22:08.541989Z",
     "start_time": "2022-10-29T12:22:08.537700Z"
    }
   },
   "outputs": [],
   "source": [
    "test_ds = TensorDataset(test_x,test_y)\n",
    "test_dl = DataLoader(test_ds,batch_size=batch)# Shuffle 让数据乱序 而不是只关注数据本身"
   ]
  },
  {
   "cell_type": "markdown",
   "id": "6fd1f864",
   "metadata": {},
   "source": [
    "## 如何计算正确率"
   ]
  },
  {
   "cell_type": "code",
   "execution_count": null,
   "id": "58c99656",
   "metadata": {},
   "outputs": [],
   "source": [
    "# y_pred = (y_pre > 0.5).type(torch.int32)   \n",
    "# (y_pred == labels).float().mean()"
   ]
  },
  {
   "cell_type": "code",
   "execution_count": 218,
   "id": "c5894736",
   "metadata": {
    "ExecuteTime": {
     "end_time": "2022-10-29T12:32:26.907962Z",
     "start_time": "2022-10-29T12:32:26.894793Z"
    }
   },
   "outputs": [],
   "source": [
    "def acc(y_pre,y_true):\n",
    "    y_pred = (y_pre > 0.5).type(torch.int32) \n",
    "    return (y_pred == y_true).float().mean()"
   ]
  },
  {
   "cell_type": "code",
   "execution_count": 227,
   "id": "5109b9c6",
   "metadata": {
    "ExecuteTime": {
     "end_time": "2022-10-29T12:36:40.401008Z",
     "start_time": "2022-10-29T12:36:40.386125Z"
    }
   },
   "outputs": [],
   "source": [
    "model,opt = get_model()"
   ]
  },
  {
   "cell_type": "code",
   "execution_count": 229,
   "id": "4cf30126",
   "metadata": {
    "ExecuteTime": {
     "end_time": "2022-10-29T12:37:06.267591Z",
     "start_time": "2022-10-29T12:36:57.579041Z"
    }
   },
   "outputs": [
    {
     "name": "stderr",
     "output_type": "stream",
     "text": [
      "D:\\software\\miniconda\\lib\\site-packages\\torch\\nn\\functional.py:1960: UserWarning: nn.functional.sigmoid is deprecated. Use torch.sigmoid instead.\n",
      "  warnings.warn(\"nn.functional.sigmoid is deprecated. Use torch.sigmoid instead.\")\n"
     ]
    },
    {
     "name": "stdout",
     "output_type": "stream",
     "text": [
      "train_epoch: 0 loss: tensor(0.4193) accuracy : tensor(0.7782)\n",
      "test_epoch: 0 loss: tensor(0.4180) accuracy : tensor(0.7835)\n",
      "train_epoch: 1 loss: tensor(0.4174) accuracy : tensor(0.7832)\n",
      "test_epoch: 1 loss: tensor(0.4160) accuracy : tensor(0.7893)\n",
      "train_epoch: 2 loss: tensor(0.4100) accuracy : tensor(0.7671)\n",
      "test_epoch: 2 loss: tensor(0.4076) accuracy : tensor(0.7771)\n",
      "train_epoch: 3 loss: tensor(0.4097) accuracy : tensor(0.7770)\n",
      "test_epoch: 3 loss: tensor(0.4078) accuracy : tensor(0.7867)\n",
      "train_epoch: 4 loss: tensor(0.4044) accuracy : tensor(0.7707)\n",
      "test_epoch: 4 loss: tensor(0.4017) accuracy : tensor(0.7781)\n",
      "train_epoch: 5 loss: tensor(0.4015) accuracy : tensor(0.7720)\n",
      "test_epoch: 5 loss: tensor(0.3987) accuracy : tensor(0.7813)\n",
      "train_epoch: 6 loss: tensor(0.3997) accuracy : tensor(0.7865)\n",
      "test_epoch: 6 loss: tensor(0.3975) accuracy : tensor(0.7957)\n",
      "train_epoch: 7 loss: tensor(0.3949) accuracy : tensor(0.7763)\n",
      "test_epoch: 7 loss: tensor(0.3919) accuracy : tensor(0.7853)\n",
      "train_epoch: 8 loss: tensor(0.3916) accuracy : tensor(0.7779)\n",
      "test_epoch: 8 loss: tensor(0.3887) accuracy : tensor(0.7883)\n",
      "train_epoch: 9 loss: tensor(0.3999) accuracy : tensor(0.8052)\n",
      "test_epoch: 9 loss: tensor(0.3976) accuracy : tensor(0.8117)\n",
      "train_epoch: 10 loss: tensor(0.3851) accuracy : tensor(0.7834)\n",
      "test_epoch: 10 loss: tensor(0.3819) accuracy : tensor(0.7912)\n",
      "train_epoch: 11 loss: tensor(0.3817) accuracy : tensor(0.7866)\n",
      "test_epoch: 11 loss: tensor(0.3784) accuracy : tensor(0.7925)\n",
      "train_epoch: 12 loss: tensor(0.3824) accuracy : tensor(0.7798)\n",
      "test_epoch: 12 loss: tensor(0.3785) accuracy : tensor(0.7915)\n",
      "train_epoch: 13 loss: tensor(0.3765) accuracy : tensor(0.7920)\n",
      "test_epoch: 13 loss: tensor(0.3729) accuracy : tensor(0.7981)\n",
      "train_epoch: 14 loss: tensor(0.3763) accuracy : tensor(0.7842)\n",
      "test_epoch: 14 loss: tensor(0.3723) accuracy : tensor(0.7928)\n",
      "train_epoch: 15 loss: tensor(0.3704) accuracy : tensor(0.7954)\n",
      "test_epoch: 15 loss: tensor(0.3665) accuracy : tensor(0.8013)\n",
      "train_epoch: 16 loss: tensor(0.3736) accuracy : tensor(0.7836)\n",
      "test_epoch: 16 loss: tensor(0.3690) accuracy : tensor(0.7928)\n",
      "train_epoch: 17 loss: tensor(0.3689) accuracy : tensor(0.7882)\n",
      "test_epoch: 17 loss: tensor(0.3643) accuracy : tensor(0.7979)\n",
      "train_epoch: 18 loss: tensor(0.3590) accuracy : tensor(0.8050)\n",
      "test_epoch: 18 loss: tensor(0.3547) accuracy : tensor(0.8136)\n",
      "train_epoch: 19 loss: tensor(0.3612) accuracy : tensor(0.7979)\n",
      "test_epoch: 19 loss: tensor(0.3566) accuracy : tensor(0.8035)\n",
      "train_epoch: 20 loss: tensor(0.3529) accuracy : tensor(0.8284)\n",
      "test_epoch: 20 loss: tensor(0.3485) accuracy : tensor(0.8355)\n",
      "train_epoch: 21 loss: tensor(0.3495) accuracy : tensor(0.8102)\n",
      "test_epoch: 21 loss: tensor(0.3448) accuracy : tensor(0.8208)\n",
      "train_epoch: 22 loss: tensor(0.3455) accuracy : tensor(0.8324)\n",
      "test_epoch: 22 loss: tensor(0.3408) accuracy : tensor(0.8389)\n",
      "train_epoch: 23 loss: tensor(0.3443) accuracy : tensor(0.8510)\n",
      "test_epoch: 23 loss: tensor(0.3396) accuracy : tensor(0.8547)\n",
      "train_epoch: 24 loss: tensor(0.3382) accuracy : tensor(0.8350)\n",
      "test_epoch: 24 loss: tensor(0.3333) accuracy : tensor(0.8405)\n",
      "train_epoch: 25 loss: tensor(0.3429) accuracy : tensor(0.8499)\n",
      "test_epoch: 25 loss: tensor(0.3380) accuracy : tensor(0.8507)\n",
      "train_epoch: 26 loss: tensor(0.3462) accuracy : tensor(0.8582)\n",
      "test_epoch: 26 loss: tensor(0.3410) accuracy : tensor(0.8579)\n",
      "train_epoch: 27 loss: tensor(0.3349) accuracy : tensor(0.8577)\n",
      "test_epoch: 27 loss: tensor(0.3298) accuracy : tensor(0.8573)\n",
      "train_epoch: 28 loss: tensor(0.3259) accuracy : tensor(0.8460)\n",
      "test_epoch: 28 loss: tensor(0.3208) accuracy : tensor(0.8515)\n",
      "train_epoch: 29 loss: tensor(0.3242) accuracy : tensor(0.8409)\n",
      "test_epoch: 29 loss: tensor(0.3189) accuracy : tensor(0.8467)\n",
      "train_epoch: 30 loss: tensor(0.3203) accuracy : tensor(0.8522)\n",
      "test_epoch: 30 loss: tensor(0.3150) accuracy : tensor(0.8581)\n",
      "train_epoch: 31 loss: tensor(0.3202) accuracy : tensor(0.8621)\n",
      "test_epoch: 31 loss: tensor(0.3147) accuracy : tensor(0.8656)\n",
      "train_epoch: 32 loss: tensor(0.3153) accuracy : tensor(0.8641)\n",
      "test_epoch: 32 loss: tensor(0.3099) accuracy : tensor(0.8688)\n",
      "train_epoch: 33 loss: tensor(0.3123) accuracy : tensor(0.8660)\n",
      "test_epoch: 33 loss: tensor(0.3068) accuracy : tensor(0.8707)\n",
      "train_epoch: 34 loss: tensor(0.3094) accuracy : tensor(0.8659)\n",
      "test_epoch: 34 loss: tensor(0.3039) accuracy : tensor(0.8720)\n",
      "train_epoch: 35 loss: tensor(0.3070) accuracy : tensor(0.8667)\n",
      "test_epoch: 35 loss: tensor(0.3015) accuracy : tensor(0.8744)\n",
      "train_epoch: 36 loss: tensor(0.3065) accuracy : tensor(0.8703)\n",
      "test_epoch: 36 loss: tensor(0.3008) accuracy : tensor(0.8739)\n",
      "train_epoch: 37 loss: tensor(0.3052) accuracy : tensor(0.8814)\n",
      "test_epoch: 37 loss: tensor(0.2995) accuracy : tensor(0.8877)\n"
     ]
    }
   ],
   "source": [
    "for epochs in range(epochs):\n",
    "    for x,y in train_dl:\n",
    "        y_pre = model(x)\n",
    "        loss = loss_fn(y_pre,y)\n",
    "        opt.zero_grad()\n",
    "        loss.backward()\n",
    "        opt.step()\n",
    "    with torch.no_grad():\n",
    "        print('train_epoch:',epochs,'loss:',loss_fn(model(train_x),train_y),'accuracy :',acc(model(train_x),train_y))\n",
    "        print('test_epoch:',epochs,'loss:',loss_fn(model(test_x),test_y),'accuracy :',acc(model(test_x),test_y))"
   ]
  },
  {
   "cell_type": "code",
   "execution_count": null,
   "id": "7aa4d1b5",
   "metadata": {},
   "outputs": [],
   "source": []
  },
  {
   "cell_type": "code",
   "execution_count": null,
   "id": "3cef8e56",
   "metadata": {},
   "outputs": [],
   "source": []
  },
  {
   "cell_type": "code",
   "execution_count": null,
   "id": "34b7ab43",
   "metadata": {},
   "outputs": [],
   "source": []
  },
  {
   "cell_type": "code",
   "execution_count": null,
   "id": "00df78e6",
   "metadata": {},
   "outputs": [],
   "source": []
  },
  {
   "cell_type": "code",
   "execution_count": null,
   "id": "d6b7e10b",
   "metadata": {},
   "outputs": [],
   "source": []
  },
  {
   "cell_type": "code",
   "execution_count": null,
   "id": "3074bf4d",
   "metadata": {},
   "outputs": [],
   "source": []
  },
  {
   "cell_type": "code",
   "execution_count": null,
   "id": "6a3614c9",
   "metadata": {},
   "outputs": [],
   "source": []
  },
  {
   "cell_type": "code",
   "execution_count": null,
   "id": "2034ddf9",
   "metadata": {},
   "outputs": [],
   "source": []
  },
  {
   "cell_type": "code",
   "execution_count": null,
   "id": "684f7b91",
   "metadata": {},
   "outputs": [],
   "source": []
  },
  {
   "cell_type": "code",
   "execution_count": null,
   "id": "282b1fe5",
   "metadata": {},
   "outputs": [],
   "source": []
  },
  {
   "cell_type": "code",
   "execution_count": null,
   "id": "662dca44",
   "metadata": {},
   "outputs": [],
   "source": []
  },
  {
   "cell_type": "code",
   "execution_count": null,
   "id": "2b041049",
   "metadata": {},
   "outputs": [],
   "source": []
  },
  {
   "cell_type": "code",
   "execution_count": null,
   "id": "15fa9070",
   "metadata": {},
   "outputs": [],
   "source": []
  },
  {
   "cell_type": "code",
   "execution_count": null,
   "id": "2beb54e0",
   "metadata": {},
   "outputs": [],
   "source": []
  },
  {
   "cell_type": "code",
   "execution_count": null,
   "id": "7fd488f9",
   "metadata": {},
   "outputs": [],
   "source": []
  },
  {
   "cell_type": "code",
   "execution_count": null,
   "id": "5667b475",
   "metadata": {},
   "outputs": [],
   "source": []
  },
  {
   "cell_type": "code",
   "execution_count": null,
   "id": "e37986a5",
   "metadata": {},
   "outputs": [],
   "source": []
  },
  {
   "cell_type": "code",
   "execution_count": null,
   "id": "d7cd909f",
   "metadata": {},
   "outputs": [],
   "source": []
  },
  {
   "cell_type": "code",
   "execution_count": null,
   "id": "1c5c179e",
   "metadata": {},
   "outputs": [],
   "source": []
  },
  {
   "cell_type": "code",
   "execution_count": null,
   "id": "71e5c8eb",
   "metadata": {},
   "outputs": [],
   "source": []
  }
 ],
 "metadata": {
  "kernelspec": {
   "display_name": "Python 3 (ipykernel)",
   "language": "python",
   "name": "python3"
  },
  "language_info": {
   "codemirror_mode": {
    "name": "ipython",
    "version": 3
   },
   "file_extension": ".py",
   "mimetype": "text/x-python",
   "name": "python",
   "nbconvert_exporter": "python",
   "pygments_lexer": "ipython3",
   "version": "3.8.12"
  },
  "toc": {
   "base_numbering": 1,
   "nav_menu": {},
   "number_sections": true,
   "sideBar": true,
   "skip_h1_title": false,
   "title_cell": "Table of Contents",
   "title_sidebar": "Contents",
   "toc_cell": false,
   "toc_position": {},
   "toc_section_display": true,
   "toc_window_display": false
  },
  "varInspector": {
   "cols": {
    "lenName": 16,
    "lenType": 16,
    "lenVar": 40
   },
   "kernels_config": {
    "python": {
     "delete_cmd_postfix": "",
     "delete_cmd_prefix": "del ",
     "library": "var_list.py",
     "varRefreshCmd": "print(var_dic_list())"
    },
    "r": {
     "delete_cmd_postfix": ") ",
     "delete_cmd_prefix": "rm(",
     "library": "var_list.r",
     "varRefreshCmd": "cat(var_dic_list()) "
    }
   },
   "types_to_exclude": [
    "module",
    "function",
    "builtin_function_or_method",
    "instance",
    "_Feature"
   ],
   "window_display": false
  }
 },
 "nbformat": 4,
 "nbformat_minor": 5
}
