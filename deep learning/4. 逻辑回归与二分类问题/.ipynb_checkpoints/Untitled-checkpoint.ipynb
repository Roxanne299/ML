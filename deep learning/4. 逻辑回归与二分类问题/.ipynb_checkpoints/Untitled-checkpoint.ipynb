{
 "cells": [
  {
   "cell_type": "code",
   "execution_count": 35,
   "id": "6af4be64",
   "metadata": {
    "ExecuteTime": {
     "end_time": "2022-10-29T06:17:47.628959Z",
     "start_time": "2022-10-29T06:17:47.624395Z"
    }
   },
   "outputs": [],
   "source": [
    "import numpy as np\n",
    "import pandas as pd\n",
    "import matplotlib.pyplot as plt\n",
    "import torch\n",
    "from torch import nn"
   ]
  },
  {
   "cell_type": "code",
   "execution_count": null,
   "id": "7060ad11",
   "metadata": {},
   "outputs": [],
   "source": []
  },
  {
   "cell_type": "code",
   "execution_count": 31,
   "id": "76cbe2fa",
   "metadata": {
    "ExecuteTime": {
     "end_time": "2022-10-29T06:17:29.861719Z",
     "start_time": "2022-10-29T06:17:29.845560Z"
    }
   },
   "outputs": [
    {
     "name": "stdout",
     "output_type": "stream",
     "text": [
      "<class 'pandas.core.frame.DataFrame'>\n",
      "RangeIndex: 653 entries, 0 to 652\n",
      "Data columns (total 16 columns):\n",
      " #   Column  Non-Null Count  Dtype  \n",
      "---  ------  --------------  -----  \n",
      " 0   0       653 non-null    int64  \n",
      " 1   1       653 non-null    float64\n",
      " 2   2       653 non-null    float64\n",
      " 3   3       653 non-null    int64  \n",
      " 4   4       653 non-null    int64  \n",
      " 5   5       653 non-null    int64  \n",
      " 6   6       653 non-null    int64  \n",
      " 7   7       653 non-null    float64\n",
      " 8   8       653 non-null    int64  \n",
      " 9   9       653 non-null    int64  \n",
      " 10  10      653 non-null    int64  \n",
      " 11  11      653 non-null    int64  \n",
      " 12  12      653 non-null    int64  \n",
      " 13  13      653 non-null    int64  \n",
      " 14  14      653 non-null    float64\n",
      " 15  15      653 non-null    int64  \n",
      "dtypes: float64(4), int64(12)\n",
      "memory usage: 81.8 KB\n"
     ]
    }
   ],
   "source": [
    "data  = pd.read_csv(\"./credit-a.csv\",header=None)\n",
    "data.head()\n",
    "data.info()"
   ]
  },
  {
   "cell_type": "code",
   "execution_count": 32,
   "id": "6b860662",
   "metadata": {
    "ExecuteTime": {
     "end_time": "2022-10-29T06:17:31.890332Z",
     "start_time": "2022-10-29T06:17:31.876518Z"
    }
   },
   "outputs": [],
   "source": [
    "X = data.iloc[:,:-1]\n",
    "Y = data.iloc[:,-1].replace(-1,0)"
   ]
  },
  {
   "cell_type": "code",
   "execution_count": 33,
   "id": "0657052f",
   "metadata": {
    "ExecuteTime": {
     "end_time": "2022-10-29T06:17:32.269897Z",
     "start_time": "2022-10-29T06:17:32.252178Z"
    }
   },
   "outputs": [],
   "source": [
    "# values 获取ndarray\n",
    "X = torch.from_numpy(X.values).type(torch.float32)\n",
    "Y = torch.from_numpy(Y.values.reshape(-1,1)).type(torch.float32)"
   ]
  },
  {
   "cell_type": "code",
   "execution_count": 39,
   "id": "1f00bdbc",
   "metadata": {
    "ExecuteTime": {
     "end_time": "2022-10-29T06:21:24.787735Z",
     "start_time": "2022-10-29T06:21:24.783289Z"
    }
   },
   "outputs": [],
   "source": [
    "#可以将多个层顺序连接\n",
    "#Linear参数 分别是输入的形状和输出的形状\n",
    "model = nn.Sequential(\n",
    "    nn.Linear(15,1),\n",
    "    nn.Sigmoid()\n",
    ")"
   ]
  },
  {
   "cell_type": "code",
   "execution_count": 40,
   "id": "26997433",
   "metadata": {
    "ExecuteTime": {
     "end_time": "2022-10-29T06:21:25.197960Z",
     "start_time": "2022-10-29T06:21:25.187634Z"
    }
   },
   "outputs": [
    {
     "data": {
      "text/plain": [
       "Sequential(\n",
       "  (0): Linear(in_features=15, out_features=1, bias=True)\n",
       "  (1): Sigmoid()\n",
       ")"
      ]
     },
     "execution_count": 40,
     "metadata": {},
     "output_type": "execute_result"
    }
   ],
   "source": [
    "model"
   ]
  },
  {
   "cell_type": "code",
   "execution_count": 46,
   "id": "dbf22a02",
   "metadata": {
    "ExecuteTime": {
     "end_time": "2022-10-29T06:29:39.367955Z",
     "start_time": "2022-10-29T06:29:39.364022Z"
    }
   },
   "outputs": [],
   "source": [
    "#二元分类交叉熵损失\n",
    "loss_fn = nn.BCELoss()"
   ]
  },
  {
   "cell_type": "code",
   "execution_count": 43,
   "id": "1ba7f3f9",
   "metadata": {
    "ExecuteTime": {
     "end_time": "2022-10-29T06:22:27.396057Z",
     "start_time": "2022-10-29T06:22:27.383254Z"
    }
   },
   "outputs": [],
   "source": [
    "#Adam 会考虑之前下降了多少 进行加权 随机梯度下降不会考虑之前\n",
    "opt = torch.optim.Adam(model.parameters(),lr=0.0001)"
   ]
  },
  {
   "cell_type": "code",
   "execution_count": 44,
   "id": "c623bd50",
   "metadata": {
    "ExecuteTime": {
     "end_time": "2022-10-29T06:26:28.112979Z",
     "start_time": "2022-10-29T06:26:28.105607Z"
    }
   },
   "outputs": [],
   "source": [
    "#一个值一个值训练对于异常值十分敏感，使用小批次训练\n",
    "batches  = 16\n",
    "no_of_batch = 653 // 16"
   ]
  },
  {
   "cell_type": "code",
   "execution_count": 45,
   "id": "974a7021",
   "metadata": {
    "ExecuteTime": {
     "end_time": "2022-10-29T06:26:36.742114Z",
     "start_time": "2022-10-29T06:26:36.724091Z"
    }
   },
   "outputs": [],
   "source": [
    "epoches = 1000"
   ]
  },
  {
   "cell_type": "code",
   "execution_count": 48,
   "id": "0828f6b5",
   "metadata": {
    "ExecuteTime": {
     "end_time": "2022-10-29T06:32:51.439177Z",
     "start_time": "2022-10-29T06:32:40.069858Z"
    }
   },
   "outputs": [],
   "source": [
    "for epoch in range(epoches):\n",
    "    for batch in range(no_of_batch):\n",
    "        start = batch*batches\n",
    "        end = start + batches\n",
    "        x = X[start:end]\n",
    "        y = Y[start:end]\n",
    "        y_pred = model(x)\n",
    "        loss = loss_fn(y_pred,y)\n",
    "        opt.zero_grad()\n",
    "        loss.backward()\n",
    "        opt.step()"
   ]
  },
  {
   "cell_type": "code",
   "execution_count": 49,
   "id": "a2904450",
   "metadata": {
    "ExecuteTime": {
     "end_time": "2022-10-29T06:33:00.793898Z",
     "start_time": "2022-10-29T06:33:00.784208Z"
    }
   },
   "outputs": [
    {
     "data": {
      "text/plain": [
       "OrderedDict([('0.weight',\n",
       "              tensor([[-2.9938e-01, -8.7434e-03,  3.6001e-02,  1.8289e-01,  3.6037e-01,\n",
       "                       -5.2897e-03,  2.0719e-01, -1.5503e-01,  4.4813e+00,  3.1905e-01,\n",
       "                       -1.4352e-01, -2.8522e-01, -2.2652e-01,  2.1602e-03,  9.8745e-05]])),\n",
       "             ('0.bias', tensor([-0.5046]))])"
      ]
     },
     "execution_count": 49,
     "metadata": {},
     "output_type": "execute_result"
    }
   ],
   "source": [
    "model.state_dict()"
   ]
  },
  {
   "cell_type": "code",
   "execution_count": 54,
   "id": "2723df20",
   "metadata": {
    "ExecuteTime": {
     "end_time": "2022-10-29T06:41:54.769640Z",
     "start_time": "2022-10-29T06:41:54.741860Z"
    }
   },
   "outputs": [
    {
     "name": "stderr",
     "output_type": "stream",
     "text": [
      "C:\\Users\\warr\\AppData\\Local\\Temp\\ipykernel_22700\\3049843564.py:1: DeprecationWarning: `np.int` is a deprecated alias for the builtin `int`. To silence this warning, use `int` by itself. Doing this will not modify any behavior and is safe. When replacing `np.int`, you may wish to use e.g. `np.int64` or `np.int32` to specify the precision. If you wish to review your current use, check the release note link for additional information.\n",
      "Deprecated in NumPy 1.20; for more details and guidance: https://numpy.org/devdocs/release/1.20.0-notes.html#deprecations\n",
      "  ((model(X).data.numpy() > 0.5).astype(np.int) == Y.numpy()).mean()\n"
     ]
    },
    {
     "data": {
      "text/plain": [
       "0.8499234303215927"
      ]
     },
     "execution_count": 54,
     "metadata": {},
     "output_type": "execute_result"
    }
   ],
   "source": [
    "((model(X).data.numpy() > 0.5).astype(np.int) == Y.numpy()).mean()"
   ]
  },
  {
   "cell_type": "code",
   "execution_count": null,
   "id": "bdc1fa09",
   "metadata": {},
   "outputs": [],
   "source": []
  },
  {
   "cell_type": "code",
   "execution_count": null,
   "id": "6ff71fbd",
   "metadata": {},
   "outputs": [],
   "source": []
  },
  {
   "cell_type": "code",
   "execution_count": null,
   "id": "6b20ef20",
   "metadata": {},
   "outputs": [],
   "source": []
  },
  {
   "cell_type": "code",
   "execution_count": null,
   "id": "8e9be98f",
   "metadata": {},
   "outputs": [],
   "source": []
  },
  {
   "cell_type": "code",
   "execution_count": null,
   "id": "b4830668",
   "metadata": {},
   "outputs": [],
   "source": []
  },
  {
   "cell_type": "code",
   "execution_count": null,
   "id": "fd81e05a",
   "metadata": {},
   "outputs": [],
   "source": []
  },
  {
   "cell_type": "code",
   "execution_count": null,
   "id": "748a29e1",
   "metadata": {},
   "outputs": [],
   "source": []
  },
  {
   "cell_type": "code",
   "execution_count": null,
   "id": "bfcdf290",
   "metadata": {},
   "outputs": [],
   "source": []
  }
 ],
 "metadata": {
  "kernelspec": {
   "display_name": "Python 3 (ipykernel)",
   "language": "python",
   "name": "python3"
  },
  "language_info": {
   "codemirror_mode": {
    "name": "ipython",
    "version": 3
   },
   "file_extension": ".py",
   "mimetype": "text/x-python",
   "name": "python",
   "nbconvert_exporter": "python",
   "pygments_lexer": "ipython3",
   "version": "3.8.12"
  },
  "toc": {
   "base_numbering": 1,
   "nav_menu": {},
   "number_sections": true,
   "sideBar": true,
   "skip_h1_title": false,
   "title_cell": "Table of Contents",
   "title_sidebar": "Contents",
   "toc_cell": false,
   "toc_position": {},
   "toc_section_display": true,
   "toc_window_display": false
  },
  "varInspector": {
   "cols": {
    "lenName": 16,
    "lenType": 16,
    "lenVar": 40
   },
   "kernels_config": {
    "python": {
     "delete_cmd_postfix": "",
     "delete_cmd_prefix": "del ",
     "library": "var_list.py",
     "varRefreshCmd": "print(var_dic_list())"
    },
    "r": {
     "delete_cmd_postfix": ") ",
     "delete_cmd_prefix": "rm(",
     "library": "var_list.r",
     "varRefreshCmd": "cat(var_dic_list()) "
    }
   },
   "types_to_exclude": [
    "module",
    "function",
    "builtin_function_or_method",
    "instance",
    "_Feature"
   ],
   "window_display": false
  }
 },
 "nbformat": 4,
 "nbformat_minor": 5
}
