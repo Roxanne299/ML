{
 "cells": [
  {
   "cell_type": "code",
   "execution_count": 2,
   "id": "ea4224ad",
   "metadata": {
    "ExecuteTime": {
     "end_time": "2022-10-19T13:57:15.271755Z",
     "start_time": "2022-10-19T13:57:15.105590Z"
    }
   },
   "outputs": [],
   "source": [
    "from thrift.transport import TSocket\n",
    "from hbase import Hbase\n",
    "from hbase.ttypes import *"
   ]
  },
  {
   "cell_type": "code",
   "execution_count": 12,
   "id": "27f7d358",
   "metadata": {
    "ExecuteTime": {
     "end_time": "2022-10-19T14:10:43.388858Z",
     "start_time": "2022-10-19T14:10:43.341420Z"
    }
   },
   "outputs": [],
   "source": [
    "# 建立连接\n",
    "transport = TSocket.TSocket('119.36.233.156', 9090)\n",
    "protocol = TBinaryProtocol.TBinaryProtocol(transport)\n",
    "client = Hbase.Client(protocol)\n",
    "transport.open()"
   ]
  },
  {
   "cell_type": "code",
   "execution_count": 13,
   "id": "b4b79c0c",
   "metadata": {
    "ExecuteTime": {
     "end_time": "2022-10-19T14:10:44.868177Z",
     "start_time": "2022-10-19T14:10:43.596951Z"
    }
   },
   "outputs": [],
   "source": [
    "#创建book表 插入记录\n",
    "contents = ColumnDescriptor(name='info:', maxVersions=1)\n",
    "client.createTable('book', [contents])\n",
    "row = '10001'\n",
    "mutations = [Mutation(column=\"info:bookname\", value=\"Moonlight\"),Mutation(column=\"info:author\", value=\"liming\")]\n",
    "client.mutateRow('book', row, mutations)"
   ]
  },
  {
   "cell_type": "code",
   "execution_count": 14,
   "id": "d5e952ea",
   "metadata": {
    "ExecuteTime": {
     "end_time": "2022-10-19T14:11:01.729765Z",
     "start_time": "2022-10-19T14:11:01.611086Z"
    }
   },
   "outputs": [
    {
     "name": "stdout",
     "output_type": "stream",
     "text": [
      "the row is  10001\n",
      "the bookname is  Moonlight\n",
      "the author is  liming\n"
     ]
    }
   ],
   "source": [
    "#列举表中插入的记录\n",
    "tableName = 'book'\n",
    "rowKey = '10001'\n",
    "result = client.getRow(tableName, rowKey)\n",
    "for r in result:\n",
    "    print ('the row is ', r.row)\n",
    "    print ('the bookname is ', r.columns.get('info:bookname').value)\n",
    "    print ('the author is ', r.columns.get('info:author').value)"
   ]
  },
  {
   "cell_type": "code",
   "execution_count": 15,
   "id": "56ab5417",
   "metadata": {
    "ExecuteTime": {
     "end_time": "2022-10-19T14:11:43.906685Z",
     "start_time": "2022-10-19T14:11:43.720146Z"
    }
   },
   "outputs": [],
   "source": [
    "#删除表中插入的记录\n",
    "client.deleteAllRow('book','10001')"
   ]
  },
  {
   "cell_type": "code",
   "execution_count": null,
   "id": "fa18447c",
   "metadata": {},
   "outputs": [],
   "source": []
  },
  {
   "cell_type": "code",
   "execution_count": null,
   "id": "2685f8a1",
   "metadata": {},
   "outputs": [],
   "source": []
  },
  {
   "cell_type": "code",
   "execution_count": null,
   "id": "4dcd810e",
   "metadata": {},
   "outputs": [],
   "source": []
  },
  {
   "cell_type": "code",
   "execution_count": null,
   "id": "c345ff63",
   "metadata": {},
   "outputs": [],
   "source": []
  },
  {
   "cell_type": "code",
   "execution_count": null,
   "id": "8ba5cc87",
   "metadata": {},
   "outputs": [],
   "source": []
  },
  {
   "cell_type": "code",
   "execution_count": null,
   "id": "19868197",
   "metadata": {},
   "outputs": [],
   "source": []
  },
  {
   "cell_type": "code",
   "execution_count": null,
   "id": "53a6e622",
   "metadata": {},
   "outputs": [],
   "source": []
  }
 ],
 "metadata": {
  "kernelspec": {
   "display_name": "Python 3 (ipykernel)",
   "language": "python",
   "name": "python3"
  },
  "language_info": {
   "codemirror_mode": {
    "name": "ipython",
    "version": 3
   },
   "file_extension": ".py",
   "mimetype": "text/x-python",
   "name": "python",
   "nbconvert_exporter": "python",
   "pygments_lexer": "ipython3",
   "version": "3.9.13"
  },
  "toc": {
   "base_numbering": 1,
   "nav_menu": {},
   "number_sections": true,
   "sideBar": true,
   "skip_h1_title": false,
   "title_cell": "Table of Contents",
   "title_sidebar": "Contents",
   "toc_cell": false,
   "toc_position": {},
   "toc_section_display": true,
   "toc_window_display": false
  },
  "varInspector": {
   "cols": {
    "lenName": 16,
    "lenType": 16,
    "lenVar": 40
   },
   "kernels_config": {
    "python": {
     "delete_cmd_postfix": "",
     "delete_cmd_prefix": "del ",
     "library": "var_list.py",
     "varRefreshCmd": "print(var_dic_list())"
    },
    "r": {
     "delete_cmd_postfix": ") ",
     "delete_cmd_prefix": "rm(",
     "library": "var_list.r",
     "varRefreshCmd": "cat(var_dic_list()) "
    }
   },
   "types_to_exclude": [
    "module",
    "function",
    "builtin_function_or_method",
    "instance",
    "_Feature"
   ],
   "window_display": false
  }
 },
 "nbformat": 4,
 "nbformat_minor": 5
}
