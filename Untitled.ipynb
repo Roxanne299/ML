{
 "cells": [
  {
   "cell_type": "code",
   "execution_count": 1,
   "id": "6e94721b",
   "metadata": {},
   "outputs": [],
   "source": [
    "import oss2"
   ]
  },
  {
   "cell_type": "code",
   "execution_count": 2,
   "id": "600b4d29",
   "metadata": {},
   "outputs": [
    {
     "data": {
      "text/plain": [
       "<oss2.models.PutObjectResult at 0x24fdcb91c40>"
      ]
     },
     "execution_count": 2,
     "metadata": {},
     "output_type": "execute_result"
    }
   ],
   "source": [
    "#上传\n",
    "auth = oss2.Auth('PLT35tCOARet2bpptBEWJ4js', 'n2gSHYdHyuhmplJa4WXuiyONu1lIjH')\n",
    "bucket = oss2.Bucket(auth, 'http://oss-cn-hangzhou.aliyuncs.com', 'jiahui1')\n",
    "bucket.put_object_from_file('test.ipynb', 'test.ipynb')"
   ]
  },
  {
   "cell_type": "code",
   "execution_count": 3,
   "id": "3e18f300",
   "metadata": {},
   "outputs": [
    {
     "data": {
      "text/plain": [
       "<oss2.models.GetObjectResult at 0x24fdcb6de50>"
      ]
     },
     "execution_count": 3,
     "metadata": {},
     "output_type": "execute_result"
    }
   ],
   "source": [
    "#下载\n",
    "bucket.get_object_to_file('conda.exe', 'conda.exe')"
   ]
  },
  {
   "cell_type": "code",
   "execution_count": 4,
   "id": "2e6d644f",
   "metadata": {},
   "outputs": [
    {
     "name": "stdout",
     "output_type": "stream",
     "text": [
      "conda.exe\n",
      "test.ipynb\n"
     ]
    }
   ],
   "source": [
    "#列举\n",
    "from itertools import islice\n",
    "for b in islice(oss2.ObjectIterator(bucket), 10):\n",
    "    print(b.key)"
   ]
  },
  {
   "cell_type": "code",
   "execution_count": 5,
   "id": "f531f264",
   "metadata": {},
   "outputs": [
    {
     "data": {
      "text/plain": [
       "<oss2.models.RequestResult at 0x24fdcbd2df0>"
      ]
     },
     "execution_count": 5,
     "metadata": {},
     "output_type": "execute_result"
    }
   ],
   "source": [
    "#删除\n",
    "bucket.delete_object('test.ipynb')"
   ]
  },
  {
   "cell_type": "code",
   "execution_count": null,
   "id": "f9bb6807",
   "metadata": {},
   "outputs": [],
   "source": []
  }
 ],
 "metadata": {
  "kernelspec": {
   "display_name": "Python 3 (ipykernel)",
   "language": "python",
   "name": "python3"
  },
  "language_info": {
   "codemirror_mode": {
    "name": "ipython",
    "version": 3
   },
   "file_extension": ".py",
   "mimetype": "text/x-python",
   "name": "python",
   "nbconvert_exporter": "python",
   "pygments_lexer": "ipython3",
   "version": "3.9.12"
  }
 },
 "nbformat": 4,
 "nbformat_minor": 5
}
