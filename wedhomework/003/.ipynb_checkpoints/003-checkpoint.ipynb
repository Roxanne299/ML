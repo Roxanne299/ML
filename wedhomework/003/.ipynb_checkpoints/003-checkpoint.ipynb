{
 "cells": [
  {
   "cell_type": "markdown",
   "id": "33d0e5de",
   "metadata": {},
   "source": [
    "# 003使用逻辑回归实现数字识别\n"
   ]
  },
  {
   "cell_type": "code",
   "execution_count": 11,
   "id": "55db1afb",
   "metadata": {},
   "outputs": [],
   "source": [
    "import numpy as np\n",
    "import pandas as pd\n",
    "import matplotlib.pyplot as plt\n",
    "from scipy.io import loadmat"
   ]
  },
  {
   "cell_type": "code",
   "execution_count": 12,
   "id": "3bc90a8f",
   "metadata": {},
   "outputs": [
    {
     "data": {
      "text/plain": [
       "{'__header__': b'MATLAB 5.0 MAT-file, Platform: GLNXA64, Created on: Sun Oct 16 13:09:09 2011',\n",
       " '__version__': '1.0',\n",
       " '__globals__': [],\n",
       " 'X': array([[0., 0., 0., ..., 0., 0., 0.],\n",
       "        [0., 0., 0., ..., 0., 0., 0.],\n",
       "        [0., 0., 0., ..., 0., 0., 0.],\n",
       "        ...,\n",
       "        [0., 0., 0., ..., 0., 0., 0.],\n",
       "        [0., 0., 0., ..., 0., 0., 0.],\n",
       "        [0., 0., 0., ..., 0., 0., 0.]]),\n",
       " 'y': array([[10],\n",
       "        [10],\n",
       "        [10],\n",
       "        ...,\n",
       "        [ 9],\n",
       "        [ 9],\n",
       "        [ 9]], dtype=uint8)}"
      ]
     },
     "execution_count": 12,
     "metadata": {},
     "output_type": "execute_result"
    }
   ],
   "source": [
    "data = loadmat(\"ex3data1.mat\")\n",
    "data"
   ]
  },
  {
   "cell_type": "code",
   "execution_count": null,
   "id": "18c17a85",
   "metadata": {},
   "outputs": [],
   "source": []
  },
  {
   "cell_type": "code",
   "execution_count": 21,
   "id": "ba811659",
   "metadata": {},
   "outputs": [],
   "source": [
    "def sigmoid(z):\n",
    "    return 1 / (1 + np.exp(-z))"
   ]
  },
  {
   "cell_type": "code",
   "execution_count": 26,
   "id": "2e146bf2",
   "metadata": {},
   "outputs": [],
   "source": [
    "def cost(theta,X,y,learningRate):\n",
    "    theta = np.matrix(theta)\n",
    "    X = np.matrix(X)\n",
    "    y = np.matrix(y)\n",
    "    first = np.multiply(-y,np.log(sigmoid(X*theta.T)))\n",
    "    second = np.multiply((1-y),np.log(1-sigmoid(X*theta.T)))\n",
    "    reg = (learningRate/X.shape[0]*2)*np.sum(np.power(theta[:,1:],2))\n",
    "    return np.sum(first-second)/X.shape[0] + reg"
   ]
  },
  {
   "cell_type": "code",
   "execution_count": 37,
   "id": "2414aaa9",
   "metadata": {},
   "outputs": [],
   "source": [
    "def gradient(theta,X,y,learningRate):\n",
    "    theta = np.matrix(theta)\n",
    "    X = np.matrix(X)\n",
    "    y = np.matrix(y)\n",
    "    parameters = int(theta.ravel().shape[1])\n",
    "    error = sigmoid(X*theta.T) - y\n",
    "    grad = ((X.T * error)/X.shape[0]).T + ((learningRate/X.shape[0])*theta)\n",
    "    grad[0,0] = np.sum(np.multiply(error,X[:,0]))/X.shape[0]\n",
    "    print(grad)\n",
    "    return np.array(grad).ravel()"
   ]
  },
  {
   "cell_type": "code",
   "execution_count": 42,
   "id": "c461a4d5",
   "metadata": {},
   "outputs": [],
   "source": [
    "from scipy.optimize import minimize\n",
    "\n",
    "def one_vs_all(X,y,num_label,learning_rate):\n",
    "    rows = X.shape[0]\n",
    "    params = X.shape[1]\n",
    "    \n",
    "    all_theta = np.zeros((num_label,params+1))\n",
    "    \n",
    "    X = np.insert(X,0,values=np.ones(rows),axis=1)\n",
    "    \n",
    "    for i in range(1,num_label+1):\n",
    "        theta = np.zeros(params+1)\n",
    "        y_i = np.array([1 if label == i else 0 for label in y])\n",
    "        y_i = np.reshape(y_i,(rows,1))\n",
    "        \n",
    "        fmin = minimize(fun=cost,x0 = theta,args=(X,y_i,learning_rate),method='TNC',jac=gradient)\n",
    "        all_theta[i-1,:] = fmin.x\n",
    "    return all_theta"
   ]
  },
  {
   "cell_type": "code",
   "execution_count": 43,
   "id": "d99a1724",
   "metadata": {},
   "outputs": [
    {
     "data": {
      "text/plain": [
       "array([[-1.45298497e+00,  0.00000000e+00,  0.00000000e+00, ...,\n",
       "         4.19670873e-04,  1.94521356e-07,  0.00000000e+00],\n",
       "       [-2.68654029e+00,  0.00000000e+00,  0.00000000e+00, ...,\n",
       "         1.87871158e-03, -2.16956381e-04,  0.00000000e+00],\n",
       "       [-3.74407791e+00,  0.00000000e+00,  0.00000000e+00, ...,\n",
       "        -2.16930736e-05,  2.33500231e-08,  0.00000000e+00],\n",
       "       ...,\n",
       "       [-7.26956876e+00,  0.00000000e+00,  0.00000000e+00, ...,\n",
       "        -5.54205881e-05,  4.26809733e-06,  0.00000000e+00],\n",
       "       [-4.19028790e+00,  0.00000000e+00,  0.00000000e+00, ...,\n",
       "        -2.37149959e-04,  1.40038556e-05,  0.00000000e+00],\n",
       "       [-2.65202139e+00,  0.00000000e+00,  0.00000000e+00, ...,\n",
       "         9.55090059e-05,  7.40278604e-06,  0.00000000e+00]])"
      ]
     },
     "execution_count": 43,
     "metadata": {},
     "output_type": "execute_result"
    }
   ],
   "source": [
    "all_theta = one_vs_all(data['X'],data['y'],10,1)\n",
    "all_theta"
   ]
  },
  {
   "cell_type": "code",
   "execution_count": 45,
   "id": "f383a823",
   "metadata": {},
   "outputs": [],
   "source": [
    "def predict_all(X, all_theta):\n",
    "    rows = X.shape[0]\n",
    "    params = X.shape[1]\n",
    "    num_labels = all_theta.shape[0]\n",
    "    \n",
    "    # same as before, insert ones to match the shape\n",
    "    X = np.insert(X, 0, values=np.ones(rows), axis=1)\n",
    "    \n",
    "    # convert to matrices\n",
    "    X = np.matrix(X)\n",
    "    all_theta = np.matrix(all_theta)\n",
    "    \n",
    "    # compute the class probability for each class on each training instance\n",
    "    h = sigmoid(X * all_theta.T)\n",
    "    \n",
    "    # create array of the index with the maximum probability\n",
    "    h_argmax = np.argmax(h, axis=1)\n",
    "    \n",
    "    # because our array was zero-indexed we need to add one for the true label prediction\n",
    "    h_argmax = h_argmax + 1\n",
    "    \n",
    "    return h_argmax"
   ]
  },
  {
   "cell_type": "code",
   "execution_count": 46,
   "id": "3046694c",
   "metadata": {},
   "outputs": [
    {
     "name": "stdout",
     "output_type": "stream",
     "text": [
      "accuracy = 93.16%\n"
     ]
    }
   ],
   "source": [
    "y_pred = predict_all(data['X'], all_theta)\n",
    "correct = [1 if a == b else 0 for (a, b) in zip(y_pred, data['y'])]\n",
    "accuracy = (sum(map(int, correct)) / float(len(correct)))\n",
    "print ('accuracy = {0}%'.format(accuracy * 100))"
   ]
  },
  {
   "cell_type": "code",
   "execution_count": 51,
   "id": "6dd8eae4",
   "metadata": {},
   "outputs": [
    {
     "data": {
      "text/plain": [
       "matrix([[2, 2, 3]])"
      ]
     },
     "execution_count": 51,
     "metadata": {},
     "output_type": "execute_result"
    }
   ],
   "source": [
    "a = np.matrix([1,2,3])\n",
    "a[0,0] = 2\n",
    "a"
   ]
  },
  {
   "cell_type": "markdown",
   "id": "bbed298a",
   "metadata": {},
   "source": [
    "# 神经网络"
   ]
  },
  {
   "cell_type": "code",
   "execution_count": 2,
   "id": "72ab17e9",
   "metadata": {},
   "outputs": [],
   "source": [
    "import numpy as np\n",
    "import pandas as pd\n",
    "import matplotlib.pyplot as plt\n",
    "from scipy.io import loadmat"
   ]
  },
  {
   "cell_type": "code",
   "execution_count": 11,
   "id": "749a9b44",
   "metadata": {},
   "outputs": [
    {
     "name": "stdout",
     "output_type": "stream",
     "text": [
      "(25, 401) (10, 26)\n",
      "[[-2.25623899e-02 -1.05624163e-08  2.19414684e-09 ... -1.30529929e-05\n",
      "  -5.04175101e-06  2.80464449e-09]\n",
      " [-9.83811294e-02  7.66168682e-09 -9.75873689e-09 ... -5.60134007e-05\n",
      "   2.00940969e-07  3.54422854e-09]\n",
      " [ 1.16156052e-01 -8.77654466e-09  8.16037764e-09 ... -1.20951657e-04\n",
      "  -2.33669661e-06 -7.50668099e-09]\n",
      " ...\n",
      " [-1.83220638e-01 -8.89272060e-09 -9.81968100e-09 ...  2.35311186e-05\n",
      "  -3.25484493e-06  9.02499060e-09]\n",
      " [-7.02096331e-01  3.05178374e-10  2.56061008e-09 ... -8.61759744e-04\n",
      "   9.43449909e-05  3.83761998e-09]\n",
      " [-3.50933229e-01  8.85876862e-09 -6.57515140e-10 ... -1.80365926e-06\n",
      "  -8.14464807e-06  8.79454531e-09]] [[-0.76100352 -1.21244498 -0.10187131 -2.36850085 -1.05778129 -2.20823629\n",
      "   0.56383834  1.21105294  2.21030997  0.44456156 -1.18244872  1.04289112\n",
      "  -1.60558756  1.30419943  1.37175046  1.74825095 -0.23365648 -1.52014483\n",
      "   1.15324176  0.10368082 -0.37207719 -0.61530019 -0.1256836  -2.27193038\n",
      "  -0.71836208 -1.29690315]\n",
      " [-0.61785176  0.61559207 -1.26550639  1.85745418 -0.91853319 -0.05502589\n",
      "  -0.38589806  1.29520853 -1.56843297 -0.97026419 -2.18334895 -2.85033578\n",
      "  -2.07733086  1.63163164  0.3490229   1.82789117 -2.44174379 -0.8563034\n",
      "  -0.2982564  -2.07947873 -1.2933238   0.89982032  0.28306578  2.31180525\n",
      "  -2.46444086  1.45656548]\n",
      " [-0.68934072 -1.94538151  2.01360618 -3.12316188 -0.2361763   1.38680947\n",
      "   0.90982429 -1.54774416 -0.79830896 -0.65599834  0.7353833  -2.58593294\n",
      "   0.47210839  0.55349499  2.51255453 -2.4167454  -1.63898627  1.2027302\n",
      "  -1.20245851 -1.83445959 -1.88013027 -0.34056098  0.23692483 -1.06137919\n",
      "   1.02759232 -0.47690832]\n",
      " [-0.67832479  0.46299226  0.58492321 -0.1650184   1.93264192 -0.22965765\n",
      "  -1.84731492  0.49011768  1.07146054 -3.31905643  1.54113507  0.37371947\n",
      "  -0.86484681 -2.58273522  0.97062447 -0.51021867 -0.68427897 -1.64713607\n",
      "   0.21153145 -0.27422442  1.72599755  1.32418658 -2.63984479 -0.08055871\n",
      "  -2.03510803 -1.46123776]\n",
      " [-0.59664339 -2.04481799  2.05698407  1.95100909  0.17637699 -2.16141218\n",
      "  -0.40394736  1.80157532 -1.56278739 -0.25253004  0.23586497  0.71656699\n",
      "   1.07689092 -0.35457279 -1.67743058 -0.12939255 -0.67488849  1.14066535\n",
      "   1.32431237  3.21158484 -2.15888898 -2.60164082 -3.2226466  -1.89612906\n",
      "  -0.87488068  2.51038628]\n",
      " [-0.87794907  0.4344112  -0.93161049  0.18390778 -0.36078216  0.61958137\n",
      "   0.38624948 -2.65150343  2.29710773 -2.08818098 -1.86382323  1.06057836\n",
      "   0.77562146  2.1346861  -1.14973702 -0.52081426  0.99743429 -1.48309353\n",
      "  -2.3139424   0.29517333 -0.38704879 -2.20607697  0.30702191 -1.17646114\n",
      "  -1.63462966 -0.82467661]\n",
      " [-0.52746527  1.21564288 -1.50095981 -2.03195359 -1.52366734 -2.43732079\n",
      "  -2.37570311 -1.39987277 -0.88735315 -0.63278873  1.50450176 -1.580763\n",
      "   0.58599217 -0.77540416  0.94257331  2.10919653  0.54479132  0.43773612\n",
      "  -1.28024228 -0.04360994  1.4774997  -1.13276949 -0.72846904  0.04734716\n",
      "   1.6574566   1.68540944]\n",
      " [-0.7490154  -0.72249056 -3.15228173  0.36577778  0.19811362 -0.73059946\n",
      "   1.65263918 -2.300357   -1.87468162  0.98095387 -1.58825159  1.35434142\n",
      "   2.17895331 -1.99239762 -2.00371362 -0.388613   -2.33992976 -2.91719062\n",
      "   0.99398645 -2.70476768 -1.27139772  1.86091461 -1.20519404 -0.38014194\n",
      "   0.7087181  -2.11014003]\n",
      " [-0.6665468   0.53601845  1.30307573 -1.03372714 -4.03084753  0.58173469\n",
      "  -2.65717902  0.80379994 -1.09241928  2.49910058  0.362008    0.66195337\n",
      "  -0.92160534 -0.83123666 -2.00200952 -2.94897501  0.64564202 -1.10114694\n",
      "   0.74510309  0.58506717 -1.99545251  0.62591105  1.80596103 -0.22309315\n",
      "  -1.40442136 -2.1319153 ]\n",
      " [-0.46089119 -1.43944954 -1.21809509  0.71093011  0.45216919 -0.35953381\n",
      "   0.62284954 -0.67005297 -0.7069138   0.06311351 -1.23199074 -1.74645233\n",
      "  -2.71960897 -2.21437178 -1.69307505 -0.90927394  0.87852311  1.18664814\n",
      "  -1.87041262  0.39796295  1.72113872 -1.36934055  0.8580668  -0.24779579\n",
      "   1.28009118 -1.32752042]]\n"
     ]
    }
   ],
   "source": [
    "data = loadmat(\"ex3weights.mat\")\n",
    "print(data['Theta1'].shape,data['Theta2'].shape)\n",
    "theta1,theta2 = data[\"Theta1\"],data[\"Theta2\"]\n",
    "print(theta1,theta2)"
   ]
  },
  {
   "cell_type": "code",
   "execution_count": 17,
   "id": "2fe52f30",
   "metadata": {},
   "outputs": [
    {
     "data": {
      "text/plain": [
       "matrix([[10],\n",
       "        [10],\n",
       "        [10],\n",
       "        ...,\n",
       "        [ 9],\n",
       "        [ 9],\n",
       "        [ 9]], dtype=uint8)"
      ]
     },
     "execution_count": 17,
     "metadata": {},
     "output_type": "execute_result"
    }
   ],
   "source": [
    "data1 = loadmat(\"ex3data1.mat\")\n",
    "x2 = np.matrix(np.insert(data1['X'],0,values=np.ones(data1['X'].shape[0]),axis=1))\n",
    "y2 = np.matrix(data1[\"y\"])"
   ]
  },
  {
   "cell_type": "code",
   "execution_count": 20,
   "id": "dd88f736",
   "metadata": {},
   "outputs": [
    {
     "data": {
      "text/plain": [
       "(5000, 25)"
      ]
     },
     "execution_count": 20,
     "metadata": {},
     "output_type": "execute_result"
    }
   ],
   "source": [
    "z2 = x2*theta1.T\n",
    "z2.shape"
   ]
  },
  {
   "cell_type": "code",
   "execution_count": 22,
   "id": "25656a1d",
   "metadata": {},
   "outputs": [
    {
     "data": {
      "text/plain": [
       "matrix([[5.03618685e-02, 7.93957162e-02, 9.93001966e-01, ...,\n",
       "         9.72517962e-01, 9.43421623e-01, 1.07213787e-01],\n",
       "        [8.05782163e-03, 5.10486829e-02, 9.33671593e-01, ...,\n",
       "         8.91385592e-01, 9.90982126e-01, 5.94701645e-02],\n",
       "        [1.41949887e-02, 2.44354705e-02, 9.97518887e-01, ...,\n",
       "         8.24334311e-01, 9.56466386e-01, 8.86760824e-02],\n",
       "        ...,\n",
       "        [2.96781175e-01, 7.32901746e-01, 1.57724076e-01, ...,\n",
       "         8.60396828e-01, 3.98474223e-02, 1.51177198e-01],\n",
       "        [8.51205095e-01, 3.58434539e-01, 1.83675450e-01, ...,\n",
       "         9.84854863e-01, 2.75399966e-01, 4.35605471e-02],\n",
       "        [9.72262381e-01, 5.48598771e-06, 9.93379633e-01, ...,\n",
       "         9.99235749e-01, 8.96120297e-01, 5.00966928e-02]])"
      ]
     },
     "execution_count": 22,
     "metadata": {},
     "output_type": "execute_result"
    }
   ],
   "source": [
    "a2 = sigmoid(z2)\n",
    "a2"
   ]
  },
  {
   "cell_type": "code",
   "execution_count": 26,
   "id": "6772cfdf",
   "metadata": {},
   "outputs": [
    {
     "data": {
      "text/plain": [
       "matrix([[1.19074037e-22, 2.22770953e-02, 9.99261841e-01, ...,\n",
       "         1.00000000e+00, 9.99999523e-01, 1.00000000e+00],\n",
       "        [6.71283142e-16, 9.48599371e-07, 9.99999993e-01, ...,\n",
       "         1.00000000e+00, 9.99942774e-01, 1.00000000e+00],\n",
       "        [1.69852311e-23, 2.57677044e-01, 9.99999995e-01, ...,\n",
       "         1.00000000e+00, 9.99995348e-01, 1.00000000e+00],\n",
       "        ...,\n",
       "        [3.05292555e-02, 1.99939993e-03, 9.99999999e-01, ...,\n",
       "         1.00000000e+00, 1.00000000e+00, 1.37969710e-17],\n",
       "        [5.94986692e-18, 4.14108668e-15, 2.60844525e-09, ...,\n",
       "         1.00000000e+00, 1.00000000e+00, 2.37064998e-08],\n",
       "        [3.31353469e-29, 9.99983989e-01, 2.59657255e-23, ...,\n",
       "         1.00000000e+00, 1.00000000e+00, 1.00000000e+00]])"
      ]
     },
     "execution_count": 26,
     "metadata": {},
     "output_type": "execute_result"
    }
   ],
   "source": [
    "x3 = np.insert(z2,0,values=np.ones(z2.shape[0]),axis=1)\n",
    "z3 = x3*theta2.T\n",
    "a3 = sigmoid(z3)\n",
    "a3"
   ]
  },
  {
   "cell_type": "code",
   "execution_count": 27,
   "id": "01e5a10b",
   "metadata": {},
   "outputs": [
    {
     "data": {
      "text/plain": [
       "matrix([[10],\n",
       "        [10],\n",
       "        [ 8],\n",
       "        ...,\n",
       "        [ 9],\n",
       "        [ 8],\n",
       "        [ 8]], dtype=int64)"
      ]
     },
     "execution_count": 27,
     "metadata": {},
     "output_type": "execute_result"
    }
   ],
   "source": [
    "y_predict = np.argmax(a3,axis=1)+1\n",
    "y_predict"
   ]
  },
  {
   "cell_type": "code",
   "execution_count": 30,
   "id": "7f03a691",
   "metadata": {},
   "outputs": [
    {
     "name": "stdout",
     "output_type": "stream",
     "text": [
      "              precision    recall  f1-score   support\n",
      "\n",
      "           1       1.00      0.60      0.75       500\n",
      "           2       0.70      0.88      0.78       500\n",
      "           3       0.68      0.91      0.78       500\n",
      "           4       0.93      0.85      0.89       500\n",
      "           5       0.94      0.32      0.48       500\n",
      "           6       0.90      0.84      0.87       500\n",
      "           7       0.98      0.75      0.85       500\n",
      "           8       0.29      0.85      0.43       500\n",
      "           9       0.82      0.42      0.56       500\n",
      "          10       0.94      0.36      0.52       500\n",
      "\n",
      "    accuracy                           0.68      5000\n",
      "   macro avg       0.82      0.68      0.69      5000\n",
      "weighted avg       0.82      0.68      0.69      5000\n",
      "\n"
     ]
    }
   ],
   "source": [
    "from sklearn.metrics import classification_report#这个包是评价报告\n",
    "print(classification_report(y2, y_predict))"
   ]
  },
  {
   "cell_type": "code",
   "execution_count": null,
   "id": "d982d083",
   "metadata": {},
   "outputs": [],
   "source": []
  },
  {
   "cell_type": "code",
   "execution_count": null,
   "id": "91702b30",
   "metadata": {},
   "outputs": [],
   "source": []
  },
  {
   "cell_type": "code",
   "execution_count": null,
   "id": "98709e40",
   "metadata": {},
   "outputs": [],
   "source": []
  },
  {
   "cell_type": "code",
   "execution_count": null,
   "id": "78d1d078",
   "metadata": {},
   "outputs": [],
   "source": []
  },
  {
   "cell_type": "code",
   "execution_count": null,
   "id": "8ca74d99",
   "metadata": {},
   "outputs": [],
   "source": []
  },
  {
   "cell_type": "code",
   "execution_count": null,
   "id": "2a52a431",
   "metadata": {},
   "outputs": [],
   "source": []
  },
  {
   "cell_type": "code",
   "execution_count": null,
   "id": "c38ada87",
   "metadata": {},
   "outputs": [],
   "source": []
  },
  {
   "cell_type": "code",
   "execution_count": null,
   "id": "51525d80",
   "metadata": {},
   "outputs": [],
   "source": []
  },
  {
   "cell_type": "code",
   "execution_count": null,
   "id": "3a08dbb4",
   "metadata": {},
   "outputs": [],
   "source": []
  },
  {
   "cell_type": "code",
   "execution_count": null,
   "id": "02a238d8",
   "metadata": {},
   "outputs": [],
   "source": []
  },
  {
   "cell_type": "code",
   "execution_count": null,
   "id": "cecf4f1c",
   "metadata": {},
   "outputs": [],
   "source": []
  },
  {
   "cell_type": "code",
   "execution_count": null,
   "id": "75a77415",
   "metadata": {},
   "outputs": [],
   "source": []
  },
  {
   "cell_type": "code",
   "execution_count": null,
   "id": "a49fa072",
   "metadata": {},
   "outputs": [],
   "source": []
  },
  {
   "cell_type": "code",
   "execution_count": null,
   "id": "e0a8af5f",
   "metadata": {},
   "outputs": [],
   "source": []
  },
  {
   "cell_type": "code",
   "execution_count": null,
   "id": "a0d41cc3",
   "metadata": {},
   "outputs": [],
   "source": []
  },
  {
   "cell_type": "code",
   "execution_count": null,
   "id": "6eb26eb0",
   "metadata": {},
   "outputs": [],
   "source": []
  },
  {
   "cell_type": "code",
   "execution_count": null,
   "id": "b536e2c9",
   "metadata": {},
   "outputs": [],
   "source": []
  }
 ],
 "metadata": {
  "kernelspec": {
   "display_name": "Python 3 (ipykernel)",
   "language": "python",
   "name": "python3"
  },
  "language_info": {
   "codemirror_mode": {
    "name": "ipython",
    "version": 3
   },
   "file_extension": ".py",
   "mimetype": "text/x-python",
   "name": "python",
   "nbconvert_exporter": "python",
   "pygments_lexer": "ipython3",
   "version": "3.9.12"
  }
 },
 "nbformat": 4,
 "nbformat_minor": 5
}
