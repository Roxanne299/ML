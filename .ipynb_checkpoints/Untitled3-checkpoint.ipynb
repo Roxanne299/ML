{
 "cells": [
  {
   "cell_type": "code",
   "execution_count": 1,
   "id": "6afd818e",
   "metadata": {
    "ExecuteTime": {
     "end_time": "2022-10-19T14:19:12.630152Z",
     "start_time": "2022-10-19T14:19:12.473917Z"
    }
   },
   "outputs": [],
   "source": [
    "from thrift.transport import TSocket\n",
    "from hbase import Hbase\n",
    "from hbase.ttypes import *"
   ]
  },
  {
   "cell_type": "code",
   "execution_count": 2,
   "id": "bf71fb8a",
   "metadata": {
    "ExecuteTime": {
     "end_time": "2022-10-19T14:19:14.605754Z",
     "start_time": "2022-10-19T14:19:14.556552Z"
    }
   },
   "outputs": [],
   "source": [
    "# 建立连接\n",
    "transport = TSocket.TSocket('110.41.23.127', 9090)\n",
    "protocol = TBinaryProtocol.TBinaryProtocol(transport)\n",
    "client = Hbase.Client(protocol)\n",
    "transport.open()"
   ]
  },
  {
   "cell_type": "code",
   "execution_count": 3,
   "id": "b6be3f6f",
   "metadata": {
    "ExecuteTime": {
     "end_time": "2022-10-19T14:19:17.184956Z",
     "start_time": "2022-10-19T14:19:16.406345Z"
    }
   },
   "outputs": [],
   "source": [
    "#创建表 插入记录\n",
    "contents = ColumnDescriptor(name='info:', maxVersions=1)\n",
    "client.createTable('movie', [contents])\n",
    "row = 'key'\n",
    "mutations = [Mutation(column=\"info:moviename\", value=\"transformers\"),Mutation(column=\"info:time\", value=\"120\")]\n",
    "client.mutateRow('movie', row, mutations)"
   ]
  },
  {
   "cell_type": "code",
   "execution_count": 4,
   "id": "92aa7554",
   "metadata": {
    "ExecuteTime": {
     "end_time": "2022-10-19T14:19:18.752683Z",
     "start_time": "2022-10-19T14:19:18.638624Z"
    }
   },
   "outputs": [
    {
     "name": "stdout",
     "output_type": "stream",
     "text": [
      "the row is  key\n",
      "the moviename is  transformers\n",
      "the time is  120\n"
     ]
    }
   ],
   "source": [
    "#列举记录\n",
    "tableName = 'movie'\n",
    "rowKey = 'key'\n",
    "result = client.getRow(tableName, rowKey)\n",
    "for r in result:\n",
    "    print ('the row is ', r.row)\n",
    "    print ('the moviename is ', r.columns.get('info:moviename').value)\n",
    "    print ('the time is ', r.columns.get('info:time').value)"
   ]
  },
  {
   "cell_type": "code",
   "execution_count": 5,
   "id": "8e937382",
   "metadata": {
    "ExecuteTime": {
     "end_time": "2022-10-19T14:19:48.802225Z",
     "start_time": "2022-10-19T14:19:48.683637Z"
    }
   },
   "outputs": [],
   "source": [
    "#删除记录\n",
    "client.deleteAllRow('movie','key')"
   ]
  },
  {
   "cell_type": "code",
   "execution_count": null,
   "id": "c1964c7d",
   "metadata": {},
   "outputs": [],
   "source": []
  },
  {
   "cell_type": "code",
   "execution_count": null,
   "id": "03677c42",
   "metadata": {},
   "outputs": [],
   "source": []
  },
  {
   "cell_type": "code",
   "execution_count": null,
   "id": "ab3970d2",
   "metadata": {},
   "outputs": [],
   "source": []
  },
  {
   "cell_type": "code",
   "execution_count": null,
   "id": "cbbedece",
   "metadata": {},
   "outputs": [],
   "source": []
  }
 ],
 "metadata": {
  "kernelspec": {
   "display_name": "Python 3 (ipykernel)",
   "language": "python",
   "name": "python3"
  },
  "language_info": {
   "codemirror_mode": {
    "name": "ipython",
    "version": 3
   },
   "file_extension": ".py",
   "mimetype": "text/x-python",
   "name": "python",
   "nbconvert_exporter": "python",
   "pygments_lexer": "ipython3",
   "version": "3.9.13"
  },
  "toc": {
   "base_numbering": 1,
   "nav_menu": {},
   "number_sections": true,
   "sideBar": true,
   "skip_h1_title": false,
   "title_cell": "Table of Contents",
   "title_sidebar": "Contents",
   "toc_cell": false,
   "toc_position": {},
   "toc_section_display": true,
   "toc_window_display": false
  },
  "varInspector": {
   "cols": {
    "lenName": 16,
    "lenType": 16,
    "lenVar": 40
   },
   "kernels_config": {
    "python": {
     "delete_cmd_postfix": "",
     "delete_cmd_prefix": "del ",
     "library": "var_list.py",
     "varRefreshCmd": "print(var_dic_list())"
    },
    "r": {
     "delete_cmd_postfix": ") ",
     "delete_cmd_prefix": "rm(",
     "library": "var_list.r",
     "varRefreshCmd": "cat(var_dic_list()) "
    }
   },
   "types_to_exclude": [
    "module",
    "function",
    "builtin_function_or_method",
    "instance",
    "_Feature"
   ],
   "window_display": false
  }
 },
 "nbformat": 4,
 "nbformat_minor": 5
}
