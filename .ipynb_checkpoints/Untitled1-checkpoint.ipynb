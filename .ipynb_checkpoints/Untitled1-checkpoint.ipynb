{
 "cells": [
  {
   "cell_type": "code",
   "execution_count": 2,
   "id": "40b802a2",
   "metadata": {
    "ExecuteTime": {
     "end_time": "2022-10-18T09:34:11.252575Z",
     "start_time": "2022-10-18T09:34:08.220511Z"
    }
   },
   "outputs": [
    {
     "name": "stdout",
     "output_type": "stream",
     "text": [
      "Looking in indexes: https://pypi.douban.com/simple/\n",
      "Collecting hbase-thrift\n",
      "  Downloading https://pypi.doubanio.com/packages/89/f7/dbb6c764bb909ed361c255828701228d8c9867d541cfef84127e6f3704cc/hbase-thrift-0.20.4.tar.gz (17 kB)\n",
      "  Preparing metadata (setup.py): started\n",
      "  Preparing metadata (setup.py): finished with status 'done'\n",
      "Requirement already satisfied: Thrift in d:\\bin\\python\\lib\\site-packages (from hbase-thrift) (0.16.0)\n",
      "Requirement already satisfied: six>=1.7.2 in d:\\bin\\python\\lib\\site-packages (from Thrift->hbase-thrift) (1.16.0)\n",
      "Using legacy 'setup.py install' for hbase-thrift, since package 'wheel' is not installed.\n",
      "Installing collected packages: hbase-thrift\n",
      "  Running setup.py install for hbase-thrift: started\n",
      "  Running setup.py install for hbase-thrift: finished with status 'done'\n",
      "Successfully installed hbase-thrift-0.20.4\n",
      "Note: you may need to restart the kernel to use updated packages.\n"
     ]
    },
    {
     "name": "stderr",
     "output_type": "stream",
     "text": [
      "\n",
      "[notice] A new release of pip available: 22.2.2 -> 22.3\n",
      "[notice] To update, run: python.exe -m pip install --upgrade pip\n"
     ]
    }
   ],
   "source": [
    "pip install hbase-thrift"
   ]
  },
  {
   "cell_type": "code",
   "execution_count": 1,
   "id": "656be48f",
   "metadata": {
    "ExecuteTime": {
     "end_time": "2022-10-18T11:03:32.862077Z",
     "start_time": "2022-10-18T11:03:32.411908Z"
    }
   },
   "outputs": [],
   "source": [
    "from thrift.transport import TSocket\n",
    "from hbase import Hbase\n",
    "from hbase.ttypes import *"
   ]
  },
  {
   "cell_type": "code",
   "execution_count": 9,
   "id": "fa817d8f",
   "metadata": {
    "ExecuteTime": {
     "end_time": "2022-10-18T11:05:48.425923Z",
     "start_time": "2022-10-18T11:05:48.367437Z"
    },
    "scrolled": true
   },
   "outputs": [],
   "source": [
    "# 建立连接\n",
    "transport = TSocket.TSocket('39.101.133.42', 9090)\n",
    "protocol = TBinaryProtocol.TBinaryProtocol(transport)\n",
    "client = Hbase.Client(protocol)\n",
    "transport.open()"
   ]
  },
  {
   "cell_type": "code",
   "execution_count": 60,
   "id": "edc1053a",
   "metadata": {
    "ExecuteTime": {
     "end_time": "2022-10-18T10:55:37.529933Z",
     "start_time": "2022-10-18T10:55:36.598388Z"
    }
   },
   "outputs": [],
   "source": [
    "#创建表 插入记录\n",
    "contents = ColumnDescriptor(name='info:', maxVersions=1)\n",
    "client.createTable('student', [contents])\n",
    "row = '1'\n",
    "mutations = [Mutation(column=\"info:name\", value=\"zgy\"),Mutation(column=\"info:age\", value=\"14\")]\n",
    "client.mutateRow('student', row, mutations)"
   ]
  },
  {
   "cell_type": "code",
   "execution_count": 64,
   "id": "c60b4ddc",
   "metadata": {
    "ExecuteTime": {
     "end_time": "2022-10-18T10:58:09.850256Z",
     "start_time": "2022-10-18T10:58:09.751688Z"
    }
   },
   "outputs": [
    {
     "name": "stdout",
     "output_type": "stream",
     "text": [
      "['student', 'test', 'test1', 'test2', 'test4']\n"
     ]
    }
   ],
   "source": [
    "#获取表名\n",
    "print(client.getTableNames())"
   ]
  },
  {
   "cell_type": "code",
   "execution_count": 15,
   "id": "203bdaa5",
   "metadata": {
    "ExecuteTime": {
     "end_time": "2022-10-18T11:07:13.301017Z",
     "start_time": "2022-10-18T11:07:13.173609Z"
    }
   },
   "outputs": [
    {
     "name": "stdout",
     "output_type": "stream",
     "text": [
      "the row is  1\n",
      "the name is  zgy\n",
      "the age is  14\n"
     ]
    }
   ],
   "source": [
    "#列举记录\n",
    "tableName = 'student'\n",
    "rowKey = '1'\n",
    "result = client.getRow(tableName, rowKey)\n",
    "for r in result:\n",
    "    print ('the row is ', r.row)\n",
    "    print ('the name is ', r.columns.get('info:name').value)\n",
    "    print ('the age is ', r.columns.get('info:age').value)"
   ]
  },
  {
   "cell_type": "code",
   "execution_count": 16,
   "id": "4a95c2e1",
   "metadata": {
    "ExecuteTime": {
     "end_time": "2022-10-18T11:10:19.438305Z",
     "start_time": "2022-10-18T11:10:19.082951Z"
    }
   },
   "outputs": [
    {
     "ename": "TTransportException",
     "evalue": "TSocket read 0 bytes",
     "output_type": "error",
     "traceback": [
      "\u001b[1;31m---------------------------------------------------------------------------\u001b[0m",
      "\u001b[1;31mTTransportException\u001b[0m                       Traceback (most recent call last)",
      "Cell \u001b[1;32mIn [16], line 1\u001b[0m\n\u001b[1;32m----> 1\u001b[0m \u001b[43mclient\u001b[49m\u001b[38;5;241;43m.\u001b[39;49m\u001b[43mdeleteAllRow\u001b[49m\u001b[43m(\u001b[49m\u001b[38;5;124;43m'\u001b[39;49m\u001b[38;5;124;43mstudent\u001b[39;49m\u001b[38;5;124;43m'\u001b[39;49m\u001b[43m,\u001b[49m\u001b[38;5;124;43m'\u001b[39;49m\u001b[38;5;124;43m1\u001b[39;49m\u001b[38;5;124;43m'\u001b[39;49m\u001b[43m)\u001b[49m\n\u001b[0;32m      2\u001b[0m tableName \u001b[38;5;241m=\u001b[39m \u001b[38;5;124m'\u001b[39m\u001b[38;5;124mstudent\u001b[39m\u001b[38;5;124m'\u001b[39m\n\u001b[0;32m      3\u001b[0m rowKey \u001b[38;5;241m=\u001b[39m \u001b[38;5;124m'\u001b[39m\u001b[38;5;124m1\u001b[39m\u001b[38;5;124m'\u001b[39m\n",
      "File \u001b[1;32mD:\\bin\\python\\lib\\site-packages\\hbase\\Hbase.py:1556\u001b[0m, in \u001b[0;36mClient.deleteAllRow\u001b[1;34m(self, tableName, row)\u001b[0m\n\u001b[0;32m   1545\u001b[0m \u001b[38;5;124;03m\"\"\"\u001b[39;00m\n\u001b[0;32m   1546\u001b[0m \u001b[38;5;124;03mCompletely delete the row's cells.\u001b[39;00m\n\u001b[0;32m   1547\u001b[0m \u001b[38;5;124;03m\u001b[39;00m\n\u001b[1;32m   (...)\u001b[0m\n\u001b[0;32m   1553\u001b[0m \u001b[38;5;124;03m - row\u001b[39;00m\n\u001b[0;32m   1554\u001b[0m \u001b[38;5;124;03m\"\"\"\u001b[39;00m\n\u001b[0;32m   1555\u001b[0m \u001b[38;5;28mself\u001b[39m\u001b[38;5;241m.\u001b[39msend_deleteAllRow(tableName, row)\n\u001b[1;32m-> 1556\u001b[0m \u001b[38;5;28;43mself\u001b[39;49m\u001b[38;5;241;43m.\u001b[39;49m\u001b[43mrecv_deleteAllRow\u001b[49m\u001b[43m(\u001b[49m\u001b[43m)\u001b[49m\n",
      "File \u001b[1;32mD:\\bin\\python\\lib\\site-packages\\hbase\\Hbase.py:1568\u001b[0m, in \u001b[0;36mClient.recv_deleteAllRow\u001b[1;34m(self)\u001b[0m\n\u001b[0;32m   1567\u001b[0m \u001b[38;5;28;01mdef\u001b[39;00m \u001b[38;5;21mrecv_deleteAllRow\u001b[39m(\u001b[38;5;28mself\u001b[39m, ):\n\u001b[1;32m-> 1568\u001b[0m   (fname, mtype, rseqid) \u001b[38;5;241m=\u001b[39m \u001b[38;5;28;43mself\u001b[39;49m\u001b[38;5;241;43m.\u001b[39;49m\u001b[43m_iprot\u001b[49m\u001b[38;5;241;43m.\u001b[39;49m\u001b[43mreadMessageBegin\u001b[49m\u001b[43m(\u001b[49m\u001b[43m)\u001b[49m\n\u001b[0;32m   1569\u001b[0m   \u001b[38;5;28;01mif\u001b[39;00m mtype \u001b[38;5;241m==\u001b[39m TMessageType\u001b[38;5;241m.\u001b[39mEXCEPTION:\n\u001b[0;32m   1570\u001b[0m     x \u001b[38;5;241m=\u001b[39m TApplicationException()\n",
      "File \u001b[1;32mD:\\bin\\python\\lib\\site-packages\\thrift\\protocol\\TBinaryProtocol.py:134\u001b[0m, in \u001b[0;36mTBinaryProtocol.readMessageBegin\u001b[1;34m(self)\u001b[0m\n\u001b[0;32m    133\u001b[0m \u001b[38;5;28;01mdef\u001b[39;00m \u001b[38;5;21mreadMessageBegin\u001b[39m(\u001b[38;5;28mself\u001b[39m):\n\u001b[1;32m--> 134\u001b[0m     sz \u001b[38;5;241m=\u001b[39m \u001b[38;5;28;43mself\u001b[39;49m\u001b[38;5;241;43m.\u001b[39;49m\u001b[43mreadI32\u001b[49m\u001b[43m(\u001b[49m\u001b[43m)\u001b[49m\n\u001b[0;32m    135\u001b[0m     \u001b[38;5;28;01mif\u001b[39;00m sz \u001b[38;5;241m<\u001b[39m \u001b[38;5;241m0\u001b[39m:\n\u001b[0;32m    136\u001b[0m         version \u001b[38;5;241m=\u001b[39m sz \u001b[38;5;241m&\u001b[39m TBinaryProtocol\u001b[38;5;241m.\u001b[39mVERSION_MASK\n",
      "File \u001b[1;32mD:\\bin\\python\\lib\\site-packages\\thrift\\protocol\\TBinaryProtocol.py:217\u001b[0m, in \u001b[0;36mTBinaryProtocol.readI32\u001b[1;34m(self)\u001b[0m\n\u001b[0;32m    216\u001b[0m \u001b[38;5;28;01mdef\u001b[39;00m \u001b[38;5;21mreadI32\u001b[39m(\u001b[38;5;28mself\u001b[39m):\n\u001b[1;32m--> 217\u001b[0m     buff \u001b[38;5;241m=\u001b[39m \u001b[38;5;28;43mself\u001b[39;49m\u001b[38;5;241;43m.\u001b[39;49m\u001b[43mtrans\u001b[49m\u001b[38;5;241;43m.\u001b[39;49m\u001b[43mreadAll\u001b[49m\u001b[43m(\u001b[49m\u001b[38;5;241;43m4\u001b[39;49m\u001b[43m)\u001b[49m\n\u001b[0;32m    218\u001b[0m     val, \u001b[38;5;241m=\u001b[39m unpack(\u001b[38;5;124m'\u001b[39m\u001b[38;5;124m!i\u001b[39m\u001b[38;5;124m'\u001b[39m, buff)\n\u001b[0;32m    219\u001b[0m     \u001b[38;5;28;01mreturn\u001b[39;00m val\n",
      "File \u001b[1;32mD:\\bin\\python\\lib\\site-packages\\thrift\\transport\\TTransport.py:62\u001b[0m, in \u001b[0;36mTTransportBase.readAll\u001b[1;34m(self, sz)\u001b[0m\n\u001b[0;32m     60\u001b[0m have \u001b[38;5;241m=\u001b[39m \u001b[38;5;241m0\u001b[39m\n\u001b[0;32m     61\u001b[0m \u001b[38;5;28;01mwhile\u001b[39;00m (have \u001b[38;5;241m<\u001b[39m sz):\n\u001b[1;32m---> 62\u001b[0m     chunk \u001b[38;5;241m=\u001b[39m \u001b[38;5;28;43mself\u001b[39;49m\u001b[38;5;241;43m.\u001b[39;49m\u001b[43mread\u001b[49m\u001b[43m(\u001b[49m\u001b[43msz\u001b[49m\u001b[43m \u001b[49m\u001b[38;5;241;43m-\u001b[39;49m\u001b[43m \u001b[49m\u001b[43mhave\u001b[49m\u001b[43m)\u001b[49m\n\u001b[0;32m     63\u001b[0m     chunkLen \u001b[38;5;241m=\u001b[39m \u001b[38;5;28mlen\u001b[39m(chunk)\n\u001b[0;32m     64\u001b[0m     have \u001b[38;5;241m+\u001b[39m\u001b[38;5;241m=\u001b[39m chunkLen\n",
      "File \u001b[1;32mD:\\bin\\python\\lib\\site-packages\\thrift\\transport\\TSocket.py:166\u001b[0m, in \u001b[0;36mTSocket.read\u001b[1;34m(self, sz)\u001b[0m\n\u001b[0;32m    164\u001b[0m         \u001b[38;5;28;01mraise\u001b[39;00m TTransportException(message\u001b[38;5;241m=\u001b[39m\u001b[38;5;124m\"\u001b[39m\u001b[38;5;124munexpected exception\u001b[39m\u001b[38;5;124m\"\u001b[39m, inner\u001b[38;5;241m=\u001b[39me)\n\u001b[0;32m    165\u001b[0m \u001b[38;5;28;01mif\u001b[39;00m \u001b[38;5;28mlen\u001b[39m(buff) \u001b[38;5;241m==\u001b[39m \u001b[38;5;241m0\u001b[39m:\n\u001b[1;32m--> 166\u001b[0m     \u001b[38;5;28;01mraise\u001b[39;00m TTransportException(\u001b[38;5;28mtype\u001b[39m\u001b[38;5;241m=\u001b[39mTTransportException\u001b[38;5;241m.\u001b[39mEND_OF_FILE,\n\u001b[0;32m    167\u001b[0m                               message\u001b[38;5;241m=\u001b[39m\u001b[38;5;124m'\u001b[39m\u001b[38;5;124mTSocket read 0 bytes\u001b[39m\u001b[38;5;124m'\u001b[39m)\n\u001b[0;32m    168\u001b[0m \u001b[38;5;28;01mreturn\u001b[39;00m buff\n",
      "\u001b[1;31mTTransportException\u001b[0m: TSocket read 0 bytes"
     ]
    }
   ],
   "source": [
    "#删除记录\n",
    "client.deleteAllRow('student','1')\n",
    "#检查是否删除\n",
    "tableName = 'student'\n",
    "rowKey = '1'\n",
    "result = client.getRow(tableName, rowKey)\n",
    "for r in result:\n",
    "    print ('the row is ', r.row)\n",
    "    print ('the name is ', r.columns.get('info:name').value)\n",
    "    print ('the age is ', r.columns.get('info:age').value)"
   ]
  },
  {
   "cell_type": "code",
   "execution_count": null,
   "id": "9020d576",
   "metadata": {},
   "outputs": [],
   "source": []
  }
 ],
 "metadata": {
  "kernelspec": {
   "display_name": "Python 3 (ipykernel)",
   "language": "python",
   "name": "python3"
  },
  "language_info": {
   "codemirror_mode": {
    "name": "ipython",
    "version": 3
   },
   "file_extension": ".py",
   "mimetype": "text/x-python",
   "name": "python",
   "nbconvert_exporter": "python",
   "pygments_lexer": "ipython3",
   "version": "3.9.13"
  },
  "toc": {
   "base_numbering": 1,
   "nav_menu": {},
   "number_sections": true,
   "sideBar": true,
   "skip_h1_title": false,
   "title_cell": "Table of Contents",
   "title_sidebar": "Contents",
   "toc_cell": false,
   "toc_position": {},
   "toc_section_display": true,
   "toc_window_display": false
  },
  "varInspector": {
   "cols": {
    "lenName": 16,
    "lenType": 16,
    "lenVar": 40
   },
   "kernels_config": {
    "python": {
     "delete_cmd_postfix": "",
     "delete_cmd_prefix": "del ",
     "library": "var_list.py",
     "varRefreshCmd": "print(var_dic_list())"
    },
    "r": {
     "delete_cmd_postfix": ") ",
     "delete_cmd_prefix": "rm(",
     "library": "var_list.r",
     "varRefreshCmd": "cat(var_dic_list()) "
    }
   },
   "types_to_exclude": [
    "module",
    "function",
    "builtin_function_or_method",
    "instance",
    "_Feature"
   ],
   "window_display": false
  }
 },
 "nbformat": 4,
 "nbformat_minor": 5
}
